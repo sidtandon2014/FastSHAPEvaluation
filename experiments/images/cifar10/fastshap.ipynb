{
 "cells": [
  {
   "cell_type": "code",
   "execution_count": 1,
   "id": "closed-funds",
   "metadata": {},
   "outputs": [
    {
     "name": "stderr",
     "output_type": "stream",
     "text": [
      "/home/sidtandon/Sid/GitRepo/iclr-fastshap/fastshap/.venv/lib/python3.9/site-packages/tqdm/auto.py:22: TqdmWarning: IProgress not found. Please update jupyter and ipywidgets. See https://ipywidgets.readthedocs.io/en/stable/user_install.html\n",
      "  from .autonotebook import tqdm as notebook_tqdm\n",
      "2023-06-15 11:54:14.835083: I tensorflow/core/platform/cpu_feature_guard.cc:193] This TensorFlow binary is optimized with oneAPI Deep Neural Network Library (oneDNN) to use the following CPU instructions in performance-critical operations:  AVX2 FMA\n",
      "To enable them in other operations, rebuild TensorFlow with the appropriate compiler flags.\n",
      "2023-06-15 11:54:16.806268: W tensorflow/compiler/xla/stream_executor/platform/default/dso_loader.cc:64] Could not load dynamic library 'libnvinfer.so.7'; dlerror: libnvinfer.so.7: cannot open shared object file: No such file or directory; LD_LIBRARY_PATH: /usr/local/cuda/lib64:/usr/local/nccl2/lib:/usr/local/cuda/extras/CUPTI/lib64:/usr/lib/mesa-diverted/x86_64-linux-gnu:/usr/lib/x86_64-linux-gnu/mesa:/usr/lib/x86_64-linux-gnu/dri:/usr/lib/x86_64-linux-gnu/gallium-pipe:/usr/local/cuda/lib64:/usr/local/nccl2/lib:/usr/local/cuda/extras/CUPTI/lib64\n",
      "2023-06-15 11:54:16.806501: W tensorflow/compiler/xla/stream_executor/platform/default/dso_loader.cc:64] Could not load dynamic library 'libnvinfer_plugin.so.7'; dlerror: libnvinfer_plugin.so.7: cannot open shared object file: No such file or directory; LD_LIBRARY_PATH: /usr/local/cuda/lib64:/usr/local/nccl2/lib:/usr/local/cuda/extras/CUPTI/lib64:/usr/lib/mesa-diverted/x86_64-linux-gnu:/usr/lib/x86_64-linux-gnu/mesa:/usr/lib/x86_64-linux-gnu/dri:/usr/lib/x86_64-linux-gnu/gallium-pipe:/usr/local/cuda/lib64:/usr/local/nccl2/lib:/usr/local/cuda/extras/CUPTI/lib64\n",
      "2023-06-15 11:54:16.806515: W tensorflow/compiler/tf2tensorrt/utils/py_utils.cc:38] TF-TRT Warning: Cannot dlopen some TensorRT libraries. If you would like to use Nvidia GPU with TensorRT, please make sure the missing libraries mentioned above are installed properly.\n"
     ]
    }
   ],
   "source": [
    "import sys\n",
    "sys.path.insert(0, '../../../fastshap_tf/')\n",
    "from fastshap import ImageFastSHAP, ShapleySampler, ResizeMask"
   ]
  },
  {
   "cell_type": "code",
   "execution_count": 2,
   "id": "comparable-nigeria",
   "metadata": {},
   "outputs": [],
   "source": [
    "import pickle\n",
    "import numpy as np\n",
    "import shap\n",
    "from tqdm.notebook import tqdm\n",
    "import time"
   ]
  },
  {
   "cell_type": "code",
   "execution_count": 3,
   "id": "insured-terminal",
   "metadata": {},
   "outputs": [],
   "source": [
    "import tensorflow as tf\n",
    "from tensorflow.keras.layers import (Input, Layer, Dense, Lambda, Reshape, Multiply)\n",
    "from tensorflow.keras.models import Model, Sequential\n",
    "from tensorflow.keras import regularizers\n",
    "from tensorflow.keras import backend as K\n",
    "from tensorflow.keras.callbacks import ModelCheckpoint, EarlyStopping, ReduceLROnPlateau\n",
    "from tensorflow.keras.layers.experimental.preprocessing import Resizing\n",
    "\n",
    "from tensorflow.keras.datasets import cifar10\n",
    "\n",
    "from datetime import datetime\n",
    "import os"
   ]
  },
  {
   "cell_type": "code",
   "execution_count": 4,
   "id": "understood-insider",
   "metadata": {},
   "outputs": [],
   "source": [
    "#Select GPU\n",
    "os.environ['CUDA_VISIBLE_DEVICES'] = '0'"
   ]
  },
  {
   "cell_type": "code",
   "execution_count": 5,
   "id": "antique-sixth",
   "metadata": {},
   "outputs": [],
   "source": [
    "# IMPORTANT: SET RANDOM SEEDS FOR REPRODUCIBILITY\n",
    "os.environ['PYTHONHASHSEED'] = str(420)\n",
    "import random\n",
    "random.seed(420)\n",
    "np.random.seed(420)\n",
    "tf.random.set_seed(420)"
   ]
  },
  {
   "cell_type": "markdown",
   "id": "unavailable-adobe",
   "metadata": {},
   "source": [
    "## Load Data"
   ]
  },
  {
   "cell_type": "code",
   "execution_count": 6,
   "id": "spanish-backing",
   "metadata": {},
   "outputs": [],
   "source": [
    "BATCH_SIZE = 32\n",
    "EPOCHS = 100\n",
    "LR = 1e-3\n",
    "INPUT_SHAPE = (224, 224, 3)"
   ]
  },
  {
   "cell_type": "code",
   "execution_count": 7,
   "id": "intelligent-guinea",
   "metadata": {
    "ExecuteTime": {
     "end_time": "2021-03-16T19:34:36.732265Z",
     "start_time": "2021-03-16T19:34:36.267950Z"
    },
    "scrolled": false
   },
   "outputs": [
    {
     "name": "stdout",
     "output_type": "stream",
     "text": [
      "50000 train samples\n",
      "5000 val samples\n",
      "5000 test samples\n"
     ]
    },
    {
     "name": "stderr",
     "output_type": "stream",
     "text": [
      "2023-06-15 11:54:19.974369: I tensorflow/compiler/xla/stream_executor/cuda/cuda_gpu_executor.cc:981] successful NUMA node read from SysFS had negative value (-1), but there must be at least one NUMA node, so returning NUMA node zero\n",
      "2023-06-15 11:54:19.986588: I tensorflow/compiler/xla/stream_executor/cuda/cuda_gpu_executor.cc:981] successful NUMA node read from SysFS had negative value (-1), but there must be at least one NUMA node, so returning NUMA node zero\n",
      "2023-06-15 11:54:19.987334: I tensorflow/compiler/xla/stream_executor/cuda/cuda_gpu_executor.cc:981] successful NUMA node read from SysFS had negative value (-1), but there must be at least one NUMA node, so returning NUMA node zero\n",
      "2023-06-15 11:54:19.988545: I tensorflow/core/platform/cpu_feature_guard.cc:193] This TensorFlow binary is optimized with oneAPI Deep Neural Network Library (oneDNN) to use the following CPU instructions in performance-critical operations:  AVX2 FMA\n",
      "To enable them in other operations, rebuild TensorFlow with the appropriate compiler flags.\n",
      "2023-06-15 11:54:19.989906: I tensorflow/compiler/xla/stream_executor/cuda/cuda_gpu_executor.cc:981] successful NUMA node read from SysFS had negative value (-1), but there must be at least one NUMA node, so returning NUMA node zero\n",
      "2023-06-15 11:54:19.990659: I tensorflow/compiler/xla/stream_executor/cuda/cuda_gpu_executor.cc:981] successful NUMA node read from SysFS had negative value (-1), but there must be at least one NUMA node, so returning NUMA node zero\n",
      "2023-06-15 11:54:19.991541: I tensorflow/compiler/xla/stream_executor/cuda/cuda_gpu_executor.cc:981] successful NUMA node read from SysFS had negative value (-1), but there must be at least one NUMA node, so returning NUMA node zero\n",
      "2023-06-15 11:54:20.790146: I tensorflow/compiler/xla/stream_executor/cuda/cuda_gpu_executor.cc:981] successful NUMA node read from SysFS had negative value (-1), but there must be at least one NUMA node, so returning NUMA node zero\n",
      "2023-06-15 11:54:20.791448: I tensorflow/compiler/xla/stream_executor/cuda/cuda_gpu_executor.cc:981] successful NUMA node read from SysFS had negative value (-1), but there must be at least one NUMA node, so returning NUMA node zero\n",
      "2023-06-15 11:54:20.792519: I tensorflow/compiler/xla/stream_executor/cuda/cuda_gpu_executor.cc:981] successful NUMA node read from SysFS had negative value (-1), but there must be at least one NUMA node, so returning NUMA node zero\n",
      "2023-06-15 11:54:20.793359: I tensorflow/core/common_runtime/gpu/gpu_device.cc:1613] Created device /job:localhost/replica:0/task:0/device:GPU:0 with 13034 MB memory:  -> device: 0, name: Tesla T4, pci bus id: 0000:00:04.0, compute capability: 7.5\n"
     ]
    }
   ],
   "source": [
    "from sklearn.model_selection import train_test_split\n",
    "\n",
    "num_classes = 10\n",
    "\n",
    "# the data, split between train and test sets\n",
    "(x_train, y_train), (x_test, y_test) = cifar10.load_data()\n",
    "x_test, x_val, y_test, y_val = train_test_split(x_test, y_test, train_size=0.5, random_state=420)\n",
    "\n",
    "x_train = x_train.astype('float32')\n",
    "x_val = x_val.astype('float32')\n",
    "x_test = x_test.astype('float32')\n",
    "#Resize to 224x224\n",
    "\n",
    "print(x_train.shape[0], 'train samples')\n",
    "print(x_val.shape[0], 'val samples')\n",
    "print(x_test.shape[0], 'test samples')\n",
    "\n",
    "# convert class vectors to binary class matrices\n",
    "y_train = tf.keras.utils.to_categorical(y_train, num_classes)\n",
    "y_val = tf.keras.utils.to_categorical(y_val, num_classes)\n",
    "y_test = tf.keras.utils.to_categorical(y_test, num_classes)\n",
    "\n",
    "# Make TF Dataset\n",
    "ds_train = tf.data.Dataset.from_tensor_slices((x_train, y_train))\n",
    "ds_val = tf.data.Dataset.from_tensor_slices((x_val, y_val))\n",
    "ds_test = tf.data.Dataset.from_tensor_slices((x_test, y_test))"
   ]
  },
  {
   "cell_type": "markdown",
   "id": "young-antibody",
   "metadata": {},
   "source": [
    "### Batch Data"
   ]
  },
  {
   "cell_type": "code",
   "execution_count": 8,
   "id": "mathematical-cartridge",
   "metadata": {
    "ExecuteTime": {
     "end_time": "2021-03-16T19:34:38.036975Z",
     "start_time": "2021-03-16T19:34:38.030145Z"
    }
   },
   "outputs": [],
   "source": [
    "def batch_data(dataset, fn, batch_size=32):\n",
    "    dataset = dataset.map(fn)\n",
    "    dataset = dataset.batch(batch_size)\n",
    "    dataset = dataset.prefetch(tf.data.experimental.AUTOTUNE)\n",
    "    \n",
    "    return dataset"
   ]
  },
  {
   "cell_type": "markdown",
   "id": "electrical-nature",
   "metadata": {},
   "source": [
    "### Reformat Data"
   ]
  },
  {
   "cell_type": "code",
   "execution_count": 9,
   "id": "hungry-master",
   "metadata": {
    "ExecuteTime": {
     "end_time": "2021-03-16T19:34:39.459330Z",
     "start_time": "2021-03-16T19:34:39.356585Z"
    }
   },
   "outputs": [],
   "source": [
    "def reformat(x, y):\n",
    "    \n",
    "    x = tf.cast(x, tf.float32)\n",
    "    x = Resizing(INPUT_SHAPE[0], INPUT_SHAPE[1], interpolation='nearest')(x)\n",
    "    x = tf.keras.applications.resnet50.preprocess_input(x)\n",
    "    \n",
    "    return (x, y)\n",
    "\n",
    "ds_train = batch_data(ds_train, reformat, BATCH_SIZE)\n",
    "ds_val = batch_data(ds_val, reformat, BATCH_SIZE)\n",
    "ds_test = batch_data(ds_test, reformat, BATCH_SIZE)"
   ]
  },
  {
   "cell_type": "markdown",
   "id": "warming-foster",
   "metadata": {},
   "source": [
    "## Load Surrogate Imputer"
   ]
  },
  {
   "cell_type": "code",
   "execution_count": 10,
   "id": "encouraging-digit",
   "metadata": {},
   "outputs": [
    {
     "name": "stdout",
     "output_type": "stream",
     "text": [
      "Use alpha and beta\n",
      "WARNING:tensorflow:From /home/sidtandon/Sid/GitRepo/iclr-fastshap/fastshap/.venv/lib/python3.9/site-packages/tensorflow/python/autograph/pyct/static_analysis/liveness.py:83: Analyzer.lamba_check (from tensorflow.python.autograph.pyct.static_analysis.liveness) is deprecated and will be removed after 2023-09-23.\n",
      "Instructions for updating:\n",
      "Lambda fuctions will be no more assumed to be used in the statement where they are used, or at least in the same block. https://github.com/tensorflow/tensorflow/issues/56089\n"
     ]
    }
   ],
   "source": [
    "from tensorflow.keras.applications.resnet50 import ResNet50\n",
    "\n",
    "P = 14*14\n",
    "value_model = ResNet50(\n",
    "    include_top=False, weights='imagenet', \n",
    "    input_shape=INPUT_SHAPE, pooling='avg'\n",
    ") \n",
    "D = 10\n",
    "\n",
    "model_input = Input(shape=INPUT_SHAPE, dtype='float64', name='input')\n",
    "S = ShapleySampler(P, paired_sampling=False, num_samples=1)(model_input)\n",
    "S = Lambda(lambda x: tf.cast(x, tf.float32))(S)\n",
    "S = Reshape((P,))(S)\n",
    "S = ResizeMask(in_shape=INPUT_SHAPE, mask_size=P)(S)\n",
    "xs = Multiply()([model_input, S])\n",
    "\n",
    "net = value_model(xs)\n",
    "out = Dense(D, activation='softmax')(net)\n",
    "\n",
    "surrogate = Model(model_input, out)\n",
    "\n",
    "# Get Checkpointed Model\n",
    "weights_path = 'surrogate/20230614_13_43_41/value_weights.h5'\n",
    "surrogate.load_weights(weights_path)\n",
    "\n",
    "# Remove Masking Layer\n",
    "surrogate = Sequential(   \n",
    "    [l for l in surrogate.layers[-2:]]\n",
    ")\n",
    "surrogate.trainable = False"
   ]
  },
  {
   "cell_type": "markdown",
   "id": "eastern-diving",
   "metadata": {},
   "source": [
    "# Train FastSHAP"
   ]
  },
  {
   "cell_type": "markdown",
   "id": "absent-wildlife",
   "metadata": {},
   "source": [
    "### Save Dir"
   ]
  },
  {
   "cell_type": "code",
   "execution_count": 11,
   "id": "rubber-pontiac",
   "metadata": {},
   "outputs": [],
   "source": [
    "date = datetime.now().strftime(\"%Y%m%d_%H_%M_%S\")\n",
    "save_dir = 'fastshap_ws'\n",
    "model_dir = os.path.join(os.getcwd(), save_dir, date)\n",
    "if not os.path.isdir(model_dir):\n",
    "    os.makedirs(model_dir)"
   ]
  },
  {
   "cell_type": "markdown",
   "id": "egyptian-observation",
   "metadata": {},
   "source": [
    "### Initialize"
   ]
  },
  {
   "cell_type": "code",
   "execution_count": 12,
   "id": "pending-classification",
   "metadata": {},
   "outputs": [],
   "source": [
    "from importlib import reload\n",
    "import fastshap\n",
    "import utils\n",
    "reload(fastshap)\n",
    "reload(utils)\n",
    "from fastshap import ImageFastSHAP"
   ]
  },
  {
   "cell_type": "code",
   "execution_count": 13,
   "id": "random-fraction",
   "metadata": {},
   "outputs": [
    {
     "name": "stderr",
     "output_type": "stream",
     "text": [
      "2023-06-15 11:54:29.766992: I tensorflow/compiler/xla/stream_executor/cuda/cuda_dnn.cc:428] Loaded cuDNN version 8200\n"
     ]
    },
    {
     "name": "stdout",
     "output_type": "stream",
     "text": [
      "1/1 [==============================] - 6s 6s/step\n"
     ]
    }
   ],
   "source": [
    "fastshap = ImageFastSHAP(imputer = surrogate,\n",
    "                         normalization=None,\n",
    "                         model_dir = model_dir, \n",
    "                         link='logit')"
   ]
  },
  {
   "cell_type": "markdown",
   "id": "continent-inside",
   "metadata": {},
   "source": [
    "### Train"
   ]
  },
  {
   "cell_type": "code",
   "execution_count": 14,
   "id": "significant-battlefield",
   "metadata": {},
   "outputs": [
    {
     "name": "stdout",
     "output_type": "stream",
     "text": [
      "Use alpha and beta\n",
      "WARNING:tensorflow:\n",
      "The following Variables were used a Lambda layer's call (lambda_1), but\n",
      "are not present in its tracked objects:\n",
      "  <tf.Variable 'conv1_conv/kernel:0' shape=(7, 7, 3, 64) dtype=float32>\n",
      "  <tf.Variable 'conv1_conv/bias:0' shape=(64,) dtype=float32>\n",
      "  <tf.Variable 'conv1_bn/gamma:0' shape=(64,) dtype=float32>\n",
      "  <tf.Variable 'conv1_bn/beta:0' shape=(64,) dtype=float32>\n",
      "  <tf.Variable 'conv2_block1_0_conv/kernel:0' shape=(1, 1, 64, 256) dtype=float32>\n",
      "  <tf.Variable 'conv2_block1_0_conv/bias:0' shape=(256,) dtype=float32>\n",
      "  <tf.Variable 'conv2_block1_0_bn/gamma:0' shape=(256,) dtype=float32>\n",
      "  <tf.Variable 'conv2_block1_0_bn/beta:0' shape=(256,) dtype=float32>\n",
      "  <tf.Variable 'conv2_block1_1_conv/kernel:0' shape=(1, 1, 64, 64) dtype=float32>\n",
      "  <tf.Variable 'conv2_block1_1_conv/bias:0' shape=(64,) dtype=float32>\n",
      "  <tf.Variable 'conv2_block1_1_bn/gamma:0' shape=(64,) dtype=float32>\n",
      "  <tf.Variable 'conv2_block1_1_bn/beta:0' shape=(64,) dtype=float32>\n",
      "  <tf.Variable 'conv2_block1_2_conv/kernel:0' shape=(3, 3, 64, 64) dtype=float32>\n",
      "  <tf.Variable 'conv2_block1_2_conv/bias:0' shape=(64,) dtype=float32>\n",
      "  <tf.Variable 'conv2_block1_2_bn/gamma:0' shape=(64,) dtype=float32>\n",
      "  <tf.Variable 'conv2_block1_2_bn/beta:0' shape=(64,) dtype=float32>\n",
      "  <tf.Variable 'conv2_block1_3_conv/kernel:0' shape=(1, 1, 64, 256) dtype=float32>\n",
      "  <tf.Variable 'conv2_block1_3_conv/bias:0' shape=(256,) dtype=float32>\n",
      "  <tf.Variable 'conv2_block1_3_bn/gamma:0' shape=(256,) dtype=float32>\n",
      "  <tf.Variable 'conv2_block1_3_bn/beta:0' shape=(256,) dtype=float32>\n",
      "  <tf.Variable 'conv2_block2_1_conv/kernel:0' shape=(1, 1, 256, 64) dtype=float32>\n",
      "  <tf.Variable 'conv2_block2_1_conv/bias:0' shape=(64,) dtype=float32>\n",
      "  <tf.Variable 'conv2_block2_1_bn/gamma:0' shape=(64,) dtype=float32>\n",
      "  <tf.Variable 'conv2_block2_1_bn/beta:0' shape=(64,) dtype=float32>\n",
      "  <tf.Variable 'conv2_block2_2_conv/kernel:0' shape=(3, 3, 64, 64) dtype=float32>\n",
      "  <tf.Variable 'conv2_block2_2_conv/bias:0' shape=(64,) dtype=float32>\n",
      "  <tf.Variable 'conv2_block2_2_bn/gamma:0' shape=(64,) dtype=float32>\n",
      "  <tf.Variable 'conv2_block2_2_bn/beta:0' shape=(64,) dtype=float32>\n",
      "  <tf.Variable 'conv2_block2_3_conv/kernel:0' shape=(1, 1, 64, 256) dtype=float32>\n",
      "  <tf.Variable 'conv2_block2_3_conv/bias:0' shape=(256,) dtype=float32>\n",
      "  <tf.Variable 'conv2_block2_3_bn/gamma:0' shape=(256,) dtype=float32>\n",
      "  <tf.Variable 'conv2_block2_3_bn/beta:0' shape=(256,) dtype=float32>\n",
      "  <tf.Variable 'conv2_block3_1_conv/kernel:0' shape=(1, 1, 256, 64) dtype=float32>\n",
      "  <tf.Variable 'conv2_block3_1_conv/bias:0' shape=(64,) dtype=float32>\n",
      "  <tf.Variable 'conv2_block3_1_bn/gamma:0' shape=(64,) dtype=float32>\n",
      "  <tf.Variable 'conv2_block3_1_bn/beta:0' shape=(64,) dtype=float32>\n",
      "  <tf.Variable 'conv2_block3_2_conv/kernel:0' shape=(3, 3, 64, 64) dtype=float32>\n",
      "  <tf.Variable 'conv2_block3_2_conv/bias:0' shape=(64,) dtype=float32>\n",
      "  <tf.Variable 'conv2_block3_2_bn/gamma:0' shape=(64,) dtype=float32>\n",
      "  <tf.Variable 'conv2_block3_2_bn/beta:0' shape=(64,) dtype=float32>\n",
      "  <tf.Variable 'conv2_block3_3_conv/kernel:0' shape=(1, 1, 64, 256) dtype=float32>\n",
      "  <tf.Variable 'conv2_block3_3_conv/bias:0' shape=(256,) dtype=float32>\n",
      "  <tf.Variable 'conv2_block3_3_bn/gamma:0' shape=(256,) dtype=float32>\n",
      "  <tf.Variable 'conv2_block3_3_bn/beta:0' shape=(256,) dtype=float32>\n",
      "  <tf.Variable 'conv3_block1_0_conv/kernel:0' shape=(1, 1, 256, 512) dtype=float32>\n",
      "  <tf.Variable 'conv3_block1_0_conv/bias:0' shape=(512,) dtype=float32>\n",
      "  <tf.Variable 'conv3_block1_0_bn/gamma:0' shape=(512,) dtype=float32>\n",
      "  <tf.Variable 'conv3_block1_0_bn/beta:0' shape=(512,) dtype=float32>\n",
      "  <tf.Variable 'conv3_block1_1_conv/kernel:0' shape=(1, 1, 256, 128) dtype=float32>\n",
      "  <tf.Variable 'conv3_block1_1_conv/bias:0' shape=(128,) dtype=float32>\n",
      "  <tf.Variable 'conv3_block1_1_bn/gamma:0' shape=(128,) dtype=float32>\n",
      "  <tf.Variable 'conv3_block1_1_bn/beta:0' shape=(128,) dtype=float32>\n",
      "  <tf.Variable 'conv3_block1_2_conv/kernel:0' shape=(3, 3, 128, 128) dtype=float32>\n",
      "  <tf.Variable 'conv3_block1_2_conv/bias:0' shape=(128,) dtype=float32>\n",
      "  <tf.Variable 'conv3_block1_2_bn/gamma:0' shape=(128,) dtype=float32>\n",
      "  <tf.Variable 'conv3_block1_2_bn/beta:0' shape=(128,) dtype=float32>\n",
      "  <tf.Variable 'conv3_block1_3_conv/kernel:0' shape=(1, 1, 128, 512) dtype=float32>\n",
      "  <tf.Variable 'conv3_block1_3_conv/bias:0' shape=(512,) dtype=float32>\n",
      "  <tf.Variable 'conv3_block1_3_bn/gamma:0' shape=(512,) dtype=float32>\n",
      "  <tf.Variable 'conv3_block1_3_bn/beta:0' shape=(512,) dtype=float32>\n",
      "  <tf.Variable 'conv3_block2_1_conv/kernel:0' shape=(1, 1, 512, 128) dtype=float32>\n",
      "  <tf.Variable 'conv3_block2_1_conv/bias:0' shape=(128,) dtype=float32>\n",
      "  <tf.Variable 'conv3_block2_1_bn/gamma:0' shape=(128,) dtype=float32>\n",
      "  <tf.Variable 'conv3_block2_1_bn/beta:0' shape=(128,) dtype=float32>\n",
      "  <tf.Variable 'conv3_block2_2_conv/kernel:0' shape=(3, 3, 128, 128) dtype=float32>\n",
      "  <tf.Variable 'conv3_block2_2_conv/bias:0' shape=(128,) dtype=float32>\n",
      "  <tf.Variable 'conv3_block2_2_bn/gamma:0' shape=(128,) dtype=float32>\n",
      "  <tf.Variable 'conv3_block2_2_bn/beta:0' shape=(128,) dtype=float32>\n",
      "  <tf.Variable 'conv3_block2_3_conv/kernel:0' shape=(1, 1, 128, 512) dtype=float32>\n",
      "  <tf.Variable 'conv3_block2_3_conv/bias:0' shape=(512,) dtype=float32>\n",
      "  <tf.Variable 'conv3_block2_3_bn/gamma:0' shape=(512,) dtype=float32>\n",
      "  <tf.Variable 'conv3_block2_3_bn/beta:0' shape=(512,) dtype=float32>\n",
      "  <tf.Variable 'conv3_block3_1_conv/kernel:0' shape=(1, 1, 512, 128) dtype=float32>\n",
      "  <tf.Variable 'conv3_block3_1_conv/bias:0' shape=(128,) dtype=float32>\n",
      "  <tf.Variable 'conv3_block3_1_bn/gamma:0' shape=(128,) dtype=float32>\n",
      "  <tf.Variable 'conv3_block3_1_bn/beta:0' shape=(128,) dtype=float32>\n",
      "  <tf.Variable 'conv3_block3_2_conv/kernel:0' shape=(3, 3, 128, 128) dtype=float32>\n",
      "  <tf.Variable 'conv3_block3_2_conv/bias:0' shape=(128,) dtype=float32>\n",
      "  <tf.Variable 'conv3_block3_2_bn/gamma:0' shape=(128,) dtype=float32>\n",
      "  <tf.Variable 'conv3_block3_2_bn/beta:0' shape=(128,) dtype=float32>\n",
      "  <tf.Variable 'conv3_block3_3_conv/kernel:0' shape=(1, 1, 128, 512) dtype=float32>\n",
      "  <tf.Variable 'conv3_block3_3_conv/bias:0' shape=(512,) dtype=float32>\n",
      "  <tf.Variable 'conv3_block3_3_bn/gamma:0' shape=(512,) dtype=float32>\n",
      "  <tf.Variable 'conv3_block3_3_bn/beta:0' shape=(512,) dtype=float32>\n",
      "  <tf.Variable 'conv3_block4_1_conv/kernel:0' shape=(1, 1, 512, 128) dtype=float32>\n",
      "  <tf.Variable 'conv3_block4_1_conv/bias:0' shape=(128,) dtype=float32>\n",
      "  <tf.Variable 'conv3_block4_1_bn/gamma:0' shape=(128,) dtype=float32>\n",
      "  <tf.Variable 'conv3_block4_1_bn/beta:0' shape=(128,) dtype=float32>\n",
      "  <tf.Variable 'conv3_block4_2_conv/kernel:0' shape=(3, 3, 128, 128) dtype=float32>\n",
      "  <tf.Variable 'conv3_block4_2_conv/bias:0' shape=(128,) dtype=float32>\n",
      "  <tf.Variable 'conv3_block4_2_bn/gamma:0' shape=(128,) dtype=float32>\n",
      "  <tf.Variable 'conv3_block4_2_bn/beta:0' shape=(128,) dtype=float32>\n",
      "  <tf.Variable 'conv3_block4_3_conv/kernel:0' shape=(1, 1, 128, 512) dtype=float32>\n",
      "  <tf.Variable 'conv3_block4_3_conv/bias:0' shape=(512,) dtype=float32>\n",
      "  <tf.Variable 'conv3_block4_3_bn/gamma:0' shape=(512,) dtype=float32>\n",
      "  <tf.Variable 'conv3_block4_3_bn/beta:0' shape=(512,) dtype=float32>\n",
      "  <tf.Variable 'conv4_block1_0_conv/kernel:0' shape=(1, 1, 512, 1024) dtype=float32>\n",
      "  <tf.Variable 'conv4_block1_0_conv/bias:0' shape=(1024,) dtype=float32>\n",
      "  <tf.Variable 'conv4_block1_0_bn/gamma:0' shape=(1024,) dtype=float32>\n",
      "  <tf.Variable 'conv4_block1_0_bn/beta:0' shape=(1024,) dtype=float32>\n",
      "  <tf.Variable 'conv4_block1_1_conv/kernel:0' shape=(1, 1, 512, 256) dtype=float32>\n",
      "  <tf.Variable 'conv4_block1_1_conv/bias:0' shape=(256,) dtype=float32>\n",
      "  <tf.Variable 'conv4_block1_1_bn/gamma:0' shape=(256,) dtype=float32>\n",
      "  <tf.Variable 'conv4_block1_1_bn/beta:0' shape=(256,) dtype=float32>\n",
      "  <tf.Variable 'conv4_block1_2_conv/kernel:0' shape=(3, 3, 256, 256) dtype=float32>\n",
      "  <tf.Variable 'conv4_block1_2_conv/bias:0' shape=(256,) dtype=float32>\n",
      "  <tf.Variable 'conv4_block1_2_bn/gamma:0' shape=(256,) dtype=float32>\n",
      "  <tf.Variable 'conv4_block1_2_bn/beta:0' shape=(256,) dtype=float32>\n",
      "  <tf.Variable 'conv4_block1_3_conv/kernel:0' shape=(1, 1, 256, 1024) dtype=float32>\n",
      "  <tf.Variable 'conv4_block1_3_conv/bias:0' shape=(1024,) dtype=float32>\n",
      "  <tf.Variable 'conv4_block1_3_bn/gamma:0' shape=(1024,) dtype=float32>\n",
      "  <tf.Variable 'conv4_block1_3_bn/beta:0' shape=(1024,) dtype=float32>\n",
      "  <tf.Variable 'conv4_block2_1_conv/kernel:0' shape=(1, 1, 1024, 256) dtype=float32>\n",
      "  <tf.Variable 'conv4_block2_1_conv/bias:0' shape=(256,) dtype=float32>\n",
      "  <tf.Variable 'conv4_block2_1_bn/gamma:0' shape=(256,) dtype=float32>\n",
      "  <tf.Variable 'conv4_block2_1_bn/beta:0' shape=(256,) dtype=float32>\n",
      "  <tf.Variable 'conv4_block2_2_conv/kernel:0' shape=(3, 3, 256, 256) dtype=float32>\n",
      "  <tf.Variable 'conv4_block2_2_conv/bias:0' shape=(256,) dtype=float32>\n",
      "  <tf.Variable 'conv4_block2_2_bn/gamma:0' shape=(256,) dtype=float32>\n",
      "  <tf.Variable 'conv4_block2_2_bn/beta:0' shape=(256,) dtype=float32>\n",
      "  <tf.Variable 'conv4_block2_3_conv/kernel:0' shape=(1, 1, 256, 1024) dtype=float32>\n",
      "  <tf.Variable 'conv4_block2_3_conv/bias:0' shape=(1024,) dtype=float32>\n",
      "  <tf.Variable 'conv4_block2_3_bn/gamma:0' shape=(1024,) dtype=float32>\n",
      "  <tf.Variable 'conv4_block2_3_bn/beta:0' shape=(1024,) dtype=float32>\n",
      "  <tf.Variable 'conv4_block3_1_conv/kernel:0' shape=(1, 1, 1024, 256) dtype=float32>\n",
      "  <tf.Variable 'conv4_block3_1_conv/bias:0' shape=(256,) dtype=float32>\n",
      "  <tf.Variable 'conv4_block3_1_bn/gamma:0' shape=(256,) dtype=float32>\n",
      "  <tf.Variable 'conv4_block3_1_bn/beta:0' shape=(256,) dtype=float32>\n",
      "  <tf.Variable 'conv4_block3_2_conv/kernel:0' shape=(3, 3, 256, 256) dtype=float32>\n",
      "  <tf.Variable 'conv4_block3_2_conv/bias:0' shape=(256,) dtype=float32>\n",
      "  <tf.Variable 'conv4_block3_2_bn/gamma:0' shape=(256,) dtype=float32>\n",
      "  <tf.Variable 'conv4_block3_2_bn/beta:0' shape=(256,) dtype=float32>\n",
      "  <tf.Variable 'conv4_block3_3_conv/kernel:0' shape=(1, 1, 256, 1024) dtype=float32>\n",
      "  <tf.Variable 'conv4_block3_3_conv/bias:0' shape=(1024,) dtype=float32>\n",
      "  <tf.Variable 'conv4_block3_3_bn/gamma:0' shape=(1024,) dtype=float32>\n",
      "  <tf.Variable 'conv4_block3_3_bn/beta:0' shape=(1024,) dtype=float32>\n",
      "  <tf.Variable 'conv4_block4_1_conv/kernel:0' shape=(1, 1, 1024, 256) dtype=float32>\n",
      "  <tf.Variable 'conv4_block4_1_conv/bias:0' shape=(256,) dtype=float32>\n",
      "  <tf.Variable 'conv4_block4_1_bn/gamma:0' shape=(256,) dtype=float32>\n",
      "  <tf.Variable 'conv4_block4_1_bn/beta:0' shape=(256,) dtype=float32>\n",
      "  <tf.Variable 'conv4_block4_2_conv/kernel:0' shape=(3, 3, 256, 256) dtype=float32>\n",
      "  <tf.Variable 'conv4_block4_2_conv/bias:0' shape=(256,) dtype=float32>\n",
      "  <tf.Variable 'conv4_block4_2_bn/gamma:0' shape=(256,) dtype=float32>\n",
      "  <tf.Variable 'conv4_block4_2_bn/beta:0' shape=(256,) dtype=float32>\n",
      "  <tf.Variable 'conv4_block4_3_conv/kernel:0' shape=(1, 1, 256, 1024) dtype=float32>\n",
      "  <tf.Variable 'conv4_block4_3_conv/bias:0' shape=(1024,) dtype=float32>\n",
      "  <tf.Variable 'conv4_block4_3_bn/gamma:0' shape=(1024,) dtype=float32>\n",
      "  <tf.Variable 'conv4_block4_3_bn/beta:0' shape=(1024,) dtype=float32>\n",
      "  <tf.Variable 'conv4_block5_1_conv/kernel:0' shape=(1, 1, 1024, 256) dtype=float32>\n",
      "  <tf.Variable 'conv4_block5_1_conv/bias:0' shape=(256,) dtype=float32>\n",
      "  <tf.Variable 'conv4_block5_1_bn/gamma:0' shape=(256,) dtype=float32>\n",
      "  <tf.Variable 'conv4_block5_1_bn/beta:0' shape=(256,) dtype=float32>\n",
      "  <tf.Variable 'conv4_block5_2_conv/kernel:0' shape=(3, 3, 256, 256) dtype=float32>\n",
      "  <tf.Variable 'conv4_block5_2_conv/bias:0' shape=(256,) dtype=float32>\n",
      "  <tf.Variable 'conv4_block5_2_bn/gamma:0' shape=(256,) dtype=float32>\n",
      "  <tf.Variable 'conv4_block5_2_bn/beta:0' shape=(256,) dtype=float32>\n",
      "  <tf.Variable 'conv4_block5_3_conv/kernel:0' shape=(1, 1, 256, 1024) dtype=float32>\n",
      "  <tf.Variable 'conv4_block5_3_conv/bias:0' shape=(1024,) dtype=float32>\n",
      "  <tf.Variable 'conv4_block5_3_bn/gamma:0' shape=(1024,) dtype=float32>\n",
      "  <tf.Variable 'conv4_block5_3_bn/beta:0' shape=(1024,) dtype=float32>\n",
      "  <tf.Variable 'conv4_block6_1_conv/kernel:0' shape=(1, 1, 1024, 256) dtype=float32>\n",
      "  <tf.Variable 'conv4_block6_1_conv/bias:0' shape=(256,) dtype=float32>\n",
      "  <tf.Variable 'conv4_block6_1_bn/gamma:0' shape=(256,) dtype=float32>\n",
      "  <tf.Variable 'conv4_block6_1_bn/beta:0' shape=(256,) dtype=float32>\n",
      "  <tf.Variable 'conv4_block6_2_conv/kernel:0' shape=(3, 3, 256, 256) dtype=float32>\n",
      "  <tf.Variable 'conv4_block6_2_conv/bias:0' shape=(256,) dtype=float32>\n",
      "  <tf.Variable 'conv4_block6_2_bn/gamma:0' shape=(256,) dtype=float32>\n",
      "  <tf.Variable 'conv4_block6_2_bn/beta:0' shape=(256,) dtype=float32>\n",
      "  <tf.Variable 'conv4_block6_3_conv/kernel:0' shape=(1, 1, 256, 1024) dtype=float32>\n",
      "  <tf.Variable 'conv4_block6_3_conv/bias:0' shape=(1024,) dtype=float32>\n",
      "  <tf.Variable 'conv4_block6_3_bn/gamma:0' shape=(1024,) dtype=float32>\n",
      "  <tf.Variable 'conv4_block6_3_bn/beta:0' shape=(1024,) dtype=float32>\n",
      "  <tf.Variable 'conv5_block1_0_conv/kernel:0' shape=(1, 1, 1024, 2048) dtype=float32>\n",
      "  <tf.Variable 'conv5_block1_0_conv/bias:0' shape=(2048,) dtype=float32>\n",
      "  <tf.Variable 'conv5_block1_0_bn/gamma:0' shape=(2048,) dtype=float32>\n",
      "  <tf.Variable 'conv5_block1_0_bn/beta:0' shape=(2048,) dtype=float32>\n",
      "  <tf.Variable 'conv5_block1_1_conv/kernel:0' shape=(1, 1, 1024, 512) dtype=float32>\n",
      "  <tf.Variable 'conv5_block1_1_conv/bias:0' shape=(512,) dtype=float32>\n",
      "  <tf.Variable 'conv5_block1_1_bn/gamma:0' shape=(512,) dtype=float32>\n",
      "  <tf.Variable 'conv5_block1_1_bn/beta:0' shape=(512,) dtype=float32>\n",
      "  <tf.Variable 'conv5_block1_2_conv/kernel:0' shape=(3, 3, 512, 512) dtype=float32>\n",
      "  <tf.Variable 'conv5_block1_2_conv/bias:0' shape=(512,) dtype=float32>\n",
      "  <tf.Variable 'conv5_block1_2_bn/gamma:0' shape=(512,) dtype=float32>\n",
      "  <tf.Variable 'conv5_block1_2_bn/beta:0' shape=(512,) dtype=float32>\n",
      "  <tf.Variable 'conv5_block1_3_conv/kernel:0' shape=(1, 1, 512, 2048) dtype=float32>\n",
      "  <tf.Variable 'conv5_block1_3_conv/bias:0' shape=(2048,) dtype=float32>\n",
      "  <tf.Variable 'conv5_block1_3_bn/gamma:0' shape=(2048,) dtype=float32>\n",
      "  <tf.Variable 'conv5_block1_3_bn/beta:0' shape=(2048,) dtype=float32>\n",
      "  <tf.Variable 'conv5_block2_1_conv/kernel:0' shape=(1, 1, 2048, 512) dtype=float32>\n",
      "  <tf.Variable 'conv5_block2_1_conv/bias:0' shape=(512,) dtype=float32>\n",
      "  <tf.Variable 'conv5_block2_1_bn/gamma:0' shape=(512,) dtype=float32>\n",
      "  <tf.Variable 'conv5_block2_1_bn/beta:0' shape=(512,) dtype=float32>\n",
      "  <tf.Variable 'conv5_block2_2_conv/kernel:0' shape=(3, 3, 512, 512) dtype=float32>\n",
      "  <tf.Variable 'conv5_block2_2_conv/bias:0' shape=(512,) dtype=float32>\n",
      "  <tf.Variable 'conv5_block2_2_bn/gamma:0' shape=(512,) dtype=float32>\n",
      "  <tf.Variable 'conv5_block2_2_bn/beta:0' shape=(512,) dtype=float32>\n",
      "  <tf.Variable 'conv5_block2_3_conv/kernel:0' shape=(1, 1, 512, 2048) dtype=float32>\n",
      "  <tf.Variable 'conv5_block2_3_conv/bias:0' shape=(2048,) dtype=float32>\n",
      "  <tf.Variable 'conv5_block2_3_bn/gamma:0' shape=(2048,) dtype=float32>\n",
      "  <tf.Variable 'conv5_block2_3_bn/beta:0' shape=(2048,) dtype=float32>\n",
      "  <tf.Variable 'conv5_block3_1_conv/kernel:0' shape=(1, 1, 2048, 512) dtype=float32>\n",
      "  <tf.Variable 'conv5_block3_1_conv/bias:0' shape=(512,) dtype=float32>\n",
      "  <tf.Variable 'conv5_block3_1_bn/gamma:0' shape=(512,) dtype=float32>\n",
      "  <tf.Variable 'conv5_block3_1_bn/beta:0' shape=(512,) dtype=float32>\n",
      "  <tf.Variable 'conv5_block3_2_conv/kernel:0' shape=(3, 3, 512, 512) dtype=float32>\n",
      "  <tf.Variable 'conv5_block3_2_conv/bias:0' shape=(512,) dtype=float32>\n",
      "  <tf.Variable 'conv5_block3_2_bn/gamma:0' shape=(512,) dtype=float32>\n",
      "  <tf.Variable 'conv5_block3_2_bn/beta:0' shape=(512,) dtype=float32>\n",
      "  <tf.Variable 'conv5_block3_3_conv/kernel:0' shape=(1, 1, 512, 2048) dtype=float32>\n",
      "  <tf.Variable 'conv5_block3_3_conv/bias:0' shape=(2048,) dtype=float32>\n",
      "  <tf.Variable 'conv5_block3_3_bn/gamma:0' shape=(2048,) dtype=float32>\n",
      "  <tf.Variable 'conv5_block3_3_bn/beta:0' shape=(2048,) dtype=float32>\n",
      "  <tf.Variable 'dense/kernel:0' shape=(2048, 10) dtype=float32>\n",
      "  <tf.Variable 'dense/bias:0' shape=(10,) dtype=float32>\n",
      "It is possible that this is intended behavior, but it is more likely\n",
      "an omission. This is a strong indication that this layer should be\n",
      "formulated as a subclassed Layer rather than a Lambda layer.\n",
      "Epoch 1/100\n"
     ]
    },
    {
     "name": "stderr",
     "output_type": "stream",
     "text": [
      "2023-06-15 11:54:55.749242: I tensorflow/compiler/xla/service/service.cc:173] XLA service 0x55dbda278160 initialized for platform CUDA (this does not guarantee that XLA will be used). Devices:\n",
      "2023-06-15 11:54:55.749287: I tensorflow/compiler/xla/service/service.cc:181]   StreamExecutor device (0): Tesla T4, Compute Capability 7.5\n",
      "2023-06-15 11:54:55.769689: I tensorflow/compiler/mlir/tensorflow/utils/dump_mlir_util.cc:268] disabling MLIR crash reproducer, set env var `MLIR_CRASH_REPRODUCER_DIRECTORY` to enable.\n",
      "2023-06-15 11:54:56.531982: I tensorflow/compiler/jit/xla_compilation_cache.cc:477] Compiled cluster using XLA!  This line is logged at most once for the lifetime of the process.\n"
     ]
    },
    {
     "name": "stdout",
     "output_type": "stream",
     "text": [
      "1563/1563 [==============================] - ETA: 0s - loss: 137.5922 - shap_loss: 137.5922 - eff_loss: 0.0000e+00\n",
      "Epoch 1: val_shap_loss improved from inf to 34.94696, saving model to /home/sidtandon/Sid/GitRepo/iclr-fastshap/fastshap/experiments/images/cifar10/fastshap/20230615_11_54_27/explainer_weights.h5\n",
      "1563/1563 [==============================] - 716s 437ms/step - loss: 137.5922 - shap_loss: 137.5922 - eff_loss: 0.0000e+00 - val_loss: 34.9470 - val_shap_loss: 34.9470 - val_eff_loss: 0.0000e+00 - lr: 0.0010\n",
      "Epoch 2/100\n",
      "1563/1563 [==============================] - ETA: 0s - loss: 29.3959 - shap_loss: 29.3959 - eff_loss: 0.0000e+00\n",
      "Epoch 2: val_shap_loss improved from 34.94696 to 26.62273, saving model to /home/sidtandon/Sid/GitRepo/iclr-fastshap/fastshap/experiments/images/cifar10/fastshap/20230615_11_54_27/explainer_weights.h5\n",
      "1563/1563 [==============================] - 679s 435ms/step - loss: 29.3959 - shap_loss: 29.3959 - eff_loss: 0.0000e+00 - val_loss: 26.6227 - val_shap_loss: 26.6227 - val_eff_loss: 0.0000e+00 - lr: 0.0010\n",
      "Epoch 3/100\n",
      "1563/1563 [==============================] - ETA: 0s - loss: 21.1178 - shap_loss: 21.1178 - eff_loss: 0.0000e+00\n",
      "Epoch 3: val_shap_loss improved from 26.62273 to 17.03066, saving model to /home/sidtandon/Sid/GitRepo/iclr-fastshap/fastshap/experiments/images/cifar10/fastshap/20230615_11_54_27/explainer_weights.h5\n",
      "1563/1563 [==============================] - 680s 435ms/step - loss: 21.1178 - shap_loss: 21.1178 - eff_loss: 0.0000e+00 - val_loss: 17.0307 - val_shap_loss: 17.0307 - val_eff_loss: 0.0000e+00 - lr: 0.0010\n",
      "Epoch 4/100\n",
      "1563/1563 [==============================] - ETA: 0s - loss: 16.8985 - shap_loss: 16.8985 - eff_loss: 0.0000e+00\n",
      "Epoch 4: val_shap_loss improved from 17.03066 to 14.36791, saving model to /home/sidtandon/Sid/GitRepo/iclr-fastshap/fastshap/experiments/images/cifar10/fastshap/20230615_11_54_27/explainer_weights.h5\n",
      "1563/1563 [==============================] - 680s 435ms/step - loss: 16.8985 - shap_loss: 16.8985 - eff_loss: 0.0000e+00 - val_loss: 14.3679 - val_shap_loss: 14.3679 - val_eff_loss: 0.0000e+00 - lr: 0.0010\n",
      "Epoch 5/100\n",
      "1563/1563 [==============================] - ETA: 0s - loss: 14.4197 - shap_loss: 14.4197 - eff_loss: 0.0000e+00\n",
      "Epoch 5: val_shap_loss did not improve from 14.36791\n",
      "1563/1563 [==============================] - 679s 435ms/step - loss: 14.4197 - shap_loss: 14.4197 - eff_loss: 0.0000e+00 - val_loss: 14.7899 - val_shap_loss: 14.7899 - val_eff_loss: 0.0000e+00 - lr: 0.0010\n",
      "Epoch 6/100\n",
      "1563/1563 [==============================] - ETA: 0s - loss: 12.4913 - shap_loss: 12.4913 - eff_loss: 0.0000e+00\n",
      "Epoch 6: val_shap_loss improved from 14.36791 to 12.66383, saving model to /home/sidtandon/Sid/GitRepo/iclr-fastshap/fastshap/experiments/images/cifar10/fastshap/20230615_11_54_27/explainer_weights.h5\n",
      "1563/1563 [==============================] - 680s 435ms/step - loss: 12.4913 - shap_loss: 12.4913 - eff_loss: 0.0000e+00 - val_loss: 12.6638 - val_shap_loss: 12.6638 - val_eff_loss: 0.0000e+00 - lr: 0.0010\n",
      "Epoch 7/100\n",
      "1563/1563 [==============================] - ETA: 0s - loss: 10.9632 - shap_loss: 10.9632 - eff_loss: 0.0000e+00\n",
      "Epoch 7: val_shap_loss improved from 12.66383 to 12.30247, saving model to /home/sidtandon/Sid/GitRepo/iclr-fastshap/fastshap/experiments/images/cifar10/fastshap/20230615_11_54_27/explainer_weights.h5\n",
      "1563/1563 [==============================] - 681s 435ms/step - loss: 10.9632 - shap_loss: 10.9632 - eff_loss: 0.0000e+00 - val_loss: 12.3025 - val_shap_loss: 12.3025 - val_eff_loss: 0.0000e+00 - lr: 0.0010\n",
      "Epoch 8/100\n",
      "1563/1563 [==============================] - ETA: 0s - loss: 9.6728 - shap_loss: 9.6728 - eff_loss: 0.0000e+00\n",
      "Epoch 8: val_shap_loss did not improve from 12.30247\n",
      "1563/1563 [==============================] - 679s 434ms/step - loss: 9.6728 - shap_loss: 9.6728 - eff_loss: 0.0000e+00 - val_loss: 12.3828 - val_shap_loss: 12.3828 - val_eff_loss: 0.0000e+00 - lr: 0.0010\n",
      "Epoch 9/100\n",
      "1563/1563 [==============================] - ETA: 0s - loss: 8.6690 - shap_loss: 8.6690 - eff_loss: 0.0000e+00\n",
      "Epoch 9: val_shap_loss improved from 12.30247 to 11.67489, saving model to /home/sidtandon/Sid/GitRepo/iclr-fastshap/fastshap/experiments/images/cifar10/fastshap/20230615_11_54_27/explainer_weights.h5\n",
      "1563/1563 [==============================] - 680s 435ms/step - loss: 8.6690 - shap_loss: 8.6690 - eff_loss: 0.0000e+00 - val_loss: 11.6749 - val_shap_loss: 11.6749 - val_eff_loss: 0.0000e+00 - lr: 0.0010\n",
      "Epoch 10/100\n",
      "1563/1563 [==============================] - ETA: 0s - loss: 7.6807 - shap_loss: 7.6807 - eff_loss: 0.0000e+00\n",
      "Epoch 10: val_shap_loss did not improve from 11.67489\n",
      "1563/1563 [==============================] - 678s 434ms/step - loss: 7.6807 - shap_loss: 7.6807 - eff_loss: 0.0000e+00 - val_loss: 12.2954 - val_shap_loss: 12.2954 - val_eff_loss: 0.0000e+00 - lr: 0.0010\n",
      "Epoch 11/100\n",
      "1563/1563 [==============================] - ETA: 0s - loss: 6.8785 - shap_loss: 6.8785 - eff_loss: 0.0000e+00\n",
      "Epoch 11: val_shap_loss improved from 11.67489 to 11.21681, saving model to /home/sidtandon/Sid/GitRepo/iclr-fastshap/fastshap/experiments/images/cifar10/fastshap/20230615_11_54_27/explainer_weights.h5\n",
      "1563/1563 [==============================] - 678s 434ms/step - loss: 6.8785 - shap_loss: 6.8785 - eff_loss: 0.0000e+00 - val_loss: 11.2168 - val_shap_loss: 11.2168 - val_eff_loss: 0.0000e+00 - lr: 0.0010\n",
      "Epoch 12/100\n",
      "1563/1563 [==============================] - ETA: 0s - loss: 6.1889 - shap_loss: 6.1889 - eff_loss: 0.0000e+00\n",
      "Epoch 12: val_shap_loss did not improve from 11.21681\n",
      "1563/1563 [==============================] - 678s 434ms/step - loss: 6.1889 - shap_loss: 6.1889 - eff_loss: 0.0000e+00 - val_loss: 11.6220 - val_shap_loss: 11.6220 - val_eff_loss: 0.0000e+00 - lr: 0.0010\n",
      "Epoch 13/100\n",
      "1563/1563 [==============================] - ETA: 0s - loss: 5.6231 - shap_loss: 5.6231 - eff_loss: 0.0000e+00\n",
      "Epoch 13: val_shap_loss did not improve from 11.21681\n",
      "1563/1563 [==============================] - 678s 434ms/step - loss: 5.6231 - shap_loss: 5.6231 - eff_loss: 0.0000e+00 - val_loss: 11.3628 - val_shap_loss: 11.3628 - val_eff_loss: 0.0000e+00 - lr: 0.0010\n",
      "Epoch 14/100\n",
      "1563/1563 [==============================] - ETA: 0s - loss: 5.1397 - shap_loss: 5.1397 - eff_loss: 0.0000e+00\n",
      "Epoch 14: val_shap_loss improved from 11.21681 to 10.17611, saving model to /home/sidtandon/Sid/GitRepo/iclr-fastshap/fastshap/experiments/images/cifar10/fastshap/20230615_11_54_27/explainer_weights.h5\n",
      "1563/1563 [==============================] - 679s 434ms/step - loss: 5.1397 - shap_loss: 5.1397 - eff_loss: 0.0000e+00 - val_loss: 10.1761 - val_shap_loss: 10.1761 - val_eff_loss: 0.0000e+00 - lr: 0.0010\n",
      "Epoch 15/100\n",
      "1563/1563 [==============================] - ETA: 0s - loss: 4.8144 - shap_loss: 4.8144 - eff_loss: 0.0000e+00\n",
      "Epoch 15: val_shap_loss did not improve from 10.17611\n",
      "1563/1563 [==============================] - 679s 434ms/step - loss: 4.8144 - shap_loss: 4.8144 - eff_loss: 0.0000e+00 - val_loss: 10.2620 - val_shap_loss: 10.2620 - val_eff_loss: 0.0000e+00 - lr: 0.0010\n",
      "Epoch 16/100\n",
      "1563/1563 [==============================] - ETA: 0s - loss: 4.4390 - shap_loss: 4.4390 - eff_loss: 0.0000e+00\n",
      "Epoch 16: val_shap_loss did not improve from 10.17611\n",
      "1563/1563 [==============================] - 678s 434ms/step - loss: 4.4390 - shap_loss: 4.4390 - eff_loss: 0.0000e+00 - val_loss: 11.0956 - val_shap_loss: 11.0956 - val_eff_loss: 0.0000e+00 - lr: 0.0010\n",
      "Epoch 17/100\n",
      "1563/1563 [==============================] - ETA: 0s - loss: 4.1367 - shap_loss: 4.1367 - eff_loss: 0.0000e+00\n",
      "Epoch 17: val_shap_loss improved from 10.17611 to 9.16747, saving model to /home/sidtandon/Sid/GitRepo/iclr-fastshap/fastshap/experiments/images/cifar10/fastshap/20230615_11_54_27/explainer_weights.h5\n",
      "1563/1563 [==============================] - 679s 435ms/step - loss: 4.1367 - shap_loss: 4.1367 - eff_loss: 0.0000e+00 - val_loss: 9.1675 - val_shap_loss: 9.1675 - val_eff_loss: 0.0000e+00 - lr: 0.0010\n",
      "Epoch 18/100\n",
      "1563/1563 [==============================] - ETA: 0s - loss: 3.9059 - shap_loss: 3.9059 - eff_loss: 0.0000e+00\n",
      "Epoch 18: val_shap_loss did not improve from 9.16747\n",
      "1563/1563 [==============================] - 678s 434ms/step - loss: 3.9059 - shap_loss: 3.9059 - eff_loss: 0.0000e+00 - val_loss: 10.1344 - val_shap_loss: 10.1344 - val_eff_loss: 0.0000e+00 - lr: 0.0010\n",
      "Epoch 19/100\n",
      "1563/1563 [==============================] - ETA: 0s - loss: 3.6703 - shap_loss: 3.6703 - eff_loss: 0.0000e+00\n",
      "Epoch 19: val_shap_loss did not improve from 9.16747\n",
      "1563/1563 [==============================] - 679s 434ms/step - loss: 3.6703 - shap_loss: 3.6703 - eff_loss: 0.0000e+00 - val_loss: 10.1484 - val_shap_loss: 10.1484 - val_eff_loss: 0.0000e+00 - lr: 0.0010\n",
      "Epoch 20/100\n",
      "1563/1563 [==============================] - ETA: 0s - loss: 3.4962 - shap_loss: 3.4962 - eff_loss: 0.0000e+00\n",
      "Epoch 20: val_shap_loss did not improve from 9.16747\n",
      "\n",
      "Epoch 20: ReduceLROnPlateau reducing learning rate to 0.000800000037997961.\n",
      "1563/1563 [==============================] - 679s 434ms/step - loss: 3.4962 - shap_loss: 3.4962 - eff_loss: 0.0000e+00 - val_loss: 9.7762 - val_shap_loss: 9.7762 - val_eff_loss: 0.0000e+00 - lr: 0.0010\n",
      "Epoch 21/100\n",
      "1563/1563 [==============================] - ETA: 0s - loss: 3.1191 - shap_loss: 3.1191 - eff_loss: 0.0000e+00\n",
      "Epoch 21: val_shap_loss did not improve from 9.16747\n",
      "1563/1563 [==============================] - 678s 434ms/step - loss: 3.1191 - shap_loss: 3.1191 - eff_loss: 0.0000e+00 - val_loss: 9.9218 - val_shap_loss: 9.9218 - val_eff_loss: 0.0000e+00 - lr: 8.0000e-04\n",
      "Epoch 22/100\n",
      "1563/1563 [==============================] - ETA: 0s - loss: 2.7469 - shap_loss: 2.7469 - eff_loss: 0.0000e+00\n",
      "Epoch 22: val_shap_loss did not improve from 9.16747\n",
      "1563/1563 [==============================] - 678s 434ms/step - loss: 2.7469 - shap_loss: 2.7469 - eff_loss: 0.0000e+00 - val_loss: 9.7833 - val_shap_loss: 9.7833 - val_eff_loss: 0.0000e+00 - lr: 8.0000e-04\n",
      "Epoch 23/100\n",
      "1563/1563 [==============================] - ETA: 0s - loss: 2.6517 - shap_loss: 2.6517 - eff_loss: 0.0000e+00\n",
      "Epoch 23: val_shap_loss did not improve from 9.16747\n",
      "\n",
      "Epoch 23: ReduceLROnPlateau reducing learning rate to 0.0006400000303983689.\n",
      "1563/1563 [==============================] - 678s 434ms/step - loss: 2.6517 - shap_loss: 2.6517 - eff_loss: 0.0000e+00 - val_loss: 9.9839 - val_shap_loss: 9.9839 - val_eff_loss: 0.0000e+00 - lr: 8.0000e-04\n",
      "Epoch 24/100\n",
      "1563/1563 [==============================] - ETA: 0s - loss: 2.5223 - shap_loss: 2.5223 - eff_loss: 0.0000e+00\n",
      "Epoch 24: val_shap_loss improved from 9.16747 to 8.72779, saving model to /home/sidtandon/Sid/GitRepo/iclr-fastshap/fastshap/experiments/images/cifar10/fastshap/20230615_11_54_27/explainer_weights.h5\n",
      "1563/1563 [==============================] - 679s 434ms/step - loss: 2.5223 - shap_loss: 2.5223 - eff_loss: 0.0000e+00 - val_loss: 8.7278 - val_shap_loss: 8.7278 - val_eff_loss: 0.0000e+00 - lr: 6.4000e-04\n",
      "Epoch 25/100\n",
      "1563/1563 [==============================] - ETA: 0s - loss: 2.2012 - shap_loss: 2.2012 - eff_loss: 0.0000e+00\n",
      "Epoch 25: val_shap_loss improved from 8.72779 to 8.19106, saving model to /home/sidtandon/Sid/GitRepo/iclr-fastshap/fastshap/experiments/images/cifar10/fastshap/20230615_11_54_27/explainer_weights.h5\n",
      "1563/1563 [==============================] - 678s 434ms/step - loss: 2.2012 - shap_loss: 2.2012 - eff_loss: 0.0000e+00 - val_loss: 8.1911 - val_shap_loss: 8.1911 - val_eff_loss: 0.0000e+00 - lr: 6.4000e-04\n",
      "Epoch 26/100\n",
      "1563/1563 [==============================] - ETA: 0s - loss: 2.0273 - shap_loss: 2.0273 - eff_loss: 0.0000e+00\n",
      "Epoch 26: val_shap_loss did not improve from 8.19106\n",
      "1563/1563 [==============================] - 678s 433ms/step - loss: 2.0273 - shap_loss: 2.0273 - eff_loss: 0.0000e+00 - val_loss: 8.2130 - val_shap_loss: 8.2130 - val_eff_loss: 0.0000e+00 - lr: 6.4000e-04\n",
      "Epoch 27/100\n",
      "1563/1563 [==============================] - ETA: 0s - loss: 1.9534 - shap_loss: 1.9534 - eff_loss: 0.0000e+00\n",
      "Epoch 27: val_shap_loss did not improve from 8.19106\n",
      "1563/1563 [==============================] - 677s 433ms/step - loss: 1.9534 - shap_loss: 1.9534 - eff_loss: 0.0000e+00 - val_loss: 8.5770 - val_shap_loss: 8.5770 - val_eff_loss: 0.0000e+00 - lr: 6.4000e-04\n",
      "Epoch 28/100\n",
      "1563/1563 [==============================] - ETA: 0s - loss: 1.8771 - shap_loss: 1.8771 - eff_loss: 0.0000e+00\n",
      "Epoch 28: val_shap_loss did not improve from 8.19106\n",
      "\n",
      "Epoch 28: ReduceLROnPlateau reducing learning rate to 0.0005120000336319208.\n",
      "1563/1563 [==============================] - 678s 434ms/step - loss: 1.8771 - shap_loss: 1.8771 - eff_loss: 0.0000e+00 - val_loss: 9.0199 - val_shap_loss: 9.0199 - val_eff_loss: 0.0000e+00 - lr: 6.4000e-04\n",
      "Epoch 29/100\n",
      "1563/1563 [==============================] - ETA: 0s - loss: 1.7895 - shap_loss: 1.7895 - eff_loss: 0.0000e+00\n",
      "Epoch 29: val_shap_loss did not improve from 8.19106\n",
      "1563/1563 [==============================] - 678s 433ms/step - loss: 1.7895 - shap_loss: 1.7895 - eff_loss: 0.0000e+00 - val_loss: 9.0523 - val_shap_loss: 9.0523 - val_eff_loss: 0.0000e+00 - lr: 5.1200e-04\n",
      "Epoch 30/100\n",
      "1563/1563 [==============================] - ETA: 0s - loss: 1.5804 - shap_loss: 1.5804 - eff_loss: 0.0000e+00\n",
      "Epoch 30: val_shap_loss did not improve from 8.19106\n",
      "1563/1563 [==============================] - 677s 433ms/step - loss: 1.5804 - shap_loss: 1.5804 - eff_loss: 0.0000e+00 - val_loss: 8.6856 - val_shap_loss: 8.6856 - val_eff_loss: 0.0000e+00 - lr: 5.1200e-04\n",
      "Epoch 31/100\n",
      "1563/1563 [==============================] - ETA: 0s - loss: 1.4881 - shap_loss: 1.4881 - eff_loss: 0.0000e+00\n",
      "Epoch 31: val_shap_loss did not improve from 8.19106\n",
      "\n",
      "Epoch 31: ReduceLROnPlateau reducing learning rate to 0.00040960004553198815.\n",
      "1563/1563 [==============================] - 677s 433ms/step - loss: 1.4881 - shap_loss: 1.4881 - eff_loss: 0.0000e+00 - val_loss: 8.8879 - val_shap_loss: 8.8879 - val_eff_loss: 0.0000e+00 - lr: 5.1200e-04\n",
      "Epoch 32/100\n",
      "1563/1563 [==============================] - ETA: 0s - loss: 1.4500 - shap_loss: 1.4500 - eff_loss: 0.0000e+00\n",
      "Epoch 32: val_shap_loss did not improve from 8.19106\n",
      "1563/1563 [==============================] - 677s 433ms/step - loss: 1.4500 - shap_loss: 1.4500 - eff_loss: 0.0000e+00 - val_loss: 8.2043 - val_shap_loss: 8.2043 - val_eff_loss: 0.0000e+00 - lr: 4.0960e-04\n",
      "Epoch 33/100\n",
      "1563/1563 [==============================] - ETA: 0s - loss: 1.2824 - shap_loss: 1.2824 - eff_loss: 0.0000e+00\n",
      "Epoch 33: val_shap_loss improved from 8.19106 to 8.01804, saving model to /home/sidtandon/Sid/GitRepo/iclr-fastshap/fastshap/experiments/images/cifar10/fastshap/20230615_11_54_27/explainer_weights.h5\n",
      "1563/1563 [==============================] - 678s 434ms/step - loss: 1.2824 - shap_loss: 1.2824 - eff_loss: 0.0000e+00 - val_loss: 8.0180 - val_shap_loss: 8.0180 - val_eff_loss: 0.0000e+00 - lr: 4.0960e-04\n",
      "Epoch 34/100\n",
      "1563/1563 [==============================] - ETA: 0s - loss: 1.1920 - shap_loss: 1.1920 - eff_loss: 0.0000e+00\n",
      "Epoch 34: val_shap_loss improved from 8.01804 to 7.86989, saving model to /home/sidtandon/Sid/GitRepo/iclr-fastshap/fastshap/experiments/images/cifar10/fastshap/20230615_11_54_27/explainer_weights.h5\n",
      "1563/1563 [==============================] - 678s 434ms/step - loss: 1.1920 - shap_loss: 1.1920 - eff_loss: 0.0000e+00 - val_loss: 7.8699 - val_shap_loss: 7.8699 - val_eff_loss: 0.0000e+00 - lr: 4.0960e-04\n",
      "Epoch 35/100\n",
      "1563/1563 [==============================] - ETA: 0s - loss: 1.1698 - shap_loss: 1.1698 - eff_loss: 0.0000e+00\n",
      "Epoch 35: val_shap_loss did not improve from 7.86989\n",
      "1563/1563 [==============================] - 678s 433ms/step - loss: 1.1698 - shap_loss: 1.1698 - eff_loss: 0.0000e+00 - val_loss: 8.0078 - val_shap_loss: 8.0078 - val_eff_loss: 0.0000e+00 - lr: 4.0960e-04\n",
      "Epoch 36/100\n",
      "1563/1563 [==============================] - ETA: 0s - loss: 1.1348 - shap_loss: 1.1348 - eff_loss: 0.0000e+00\n",
      "Epoch 36: val_shap_loss did not improve from 7.86989\n",
      "1563/1563 [==============================] - 676s 433ms/step - loss: 1.1348 - shap_loss: 1.1348 - eff_loss: 0.0000e+00 - val_loss: 8.0880 - val_shap_loss: 8.0880 - val_eff_loss: 0.0000e+00 - lr: 4.0960e-04\n",
      "Epoch 37/100\n",
      "1563/1563 [==============================] - ETA: 0s - loss: 1.0851 - shap_loss: 1.0851 - eff_loss: 0.0000e+00\n",
      "Epoch 37: val_shap_loss did not improve from 7.86989\n",
      "\n",
      "Epoch 37: ReduceLROnPlateau reducing learning rate to 0.00032768002711236477.\n",
      "1563/1563 [==============================] - 677s 433ms/step - loss: 1.0851 - shap_loss: 1.0851 - eff_loss: 0.0000e+00 - val_loss: 8.0694 - val_shap_loss: 8.0694 - val_eff_loss: 0.0000e+00 - lr: 4.0960e-04\n",
      "Epoch 38/100\n",
      "1563/1563 [==============================] - ETA: 0s - loss: 1.0800 - shap_loss: 1.0800 - eff_loss: 0.0000e+00\n",
      "Epoch 38: val_shap_loss did not improve from 7.86989\n",
      "1563/1563 [==============================] - 676s 433ms/step - loss: 1.0800 - shap_loss: 1.0800 - eff_loss: 0.0000e+00 - val_loss: 7.8826 - val_shap_loss: 7.8826 - val_eff_loss: 0.0000e+00 - lr: 3.2768e-04\n",
      "Epoch 39/100\n",
      "1563/1563 [==============================] - ETA: 0s - loss: 0.9799 - shap_loss: 0.9799 - eff_loss: 0.0000e+00\n",
      "Epoch 39: val_shap_loss improved from 7.86989 to 7.84820, saving model to /home/sidtandon/Sid/GitRepo/iclr-fastshap/fastshap/experiments/images/cifar10/fastshap/20230615_11_54_27/explainer_weights.h5\n",
      "1563/1563 [==============================] - 677s 433ms/step - loss: 0.9799 - shap_loss: 0.9799 - eff_loss: 0.0000e+00 - val_loss: 7.8482 - val_shap_loss: 7.8482 - val_eff_loss: 0.0000e+00 - lr: 3.2768e-04\n",
      "Epoch 40/100\n",
      "1563/1563 [==============================] - ETA: 0s - loss: 0.9312 - shap_loss: 0.9312 - eff_loss: 0.0000e+00\n",
      "Epoch 40: val_shap_loss did not improve from 7.84820\n",
      "1563/1563 [==============================] - 677s 433ms/step - loss: 0.9312 - shap_loss: 0.9312 - eff_loss: 0.0000e+00 - val_loss: 7.9646 - val_shap_loss: 7.9646 - val_eff_loss: 0.0000e+00 - lr: 3.2768e-04\n",
      "Epoch 41/100\n",
      "1563/1563 [==============================] - ETA: 0s - loss: 0.9108 - shap_loss: 0.9108 - eff_loss: 0.0000e+00\n",
      "Epoch 41: val_shap_loss improved from 7.84820 to 7.66452, saving model to /home/sidtandon/Sid/GitRepo/iclr-fastshap/fastshap/experiments/images/cifar10/fastshap/20230615_11_54_27/explainer_weights.h5\n",
      "1563/1563 [==============================] - 677s 433ms/step - loss: 0.9108 - shap_loss: 0.9108 - eff_loss: 0.0000e+00 - val_loss: 7.6645 - val_shap_loss: 7.6645 - val_eff_loss: 0.0000e+00 - lr: 3.2768e-04\n",
      "Epoch 42/100\n",
      "1563/1563 [==============================] - ETA: 0s - loss: 0.8869 - shap_loss: 0.8869 - eff_loss: 0.0000e+00\n",
      "Epoch 42: val_shap_loss did not improve from 7.66452\n",
      "1563/1563 [==============================] - 677s 433ms/step - loss: 0.8869 - shap_loss: 0.8869 - eff_loss: 0.0000e+00 - val_loss: 7.8294 - val_shap_loss: 7.8294 - val_eff_loss: 0.0000e+00 - lr: 3.2768e-04\n",
      "Epoch 43/100\n",
      "1563/1563 [==============================] - ETA: 0s - loss: 0.8860 - shap_loss: 0.8860 - eff_loss: 0.0000e+00\n",
      "Epoch 43: val_shap_loss did not improve from 7.66452\n",
      "1563/1563 [==============================] - 675s 432ms/step - loss: 0.8860 - shap_loss: 0.8860 - eff_loss: 0.0000e+00 - val_loss: 7.8349 - val_shap_loss: 7.8349 - val_eff_loss: 0.0000e+00 - lr: 3.2768e-04\n",
      "Epoch 44/100\n",
      "1563/1563 [==============================] - ETA: 0s - loss: 0.8447 - shap_loss: 0.8447 - eff_loss: 0.0000e+00\n",
      "Epoch 44: val_shap_loss did not improve from 7.66452\n",
      "\n",
      "Epoch 44: ReduceLROnPlateau reducing learning rate to 0.0002621440216898918.\n",
      "1563/1563 [==============================] - 676s 433ms/step - loss: 0.8447 - shap_loss: 0.8447 - eff_loss: 0.0000e+00 - val_loss: 8.0335 - val_shap_loss: 8.0335 - val_eff_loss: 0.0000e+00 - lr: 3.2768e-04\n",
      "Epoch 45/100\n",
      "1563/1563 [==============================] - ETA: 0s - loss: 0.8622 - shap_loss: 0.8622 - eff_loss: 0.0000e+00\n",
      "Epoch 45: val_shap_loss did not improve from 7.66452\n",
      "1563/1563 [==============================] - 679s 434ms/step - loss: 0.8622 - shap_loss: 0.8622 - eff_loss: 0.0000e+00 - val_loss: 7.7565 - val_shap_loss: 7.7565 - val_eff_loss: 0.0000e+00 - lr: 2.6214e-04\n",
      "Epoch 46/100\n",
      "1563/1563 [==============================] - ETA: 0s - loss: 0.7930 - shap_loss: 0.7930 - eff_loss: 0.0000e+00\n",
      "Epoch 46: val_shap_loss did not improve from 7.66452\n",
      "1563/1563 [==============================] - 677s 433ms/step - loss: 0.7930 - shap_loss: 0.7930 - eff_loss: 0.0000e+00 - val_loss: 8.0242 - val_shap_loss: 8.0242 - val_eff_loss: 0.0000e+00 - lr: 2.6214e-04\n",
      "Epoch 47/100\n",
      "1563/1563 [==============================] - ETA: 0s - loss: 0.7402 - shap_loss: 0.7402 - eff_loss: 0.0000e+00\n",
      "Epoch 47: val_shap_loss did not improve from 7.66452\n",
      "\n",
      "Epoch 47: ReduceLROnPlateau reducing learning rate to 0.00020971521735191345.\n",
      "1563/1563 [==============================] - 677s 433ms/step - loss: 0.7402 - shap_loss: 0.7402 - eff_loss: 0.0000e+00 - val_loss: 8.3061 - val_shap_loss: 8.3061 - val_eff_loss: 0.0000e+00 - lr: 2.6214e-04\n",
      "Epoch 48/100\n",
      "1563/1563 [==============================] - ETA: 0s - loss: 0.7366 - shap_loss: 0.7366 - eff_loss: 0.0000e+00\n",
      "Epoch 48: val_shap_loss did not improve from 7.66452\n",
      "1563/1563 [==============================] - 677s 433ms/step - loss: 0.7366 - shap_loss: 0.7366 - eff_loss: 0.0000e+00 - val_loss: 8.0655 - val_shap_loss: 8.0655 - val_eff_loss: 0.0000e+00 - lr: 2.0972e-04\n",
      "Epoch 49/100\n",
      "1563/1563 [==============================] - ETA: 0s - loss: 0.6586 - shap_loss: 0.6586 - eff_loss: 0.0000e+00\n",
      "Epoch 49: val_shap_loss did not improve from 7.66452\n",
      "1563/1563 [==============================] - 676s 433ms/step - loss: 0.6586 - shap_loss: 0.6586 - eff_loss: 0.0000e+00 - val_loss: 8.1283 - val_shap_loss: 8.1283 - val_eff_loss: 0.0000e+00 - lr: 2.0972e-04\n",
      "Epoch 50/100\n",
      "1563/1563 [==============================] - ETA: 0s - loss: 0.6108 - shap_loss: 0.6108 - eff_loss: 0.0000e+00\n",
      "Epoch 50: val_shap_loss did not improve from 7.66452\n",
      "\n",
      "Epoch 50: ReduceLROnPlateau reducing learning rate to 0.00016777217388153076.\n",
      "1563/1563 [==============================] - 677s 433ms/step - loss: 0.6108 - shap_loss: 0.6108 - eff_loss: 0.0000e+00 - val_loss: 7.9032 - val_shap_loss: 7.9032 - val_eff_loss: 0.0000e+00 - lr: 2.0972e-04\n",
      "Epoch 51/100\n",
      "1563/1563 [==============================] - ETA: 0s - loss: 0.6151 - shap_loss: 0.6151 - eff_loss: 0.0000e+00\n",
      "Epoch 51: val_shap_loss did not improve from 7.66452\n",
      "1563/1563 [==============================] - 678s 433ms/step - loss: 0.6151 - shap_loss: 0.6151 - eff_loss: 0.0000e+00 - val_loss: 7.7730 - val_shap_loss: 7.7730 - val_eff_loss: 0.0000e+00 - lr: 1.6777e-04\n",
      "Model: \"model_3\"\n",
      "_________________________________________________________________\n",
      " Layer (type)                Output Shape              Param #   \n",
      "=================================================================\n",
      " input (InputLayer)          [(None, 224, 224, 3)]     0         \n",
      "                                                                 \n",
      " model_1 (Functional)        (None, 14, 14, 256)       4955520   \n",
      "                                                                 \n",
      " conv2d (Conv2D)             (None, 14, 14, 10)        2570      \n",
      "                                                                 \n",
      " reshape_1 (Reshape)         (None, 196, 10)           0         \n",
      "                                                                 \n",
      " permute (Permute)           (None, 10, 196)           0         \n",
      "                                                                 \n",
      " phi (Layer)                 (None, 10, 196)           0         \n",
      "                                                                 \n",
      "=================================================================\n",
      "Total params: 4,958,090\n",
      "Trainable params: 4,939,274\n",
      "Non-trainable params: 18,816\n",
      "_________________________________________________________________\n"
     ]
    }
   ],
   "source": [
    "t = time.time()\n",
    "fastshap.train(train_data = ds_train, \n",
    "              val_data = ds_val, \n",
    "              max_epochs = EPOCHS, \n",
    "              batch_size = BATCH_SIZE, \n",
    "              num_samples = 1,\n",
    "              lr = LR,\n",
    "              paired_sampling = False, \n",
    "              eff_lambda = 0.0,\n",
    "              verbose = 1,\n",
    "              lookback = 10)\n",
    "training_time = time.time() - t\n",
    "\n",
    "with open(os.path.join(model_dir, 'training_time.pkl'), 'wb') as f:\n",
    "    pickle.dump(training_time, f)"
   ]
  },
  {
   "cell_type": "markdown",
   "id": "rocky-cross",
   "metadata": {},
   "source": [
    "# Explain w/ FastSHAP"
   ]
  },
  {
   "cell_type": "markdown",
   "id": "spectacular-murder",
   "metadata": {},
   "source": [
    "### Load Images"
   ]
  },
  {
   "cell_type": "code",
   "execution_count": 15,
   "id": "coral-biotechnology",
   "metadata": {},
   "outputs": [],
   "source": [
    "images_dir = os.path.join(os.getcwd(), 'images')\n",
    "images = np.load(os.path.join(images_dir, 'processed_images.npy'), allow_pickle=True)"
   ]
  },
  {
   "cell_type": "code",
   "execution_count": 16,
   "id": "2c0a5b46",
   "metadata": {},
   "outputs": [
    {
     "data": {
      "text/plain": [
       "(1000, 224, 224, 3)"
      ]
     },
     "execution_count": 16,
     "metadata": {},
     "output_type": "execute_result"
    }
   ],
   "source": [
    "images.shape"
   ]
  },
  {
   "cell_type": "markdown",
   "id": "based-liberal",
   "metadata": {},
   "source": [
    "### Explain"
   ]
  },
  {
   "cell_type": "code",
   "execution_count": 17,
   "id": "4cf7f361",
   "metadata": {},
   "outputs": [
    {
     "data": {
      "text/plain": [
       "[PhysicalDevice(name='/physical_device:GPU:0', device_type='GPU')]"
      ]
     },
     "execution_count": 17,
     "metadata": {},
     "output_type": "execute_result"
    }
   ],
   "source": [
    "import tensorflow as tf\n",
    "tf.config.list_physical_devices('GPU')\n",
    "\n",
    "#from keras import backend as K\n",
    "#tf.compat.v1.keras.backend.tensorflow_backend._get_available_gpus()"
   ]
  },
  {
   "cell_type": "code",
   "execution_count": 18,
   "id": "touched-lying",
   "metadata": {},
   "outputs": [
    {
     "name": "stdout",
     "output_type": "stream",
     "text": [
      "32/32 [==============================] - 3s 63ms/step\n"
     ]
    },
    {
     "name": "stderr",
     "output_type": "stream",
     "text": [
      "2023-06-15 21:31:53.380999: W tensorflow/tsl/framework/cpu_allocator_impl.cc:82] Allocation of 2007040000 exceeds 10% of free system memory.\n"
     ]
    }
   ],
   "source": [
    "t = time.time()\n",
    "shap_values = fastshap.explainer.predict(images)\n",
    "explaining_time = time.time() - t\n",
    "shap_values = [shap_values[:,:,:,i] for i in range(10)]"
   ]
  },
  {
   "cell_type": "markdown",
   "id": "undefined-extension",
   "metadata": {},
   "source": [
    "### Save"
   ]
  },
  {
   "cell_type": "code",
   "execution_count": 19,
   "id": "dd79528c",
   "metadata": {},
   "outputs": [
    {
     "data": {
      "text/plain": [
       "'/home/sidtandon/Sid/GitRepo/iclr-fastshap/fastshap/experiments/images/cifar10/fastshap/20230615_11_54_27'"
      ]
     },
     "execution_count": 19,
     "metadata": {},
     "output_type": "execute_result"
    }
   ],
   "source": [
    "model_dir"
   ]
  },
  {
   "cell_type": "code",
   "execution_count": 20,
   "id": "rising-reflection",
   "metadata": {},
   "outputs": [],
   "source": [
    "# save_dir = 'fastshap'\n",
    "# model_dir = os.path.join(os.getcwd(), save_dir, 'results')\n",
    "if not os.path.isdir(model_dir):\n",
    "    os.makedirs(model_dir)\n",
    "\n",
    "with open(os.path.join(model_dir, 'explaining_time.pkl'), 'wb') as f:\n",
    "    pickle.dump(explaining_time, f)\n",
    "    \n",
    "with open(os.path.join(model_dir, 'shap_values.pkl'), 'wb') as f:\n",
    "    pickle.dump(shap_values, f)"
   ]
  }
 ],
 "metadata": {
  "kernelspec": {
   "display_name": "Python 3.9.13 ('.venv': venv)",
   "language": "python",
   "name": "python3"
  },
  "language_info": {
   "codemirror_mode": {
    "name": "ipython",
    "version": 3
   },
   "file_extension": ".py",
   "mimetype": "text/x-python",
   "name": "python",
   "nbconvert_exporter": "python",
   "pygments_lexer": "ipython3",
   "version": "3.9.13"
  },
  "vscode": {
   "interpreter": {
    "hash": "6b00ad1606bbcc2f06f6d0dddae4ba1f9f3abf61f006d5f3ac83db30fb57b2e3"
   }
  }
 },
 "nbformat": 4,
 "nbformat_minor": 5
}
