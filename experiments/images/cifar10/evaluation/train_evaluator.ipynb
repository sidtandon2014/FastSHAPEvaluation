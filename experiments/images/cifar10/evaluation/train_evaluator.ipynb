{
 "cells": [
  {
   "cell_type": "code",
   "execution_count": 5,
   "id": "closed-funds",
   "metadata": {},
   "outputs": [
    {
     "name": "stderr",
     "output_type": "stream",
     "text": [
      "2022-11-10 15:49:41.187098: I tensorflow/core/platform/cpu_feature_guard.cc:193] This TensorFlow binary is optimized with oneAPI Deep Neural Network Library (oneDNN) to use the following CPU instructions in performance-critical operations:  AVX2 FMA\n",
      "To enable them in other operations, rebuild TensorFlow with the appropriate compiler flags.\n",
      "2022-11-10 15:49:41.418080: E tensorflow/stream_executor/cuda/cuda_blas.cc:2981] Unable to register cuBLAS factory: Attempting to register factory for plugin cuBLAS when one has already been registered\n",
      "2022-11-10 15:49:42.161378: W tensorflow/stream_executor/platform/default/dso_loader.cc:64] Could not load dynamic library 'libnvinfer.so.7'; dlerror: libnvinfer.so.7: cannot open shared object file: No such file or directory; LD_LIBRARY_PATH: /usr/local/cuda/lib64:/usr/local/nccl2/lib:/usr/local/cuda/extras/CUPTI/lib64:/usr/lib/mesa-diverted/x86_64-linux-gnu:/usr/lib/x86_64-linux-gnu/mesa:/usr/lib/x86_64-linux-gnu/dri:/usr/lib/x86_64-linux-gnu/gallium-pipe:/usr/local/cuda/lib64:/usr/local/nccl2/lib:/usr/local/cuda/extras/CUPTI/lib64\n",
      "2022-11-10 15:49:42.161489: W tensorflow/stream_executor/platform/default/dso_loader.cc:64] Could not load dynamic library 'libnvinfer_plugin.so.7'; dlerror: libnvinfer_plugin.so.7: cannot open shared object file: No such file or directory; LD_LIBRARY_PATH: /usr/local/cuda/lib64:/usr/local/nccl2/lib:/usr/local/cuda/extras/CUPTI/lib64:/usr/lib/mesa-diverted/x86_64-linux-gnu:/usr/lib/x86_64-linux-gnu/mesa:/usr/lib/x86_64-linux-gnu/dri:/usr/lib/x86_64-linux-gnu/gallium-pipe:/usr/local/cuda/lib64:/usr/local/nccl2/lib:/usr/local/cuda/extras/CUPTI/lib64\n",
      "2022-11-10 15:49:42.161500: W tensorflow/compiler/tf2tensorrt/utils/py_utils.cc:38] TF-TRT Warning: Cannot dlopen some TensorRT libraries. If you would like to use Nvidia GPU with TensorRT, please make sure the missing libraries mentioned above are installed properly.\n"
     ]
    }
   ],
   "source": [
    "import sys\n",
    "sys.path.insert(0, '../../../../fastshap_tf/')\n",
    "from fastshap import ResizeMask"
   ]
  },
  {
   "cell_type": "code",
   "execution_count": 6,
   "id": "comparable-nigeria",
   "metadata": {},
   "outputs": [],
   "source": [
    "import pickle\n",
    "import numpy as np\n",
    "import shap\n",
    "from tqdm.notebook import tqdm\n",
    "import time"
   ]
  },
  {
   "cell_type": "code",
   "execution_count": 7,
   "id": "authentic-emperor",
   "metadata": {},
   "outputs": [],
   "source": [
    "import tensorflow as tf\n",
    "import tensorflow_datasets as tfds\n",
    "\n",
    "from datetime import datetime\n",
    "import os"
   ]
  },
  {
   "cell_type": "code",
   "execution_count": 8,
   "id": "bacterial-blind",
   "metadata": {},
   "outputs": [],
   "source": [
    "from tensorflow.keras.layers import (Input, Layer, Dense, Lambda, \n",
    "                                     Dropout, Multiply, BatchNormalization, \n",
    "                                     Reshape, Concatenate, Conv2D, Permute)\n",
    "from tensorflow.keras.models import Model, Sequential\n",
    "from tensorflow.keras import regularizers\n",
    "from tensorflow.keras import backend as K\n",
    "from tensorflow.keras.callbacks import ModelCheckpoint, EarlyStopping, ReduceLROnPlateau\n",
    "from tensorflow.keras.layers.experimental.preprocessing import Resizing\n",
    "\n",
    "from tensorflow.keras.datasets import cifar10"
   ]
  },
  {
   "cell_type": "code",
   "execution_count": 9,
   "id": "laughing-vancouver",
   "metadata": {},
   "outputs": [],
   "source": [
    "#Select GPU\n",
    "os.environ['CUDA_VISIBLE_DEVICES'] = '2'"
   ]
  },
  {
   "cell_type": "markdown",
   "id": "unavailable-adobe",
   "metadata": {},
   "source": [
    "## Load Data"
   ]
  },
  {
   "cell_type": "code",
   "execution_count": 10,
   "id": "crude-ready",
   "metadata": {
    "ExecuteTime": {
     "end_time": "2021-03-16T19:34:35.186987Z",
     "start_time": "2021-03-16T19:34:35.180960Z"
    }
   },
   "outputs": [],
   "source": [
    "BATCH_SIZE = 32\n",
    "EPOCHS = 100\n",
    "LR = 1e-3\n",
    "INPUT_SHAPE = (224, 224, 3)"
   ]
  },
  {
   "cell_type": "markdown",
   "id": "needed-hours",
   "metadata": {},
   "source": [
    "### Load Data"
   ]
  },
  {
   "cell_type": "code",
   "execution_count": 11,
   "id": "intelligent-guinea",
   "metadata": {
    "ExecuteTime": {
     "end_time": "2021-03-16T19:34:36.732265Z",
     "start_time": "2021-03-16T19:34:36.267950Z"
    },
    "scrolled": false
   },
   "outputs": [
    {
     "name": "stdout",
     "output_type": "stream",
     "text": [
      "50000 train samples\n",
      "5000 val samples\n",
      "5000 test samples\n"
     ]
    },
    {
     "name": "stderr",
     "output_type": "stream",
     "text": [
      "2022-11-10 16:08:19.085094: E tensorflow/stream_executor/cuda/cuda_driver.cc:265] failed call to cuInit: CUDA_ERROR_NO_DEVICE: no CUDA-capable device is detected\n",
      "2022-11-10 16:08:19.085163: I tensorflow/stream_executor/cuda/cuda_diagnostics.cc:169] retrieving CUDA diagnostic information for host: gpu-instance\n",
      "2022-11-10 16:08:19.085176: I tensorflow/stream_executor/cuda/cuda_diagnostics.cc:176] hostname: gpu-instance\n",
      "2022-11-10 16:08:19.085363: I tensorflow/stream_executor/cuda/cuda_diagnostics.cc:200] libcuda reported version is: 470.57.2\n",
      "2022-11-10 16:08:19.085398: I tensorflow/stream_executor/cuda/cuda_diagnostics.cc:204] kernel reported version is: 470.57.2\n",
      "2022-11-10 16:08:19.085406: I tensorflow/stream_executor/cuda/cuda_diagnostics.cc:310] kernel version seems to match DSO: 470.57.2\n",
      "2022-11-10 16:08:19.085986: I tensorflow/core/platform/cpu_feature_guard.cc:193] This TensorFlow binary is optimized with oneAPI Deep Neural Network Library (oneDNN) to use the following CPU instructions in performance-critical operations:  AVX2 FMA\n",
      "To enable them in other operations, rebuild TensorFlow with the appropriate compiler flags.\n",
      "2022-11-10 16:08:20.468115: W tensorflow/core/framework/cpu_allocator_impl.cc:82] Allocation of 614400000 exceeds 10% of free system memory.\n",
      "2022-11-10 16:08:21.206433: W tensorflow/core/framework/cpu_allocator_impl.cc:82] Allocation of 61440000 exceeds 10% of free system memory.\n",
      "2022-11-10 16:08:21.391491: W tensorflow/core/framework/cpu_allocator_impl.cc:82] Allocation of 61440000 exceeds 10% of free system memory.\n"
     ]
    }
   ],
   "source": [
    "from sklearn.model_selection import train_test_split\n",
    "\n",
    "num_classes = 10\n",
    "\n",
    "# the data, split between train and test sets\n",
    "(x_train, y_train), (x_test, y_test) = cifar10.load_data()\n",
    "x_test, x_val, y_test, y_val = train_test_split(x_test, y_test, train_size=0.5, random_state=420)\n",
    "\n",
    "x_train = x_train.astype('float32')\n",
    "x_val = x_val.astype('float32')\n",
    "x_test = x_test.astype('float32')\n",
    "#Resize to 224x224\n",
    "\n",
    "print(x_train.shape[0], 'train samples')\n",
    "print(x_val.shape[0], 'val samples')\n",
    "print(x_test.shape[0], 'test samples')\n",
    "\n",
    "# convert class vectors to binary class matrices\n",
    "y_train = tf.keras.utils.to_categorical(y_train, num_classes)\n",
    "y_val = tf.keras.utils.to_categorical(y_val, num_classes)\n",
    "y_test = tf.keras.utils.to_categorical(y_test, num_classes)\n",
    "\n",
    "# Make TF Dataset\n",
    "ds_train = tf.data.Dataset.from_tensor_slices((x_train, y_train))\n",
    "ds_val = tf.data.Dataset.from_tensor_slices((x_val, y_val))\n",
    "ds_test = tf.data.Dataset.from_tensor_slices((x_test, y_test))"
   ]
  },
  {
   "cell_type": "markdown",
   "id": "young-antibody",
   "metadata": {},
   "source": [
    "### Batch Data"
   ]
  },
  {
   "cell_type": "code",
   "execution_count": 12,
   "id": "mathematical-cartridge",
   "metadata": {
    "ExecuteTime": {
     "end_time": "2021-03-16T19:34:38.036975Z",
     "start_time": "2021-03-16T19:34:38.030145Z"
    }
   },
   "outputs": [],
   "source": [
    "def batch_data(dataset, fn, batch_size=32):\n",
    "    dataset = dataset.map(fn)\n",
    "    dataset = dataset.batch(batch_size)\n",
    "    dataset = dataset.prefetch(tf.data.experimental.AUTOTUNE)\n",
    "    \n",
    "    return dataset"
   ]
  },
  {
   "cell_type": "markdown",
   "id": "electrical-nature",
   "metadata": {},
   "source": [
    "### Reformat Data"
   ]
  },
  {
   "cell_type": "code",
   "execution_count": 13,
   "id": "hungry-master",
   "metadata": {
    "ExecuteTime": {
     "end_time": "2021-03-16T19:34:39.459330Z",
     "start_time": "2021-03-16T19:34:39.356585Z"
    }
   },
   "outputs": [],
   "source": [
    "def reformat(x, y):\n",
    "    \n",
    "    x = tf.cast(x, tf.float32)\n",
    "    x = Resizing(INPUT_SHAPE[0], INPUT_SHAPE[1], interpolation='nearest')(x)\n",
    "    x = tf.keras.applications.resnet50.preprocess_input(x)\n",
    "    \n",
    "    return (x, y)\n",
    "\n",
    "ds_train = batch_data(ds_train, reformat, BATCH_SIZE)\n",
    "ds_val = batch_data(ds_val, reformat, BATCH_SIZE)\n",
    "ds_test = batch_data(ds_test, reformat, BATCH_SIZE)"
   ]
  },
  {
   "cell_type": "markdown",
   "id": "warming-foster",
   "metadata": {},
   "source": [
    "## Load Model"
   ]
  },
  {
   "cell_type": "code",
   "execution_count": 14,
   "id": "encouraging-digit",
   "metadata": {},
   "outputs": [
    {
     "ename": "FileNotFoundError",
     "evalue": "[Errno 2] Unable to open file (unable to open file: name = '../model/20210514_14_39_21/model_weights.h5', errno = 2, error message = 'No such file or directory', flags = 0, o_flags = 0)",
     "output_type": "error",
     "traceback": [
      "\u001b[0;31m---------------------------------------------------------------------------\u001b[0m",
      "\u001b[0;31mFileNotFoundError\u001b[0m                         Traceback (most recent call last)",
      "Cell \u001b[0;32mIn [14], line 18\u001b[0m\n\u001b[1;32m     14\u001b[0m model \u001b[38;5;241m=\u001b[39m Model(model_input, out)\n\u001b[1;32m     16\u001b[0m model_weights_path \u001b[38;5;241m=\u001b[39m \u001b[38;5;124m'\u001b[39m\u001b[38;5;124m../model/20210514_14_39_21/model_weights.h5\u001b[39m\u001b[38;5;124m'\u001b[39m\n\u001b[0;32m---> 18\u001b[0m \u001b[43mmodel\u001b[49m\u001b[38;5;241;43m.\u001b[39;49m\u001b[43mload_weights\u001b[49m\u001b[43m(\u001b[49m\u001b[43mmodel_weights_path\u001b[49m\u001b[43m)\u001b[49m\n\u001b[1;32m     19\u001b[0m model\u001b[38;5;241m.\u001b[39mtrainable \u001b[38;5;241m=\u001b[39m \u001b[38;5;28;01mFalse\u001b[39;00m\n",
      "File \u001b[0;32m~/Sid/GitRepo/iclr-fastshap/.venv/lib/python3.9/site-packages/keras/utils/traceback_utils.py:70\u001b[0m, in \u001b[0;36mfilter_traceback.<locals>.error_handler\u001b[0;34m(*args, **kwargs)\u001b[0m\n\u001b[1;32m     67\u001b[0m     filtered_tb \u001b[39m=\u001b[39m _process_traceback_frames(e\u001b[39m.\u001b[39m__traceback__)\n\u001b[1;32m     68\u001b[0m     \u001b[39m# To get the full stack trace, call:\u001b[39;00m\n\u001b[1;32m     69\u001b[0m     \u001b[39m# `tf.debugging.disable_traceback_filtering()`\u001b[39;00m\n\u001b[0;32m---> 70\u001b[0m     \u001b[39mraise\u001b[39;00m e\u001b[39m.\u001b[39mwith_traceback(filtered_tb) \u001b[39mfrom\u001b[39;00m \u001b[39mNone\u001b[39m\n\u001b[1;32m     71\u001b[0m \u001b[39mfinally\u001b[39;00m:\n\u001b[1;32m     72\u001b[0m     \u001b[39mdel\u001b[39;00m filtered_tb\n",
      "File \u001b[0;32m~/Sid/GitRepo/iclr-fastshap/.venv/lib/python3.9/site-packages/h5py/_hl/files.py:533\u001b[0m, in \u001b[0;36mFile.__init__\u001b[0;34m(self, name, mode, driver, libver, userblock_size, swmr, rdcc_nslots, rdcc_nbytes, rdcc_w0, track_order, fs_strategy, fs_persist, fs_threshold, fs_page_size, page_buf_size, min_meta_keep, min_raw_keep, locking, alignment_threshold, alignment_interval, **kwds)\u001b[0m\n\u001b[1;32m    525\u001b[0m     fapl \u001b[39m=\u001b[39m make_fapl(driver, libver, rdcc_nslots, rdcc_nbytes, rdcc_w0,\n\u001b[1;32m    526\u001b[0m                      locking, page_buf_size, min_meta_keep, min_raw_keep,\n\u001b[1;32m    527\u001b[0m                      alignment_threshold\u001b[39m=\u001b[39malignment_threshold,\n\u001b[1;32m    528\u001b[0m                      alignment_interval\u001b[39m=\u001b[39malignment_interval,\n\u001b[1;32m    529\u001b[0m                      \u001b[39m*\u001b[39m\u001b[39m*\u001b[39mkwds)\n\u001b[1;32m    530\u001b[0m     fcpl \u001b[39m=\u001b[39m make_fcpl(track_order\u001b[39m=\u001b[39mtrack_order, fs_strategy\u001b[39m=\u001b[39mfs_strategy,\n\u001b[1;32m    531\u001b[0m                      fs_persist\u001b[39m=\u001b[39mfs_persist, fs_threshold\u001b[39m=\u001b[39mfs_threshold,\n\u001b[1;32m    532\u001b[0m                      fs_page_size\u001b[39m=\u001b[39mfs_page_size)\n\u001b[0;32m--> 533\u001b[0m     fid \u001b[39m=\u001b[39m make_fid(name, mode, userblock_size, fapl, fcpl, swmr\u001b[39m=\u001b[39mswmr)\n\u001b[1;32m    535\u001b[0m \u001b[39mif\u001b[39;00m \u001b[39misinstance\u001b[39m(libver, \u001b[39mtuple\u001b[39m):\n\u001b[1;32m    536\u001b[0m     \u001b[39mself\u001b[39m\u001b[39m.\u001b[39m_libver \u001b[39m=\u001b[39m libver\n",
      "File \u001b[0;32m~/Sid/GitRepo/iclr-fastshap/.venv/lib/python3.9/site-packages/h5py/_hl/files.py:226\u001b[0m, in \u001b[0;36mmake_fid\u001b[0;34m(name, mode, userblock_size, fapl, fcpl, swmr)\u001b[0m\n\u001b[1;32m    224\u001b[0m     \u001b[39mif\u001b[39;00m swmr \u001b[39mand\u001b[39;00m swmr_support:\n\u001b[1;32m    225\u001b[0m         flags \u001b[39m|\u001b[39m\u001b[39m=\u001b[39m h5f\u001b[39m.\u001b[39mACC_SWMR_READ\n\u001b[0;32m--> 226\u001b[0m     fid \u001b[39m=\u001b[39m h5f\u001b[39m.\u001b[39;49mopen(name, flags, fapl\u001b[39m=\u001b[39;49mfapl)\n\u001b[1;32m    227\u001b[0m \u001b[39melif\u001b[39;00m mode \u001b[39m==\u001b[39m \u001b[39m'\u001b[39m\u001b[39mr+\u001b[39m\u001b[39m'\u001b[39m:\n\u001b[1;32m    228\u001b[0m     fid \u001b[39m=\u001b[39m h5f\u001b[39m.\u001b[39mopen(name, h5f\u001b[39m.\u001b[39mACC_RDWR, fapl\u001b[39m=\u001b[39mfapl)\n",
      "File \u001b[0;32mh5py/_objects.pyx:54\u001b[0m, in \u001b[0;36mh5py._objects.with_phil.wrapper\u001b[0;34m()\u001b[0m\n",
      "File \u001b[0;32mh5py/_objects.pyx:55\u001b[0m, in \u001b[0;36mh5py._objects.with_phil.wrapper\u001b[0;34m()\u001b[0m\n",
      "File \u001b[0;32mh5py/h5f.pyx:106\u001b[0m, in \u001b[0;36mh5py.h5f.open\u001b[0;34m()\u001b[0m\n",
      "\u001b[0;31mFileNotFoundError\u001b[0m: [Errno 2] Unable to open file (unable to open file: name = '../model/20210514_14_39_21/model_weights.h5', errno = 2, error message = 'No such file or directory', flags = 0, o_flags = 0)"
     ]
    }
   ],
   "source": [
    "from tensorflow.keras.applications.resnet50 import ResNet50\n",
    "\n",
    "base_model = ResNet50(\n",
    "    include_top=False, weights='imagenet', \n",
    "    input_shape=INPUT_SHAPE, pooling='avg'\n",
    ")\n",
    "base_model.trainable = True\n",
    "\n",
    "model_input = Input(shape=INPUT_SHAPE, name='input')\n",
    "\n",
    "net = base_model(model_input)\n",
    "out = Dense(10, activation='softmax')(net)\n",
    "\n",
    "model = Model(model_input, out)\n",
    "\n",
    "model_weights_path = '../model/20210514_14_39_21/model_weights.h5'\n",
    "\n",
    "model.load_weights(model_weights_path)\n",
    "model.trainable = False"
   ]
  },
  {
   "cell_type": "markdown",
   "id": "eastern-diving",
   "metadata": {},
   "source": [
    "# Train Evaluator"
   ]
  },
  {
   "cell_type": "markdown",
   "id": "verbal-superintendent",
   "metadata": {},
   "source": [
    "### Prepare Dataset w/ Model Predictions"
   ]
  },
  {
   "cell_type": "code",
   "execution_count": 11,
   "id": "dynamic-bubble",
   "metadata": {},
   "outputs": [],
   "source": [
    "@tf.function\n",
    "def make_prediction_data(x, y):\n",
    "    with tf.device(\"gpu:2\"):\n",
    "        y_model = model(x)\n",
    "    \n",
    "    return (x, y_model)\n",
    "\n",
    "with tf.device(\"gpu:2\"):\n",
    "    ds_train_pred = ds_train.map(make_prediction_data)\n",
    "    ds_val_pred = ds_val.map(make_prediction_data)\n",
    "    ds_test_pred = ds_test.map(make_prediction_data)"
   ]
  },
  {
   "cell_type": "markdown",
   "id": "absent-wildlife",
   "metadata": {},
   "source": [
    "### Save Dir"
   ]
  },
  {
   "cell_type": "code",
   "execution_count": 18,
   "id": "rubber-pontiac",
   "metadata": {},
   "outputs": [],
   "source": [
    "save_dir = 'evaluator'\n",
    "model_dir = os.path.join(os.getcwd(), save_dir)\n",
    "if not os.path.isdir(model_dir):\n",
    "    os.makedirs(model_dir)"
   ]
  },
  {
   "cell_type": "markdown",
   "id": "egyptian-observation",
   "metadata": {},
   "source": [
    "### Initialize Model"
   ]
  },
  {
   "cell_type": "code",
   "execution_count": 15,
   "id": "loved-secret",
   "metadata": {},
   "outputs": [],
   "source": [
    "class Random_Bernoulli_Sampler(Layer):\n",
    "    '''\n",
    "    Layer to Sample r\n",
    "    '''\n",
    "    def __init__(self, num_features, **kwargs):\n",
    "        super(Random_Bernoulli_Sampler, self).__init__(**kwargs)\n",
    "        \n",
    "        self.num_features = num_features\n",
    "        \n",
    "        \n",
    "    def call(self,  logits):\n",
    "        batch_size = tf.shape(logits)[0]\n",
    "        \n",
    "        u = tf.random.uniform(shape=(batch_size, self.num_features),\n",
    "                                    minval=np.finfo(\n",
    "                                        tf.float32.as_numpy_dtype).tiny,\n",
    "                                    maxval=1.0) \n",
    "\n",
    "        r = K.cast(tf.stop_gradient(u > 0.5), tf.float32)\n",
    "        \n",
    "        return r"
   ]
  },
  {
   "cell_type": "code",
   "execution_count": 16,
   "id": "previous-attempt",
   "metadata": {},
   "outputs": [],
   "source": [
    "base_model = ResNet50(\n",
    "    include_top=False, weights='imagenet', \n",
    "    input_shape=INPUT_SHAPE, pooling='avg'\n",
    ")\n",
    "base_model.trainable = True\n",
    "\n",
    "model_input = Input(shape=INPUT_SHAPE, dtype='float32', name='input')\n",
    "R = Random_Bernoulli_Sampler(14*14)(model_input)\n",
    "R = ResizeMask(in_shape=INPUT_SHAPE, mask_size=14*14)(R)\n",
    "xr = Multiply()([model_input, R])\n",
    "\n",
    "net = base_model(xr)\n",
    "out = Dense(10, activation='softmax')(net)\n",
    "\n",
    "evaluator_model = Model(model_input, out)"
   ]
  },
  {
   "cell_type": "markdown",
   "id": "square-cedar",
   "metadata": {},
   "source": [
    "### Train Model"
   ]
  },
  {
   "cell_type": "code",
   "execution_count": 19,
   "id": "quality-drunk",
   "metadata": {},
   "outputs": [
    {
     "name": "stderr",
     "output_type": "stream",
     "text": [
      "2022-11-11 03:21:06.003234: W tensorflow/core/framework/cpu_allocator_impl.cc:82] Allocation of 614400000 exceeds 10% of free system memory.\n"
     ]
    },
    {
     "name": "stdout",
     "output_type": "stream",
     "text": [
      "Epoch 1/100\n"
     ]
    },
    {
     "name": "stderr",
     "output_type": "stream",
     "text": [
      "2022-11-11 03:21:13.511120: W tensorflow/core/framework/cpu_allocator_impl.cc:82] Allocation of 102760448 exceeds 10% of free system memory.\n"
     ]
    },
    {
     "name": "stdout",
     "output_type": "stream",
     "text": [
      "1563/1563 [==============================] - ETA: 0s - loss: 1.1423 - auroc: 0.9257 - auprc: 0.6704 - accuracy: 0.5958\n",
      "Epoch 1: val_loss improved from inf to 0.96486, saving model to /home/sidtandon/Sid/GitRepo/iclr-fastshap/fastshap/experiments/images/cifar10/evaluation/evaluator/model_weights.h5\n",
      "1563/1563 [==============================] - 11187s 7s/step - loss: 1.1423 - auroc: 0.9257 - auprc: 0.6704 - accuracy: 0.5958 - val_loss: 0.9649 - val_auroc: 0.9468 - val_auprc: 0.7463 - val_accuracy: 0.6630 - lr: 0.0010\n",
      "Epoch 2/100\n",
      "1563/1563 [==============================] - ETA: 0s - loss: 0.7439 - auroc: 0.9676 - auprc: 0.8326 - accuracy: 0.7404\n",
      "Epoch 2: val_loss improved from 0.96486 to 0.83215, saving model to /home/sidtandon/Sid/GitRepo/iclr-fastshap/fastshap/experiments/images/cifar10/evaluation/evaluator/model_weights.h5\n",
      "1563/1563 [==============================] - 8896s 6s/step - loss: 0.7439 - auroc: 0.9676 - auprc: 0.8326 - accuracy: 0.7404 - val_loss: 0.8321 - val_auroc: 0.9602 - val_auprc: 0.7943 - val_accuracy: 0.7018 - lr: 0.0010\n",
      "Epoch 3/100\n",
      "1563/1563 [==============================] - ETA: 0s - loss: 0.5859 - auroc: 0.9792 - auprc: 0.8868 - accuracy: 0.7966\n",
      "Epoch 3: val_loss improved from 0.83215 to 0.71746, saving model to /home/sidtandon/Sid/GitRepo/iclr-fastshap/fastshap/experiments/images/cifar10/evaluation/evaluator/model_weights.h5\n",
      "1563/1563 [==============================] - 8862s 6s/step - loss: 0.5859 - auroc: 0.9792 - auprc: 0.8868 - accuracy: 0.7966 - val_loss: 0.7175 - val_auroc: 0.9693 - val_auprc: 0.8438 - val_accuracy: 0.7506 - lr: 0.0010\n",
      "Epoch 4/100\n",
      "1563/1563 [==============================] - ETA: 0s - loss: 0.4836 - auroc: 0.9855 - auprc: 0.9177 - accuracy: 0.8304\n",
      "Epoch 4: val_loss improved from 0.71746 to 0.64059, saving model to /home/sidtandon/Sid/GitRepo/iclr-fastshap/fastshap/experiments/images/cifar10/evaluation/evaluator/model_weights.h5\n",
      "1563/1563 [==============================] - 8800s 6s/step - loss: 0.4836 - auroc: 0.9855 - auprc: 0.9177 - accuracy: 0.8304 - val_loss: 0.6406 - val_auroc: 0.9747 - val_auprc: 0.8713 - val_accuracy: 0.7812 - lr: 0.0010\n",
      "Epoch 5/100\n",
      "1563/1563 [==============================] - ETA: 0s - loss: 0.4003 - auroc: 0.9897 - auprc: 0.9401 - accuracy: 0.8603\n",
      "Epoch 5: val_loss improved from 0.64059 to 0.62115, saving model to /home/sidtandon/Sid/GitRepo/iclr-fastshap/fastshap/experiments/images/cifar10/evaluation/evaluator/model_weights.h5\n",
      "1563/1563 [==============================] - 8844s 6s/step - loss: 0.4003 - auroc: 0.9897 - auprc: 0.9401 - accuracy: 0.8603 - val_loss: 0.6212 - val_auroc: 0.9749 - val_auprc: 0.8786 - val_accuracy: 0.7894 - lr: 0.0010\n",
      "Epoch 6/100\n",
      "1563/1563 [==============================] - ETA: 0s - loss: 0.3261 - auroc: 0.9930 - auprc: 0.9574 - accuracy: 0.8861\n",
      "Epoch 6: val_loss improved from 0.62115 to 0.56394, saving model to /home/sidtandon/Sid/GitRepo/iclr-fastshap/fastshap/experiments/images/cifar10/evaluation/evaluator/model_weights.h5\n",
      "1563/1563 [==============================] - 8570s 5s/step - loss: 0.3261 - auroc: 0.9930 - auprc: 0.9574 - accuracy: 0.8861 - val_loss: 0.5639 - val_auroc: 0.9795 - val_auprc: 0.9006 - val_accuracy: 0.8086 - lr: 0.0010\n",
      "Epoch 7/100\n",
      "1563/1563 [==============================] - ETA: 0s - loss: 0.2618 - auroc: 0.9954 - auprc: 0.9707 - accuracy: 0.9062\n",
      "Epoch 7: val_loss improved from 0.56394 to 0.53316, saving model to /home/sidtandon/Sid/GitRepo/iclr-fastshap/fastshap/experiments/images/cifar10/evaluation/evaluator/model_weights.h5\n",
      "1563/1563 [==============================] - 8510s 5s/step - loss: 0.2618 - auroc: 0.9954 - auprc: 0.9707 - accuracy: 0.9062 - val_loss: 0.5332 - val_auroc: 0.9797 - val_auprc: 0.9093 - val_accuracy: 0.8288 - lr: 0.0010\n",
      "Epoch 8/100\n",
      "1563/1563 [==============================] - ETA: 0s - loss: 0.2101 - auroc: 0.9968 - auprc: 0.9800 - accuracy: 0.9270\n",
      "Epoch 8: val_loss did not improve from 0.53316\n",
      "1563/1563 [==============================] - 8579s 5s/step - loss: 0.2101 - auroc: 0.9968 - auprc: 0.9800 - accuracy: 0.9270 - val_loss: 0.6941 - val_auroc: 0.9709 - val_auprc: 0.8768 - val_accuracy: 0.7974 - lr: 0.0010\n",
      "Epoch 9/100\n",
      "1563/1563 [==============================] - ETA: 0s - loss: 0.1723 - auroc: 0.9979 - auprc: 0.9859 - accuracy: 0.9392\n",
      "Epoch 9: val_loss did not improve from 0.53316\n",
      "1563/1563 [==============================] - 8447s 5s/step - loss: 0.1723 - auroc: 0.9979 - auprc: 0.9859 - accuracy: 0.9392 - val_loss: 0.6129 - val_auroc: 0.9746 - val_auprc: 0.8982 - val_accuracy: 0.8256 - lr: 0.0010\n",
      "Epoch 10/100\n",
      "1563/1563 [==============================] - ETA: 0s - loss: 0.1422 - auroc: 0.9984 - auprc: 0.9896 - accuracy: 0.9489\n",
      "Epoch 10: val_loss did not improve from 0.53316\n",
      "1563/1563 [==============================] - 8435s 5s/step - loss: 0.1422 - auroc: 0.9984 - auprc: 0.9896 - accuracy: 0.9489 - val_loss: 0.7114 - val_auroc: 0.9693 - val_auprc: 0.8795 - val_accuracy: 0.8050 - lr: 0.0010\n",
      "Epoch 11/100\n",
      "1563/1563 [==============================] - ETA: 0s - loss: 0.1240 - auroc: 0.9987 - auprc: 0.9918 - accuracy: 0.9572\n",
      "Epoch 11: val_loss did not improve from 0.53316\n",
      "1563/1563 [==============================] - 8484s 5s/step - loss: 0.1240 - auroc: 0.9987 - auprc: 0.9918 - accuracy: 0.9572 - val_loss: 0.5994 - val_auroc: 0.9755 - val_auprc: 0.9054 - val_accuracy: 0.8360 - lr: 0.0010\n",
      "Epoch 12/100\n",
      "1563/1563 [==============================] - ETA: 0s - loss: 0.1112 - auroc: 0.9988 - auprc: 0.9931 - accuracy: 0.9616\n",
      "Epoch 12: val_loss did not improve from 0.53316\n",
      "\n",
      "Epoch 12: ReduceLROnPlateau reducing learning rate to 0.0009500000451225787.\n",
      "1563/1563 [==============================] - 8417s 5s/step - loss: 0.1112 - auroc: 0.9988 - auprc: 0.9931 - accuracy: 0.9616 - val_loss: 0.5502 - val_auroc: 0.9792 - val_auprc: 0.9174 - val_accuracy: 0.8504 - lr: 0.0010\n",
      "Epoch 13/100\n",
      "1563/1563 [==============================] - ETA: 0s - loss: 0.0877 - auroc: 0.9993 - auprc: 0.9955 - accuracy: 0.9699\n",
      "Epoch 13: val_loss did not improve from 0.53316\n",
      "1563/1563 [==============================] - 8443s 5s/step - loss: 0.0877 - auroc: 0.9993 - auprc: 0.9955 - accuracy: 0.9699 - val_loss: 0.6098 - val_auroc: 0.9756 - val_auprc: 0.9084 - val_accuracy: 0.8370 - lr: 9.5000e-04\n",
      "Epoch 14/100\n",
      "1563/1563 [==============================] - ETA: 0s - loss: 0.0833 - auroc: 0.9992 - auprc: 0.9957 - accuracy: 0.9716\n",
      "Epoch 14: val_loss did not improve from 0.53316\n",
      "1563/1563 [==============================] - 8508s 5s/step - loss: 0.0833 - auroc: 0.9992 - auprc: 0.9957 - accuracy: 0.9716 - val_loss: 0.5520 - val_auroc: 0.9774 - val_auprc: 0.9159 - val_accuracy: 0.8482 - lr: 9.5000e-04\n",
      "Epoch 15/100\n",
      "1563/1563 [==============================] - ETA: 0s - loss: 0.0740 - auroc: 0.9994 - auprc: 0.9966 - accuracy: 0.9736\n",
      "Epoch 15: val_loss did not improve from 0.53316\n",
      "1563/1563 [==============================] - 8506s 5s/step - loss: 0.0740 - auroc: 0.9994 - auprc: 0.9966 - accuracy: 0.9736 - val_loss: 0.5816 - val_auroc: 0.9754 - val_auprc: 0.9141 - val_accuracy: 0.8532 - lr: 9.5000e-04\n",
      "Epoch 16/100\n",
      "1563/1563 [==============================] - ETA: 0s - loss: 0.0737 - auroc: 0.9994 - auprc: 0.9964 - accuracy: 0.9743\n",
      "Epoch 16: val_loss did not improve from 0.53316\n",
      "1563/1563 [==============================] - 8477s 5s/step - loss: 0.0737 - auroc: 0.9994 - auprc: 0.9964 - accuracy: 0.9743 - val_loss: 0.6095 - val_auroc: 0.9734 - val_auprc: 0.9064 - val_accuracy: 0.8522 - lr: 9.5000e-04\n",
      "Epoch 17/100\n",
      "1563/1563 [==============================] - ETA: 0s - loss: 0.0621 - auroc: 0.9995 - auprc: 0.9973 - accuracy: 0.9790\n",
      "Epoch 17: val_loss did not improve from 0.53316\n",
      "\n",
      "Epoch 17: ReduceLROnPlateau reducing learning rate to 0.0009025000152178108.\n",
      "1563/1563 [==============================] - 8490s 5s/step - loss: 0.0621 - auroc: 0.9995 - auprc: 0.9973 - accuracy: 0.9790 - val_loss: 0.6454 - val_auroc: 0.9727 - val_auprc: 0.9066 - val_accuracy: 0.8480 - lr: 9.5000e-04\n",
      "Epoch 18/100\n",
      "1563/1563 [==============================] - ETA: 0s - loss: 0.0571 - auroc: 0.9995 - auprc: 0.9976 - accuracy: 0.9807\n",
      "Epoch 18: val_loss did not improve from 0.53316\n",
      "1563/1563 [==============================] - 8449s 5s/step - loss: 0.0571 - auroc: 0.9995 - auprc: 0.9976 - accuracy: 0.9807 - val_loss: 0.6440 - val_auroc: 0.9727 - val_auprc: 0.9035 - val_accuracy: 0.8438 - lr: 9.0250e-04\n",
      "Epoch 19/100\n",
      "1563/1563 [==============================] - ETA: 0s - loss: 0.0541 - auroc: 0.9996 - auprc: 0.9978 - accuracy: 0.9816\n",
      "Epoch 19: val_loss did not improve from 0.53316\n",
      "1563/1563 [==============================] - 8443s 5s/step - loss: 0.0541 - auroc: 0.9996 - auprc: 0.9978 - accuracy: 0.9816 - val_loss: 0.5788 - val_auroc: 0.9760 - val_auprc: 0.9176 - val_accuracy: 0.8594 - lr: 9.0250e-04\n",
      "Epoch 20/100\n",
      "1191/1563 [=====================>........] - ETA: 33:17 - loss: 0.0542 - auroc: 0.9995 - auprc: 0.9977 - accuracy: 0.9817"
     ]
    },
    {
     "ename": "KeyboardInterrupt",
     "evalue": "",
     "output_type": "error",
     "traceback": [
      "\u001b[0;31m---------------------------------------------------------------------------\u001b[0m",
      "\u001b[0;31mKeyboardInterrupt\u001b[0m                         Traceback (most recent call last)",
      "Cell \u001b[0;32mIn [19], line 33\u001b[0m\n\u001b[1;32m     26\u001b[0m evaluator_model\u001b[38;5;241m.\u001b[39mcompile(\n\u001b[1;32m     27\u001b[0m     loss\u001b[38;5;241m=\u001b[39m\u001b[38;5;124m'\u001b[39m\u001b[38;5;124mcategorical_crossentropy\u001b[39m\u001b[38;5;124m'\u001b[39m,\n\u001b[1;32m     28\u001b[0m     optimizer\u001b[38;5;241m=\u001b[39mOPTIMIZER,\n\u001b[1;32m     29\u001b[0m     metrics\u001b[38;5;241m=\u001b[39mMETRICS,\n\u001b[1;32m     30\u001b[0m )\n\u001b[1;32m     32\u001b[0m \u001b[38;5;66;03m# Train Model\u001b[39;00m\n\u001b[0;32m---> 33\u001b[0m \u001b[43mevaluator_model\u001b[49m\u001b[38;5;241;43m.\u001b[39;49m\u001b[43mfit\u001b[49m\u001b[43m(\u001b[49m\u001b[43mds_train\u001b[49m\u001b[43m,\u001b[49m\n\u001b[1;32m     34\u001b[0m \u001b[43m          \u001b[49m\u001b[43mepochs\u001b[49m\u001b[43m \u001b[49m\u001b[38;5;241;43m=\u001b[39;49m\u001b[43m \u001b[49m\u001b[38;5;241;43m100\u001b[39;49m\u001b[43m,\u001b[49m\n\u001b[1;32m     35\u001b[0m \u001b[43m          \u001b[49m\u001b[43mvalidation_data\u001b[49m\u001b[43m \u001b[49m\u001b[38;5;241;43m=\u001b[39;49m\u001b[43m \u001b[49m\u001b[43mds_val\u001b[49m\u001b[43m,\u001b[49m\n\u001b[1;32m     36\u001b[0m \u001b[43m          \u001b[49m\u001b[43mcallbacks\u001b[49m\u001b[43m \u001b[49m\u001b[38;5;241;43m=\u001b[39;49m\u001b[43m \u001b[49m\u001b[43mCALLBACKS\u001b[49m\u001b[43m)\u001b[49m\n\u001b[1;32m     38\u001b[0m \u001b[38;5;66;03m# Get Checkpointed Model\u001b[39;00m\n\u001b[1;32m     39\u001b[0m \u001b[38;5;28mprint\u001b[39m(model_weights_path)\n",
      "File \u001b[0;32m~/Sid/GitRepo/iclr-fastshap/.venv/lib/python3.9/site-packages/keras/utils/traceback_utils.py:65\u001b[0m, in \u001b[0;36mfilter_traceback.<locals>.error_handler\u001b[0;34m(*args, **kwargs)\u001b[0m\n\u001b[1;32m     63\u001b[0m filtered_tb \u001b[39m=\u001b[39m \u001b[39mNone\u001b[39;00m\n\u001b[1;32m     64\u001b[0m \u001b[39mtry\u001b[39;00m:\n\u001b[0;32m---> 65\u001b[0m     \u001b[39mreturn\u001b[39;00m fn(\u001b[39m*\u001b[39;49margs, \u001b[39m*\u001b[39;49m\u001b[39m*\u001b[39;49mkwargs)\n\u001b[1;32m     66\u001b[0m \u001b[39mexcept\u001b[39;00m \u001b[39mException\u001b[39;00m \u001b[39mas\u001b[39;00m e:\n\u001b[1;32m     67\u001b[0m     filtered_tb \u001b[39m=\u001b[39m _process_traceback_frames(e\u001b[39m.\u001b[39m__traceback__)\n",
      "File \u001b[0;32m~/Sid/GitRepo/iclr-fastshap/.venv/lib/python3.9/site-packages/keras/engine/training.py:1564\u001b[0m, in \u001b[0;36mModel.fit\u001b[0;34m(self, x, y, batch_size, epochs, verbose, callbacks, validation_split, validation_data, shuffle, class_weight, sample_weight, initial_epoch, steps_per_epoch, validation_steps, validation_batch_size, validation_freq, max_queue_size, workers, use_multiprocessing)\u001b[0m\n\u001b[1;32m   1556\u001b[0m \u001b[39mwith\u001b[39;00m tf\u001b[39m.\u001b[39mprofiler\u001b[39m.\u001b[39mexperimental\u001b[39m.\u001b[39mTrace(\n\u001b[1;32m   1557\u001b[0m     \u001b[39m\"\u001b[39m\u001b[39mtrain\u001b[39m\u001b[39m\"\u001b[39m,\n\u001b[1;32m   1558\u001b[0m     epoch_num\u001b[39m=\u001b[39mepoch,\n\u001b[0;32m   (...)\u001b[0m\n\u001b[1;32m   1561\u001b[0m     _r\u001b[39m=\u001b[39m\u001b[39m1\u001b[39m,\n\u001b[1;32m   1562\u001b[0m ):\n\u001b[1;32m   1563\u001b[0m     callbacks\u001b[39m.\u001b[39mon_train_batch_begin(step)\n\u001b[0;32m-> 1564\u001b[0m     tmp_logs \u001b[39m=\u001b[39m \u001b[39mself\u001b[39;49m\u001b[39m.\u001b[39;49mtrain_function(iterator)\n\u001b[1;32m   1565\u001b[0m     \u001b[39mif\u001b[39;00m data_handler\u001b[39m.\u001b[39mshould_sync:\n\u001b[1;32m   1566\u001b[0m         context\u001b[39m.\u001b[39masync_wait()\n",
      "File \u001b[0;32m~/Sid/GitRepo/iclr-fastshap/.venv/lib/python3.9/site-packages/tensorflow/python/util/traceback_utils.py:150\u001b[0m, in \u001b[0;36mfilter_traceback.<locals>.error_handler\u001b[0;34m(*args, **kwargs)\u001b[0m\n\u001b[1;32m    148\u001b[0m filtered_tb \u001b[39m=\u001b[39m \u001b[39mNone\u001b[39;00m\n\u001b[1;32m    149\u001b[0m \u001b[39mtry\u001b[39;00m:\n\u001b[0;32m--> 150\u001b[0m   \u001b[39mreturn\u001b[39;00m fn(\u001b[39m*\u001b[39;49margs, \u001b[39m*\u001b[39;49m\u001b[39m*\u001b[39;49mkwargs)\n\u001b[1;32m    151\u001b[0m \u001b[39mexcept\u001b[39;00m \u001b[39mException\u001b[39;00m \u001b[39mas\u001b[39;00m e:\n\u001b[1;32m    152\u001b[0m   filtered_tb \u001b[39m=\u001b[39m _process_traceback_frames(e\u001b[39m.\u001b[39m__traceback__)\n",
      "File \u001b[0;32m~/Sid/GitRepo/iclr-fastshap/.venv/lib/python3.9/site-packages/tensorflow/python/eager/def_function.py:915\u001b[0m, in \u001b[0;36mFunction.__call__\u001b[0;34m(self, *args, **kwds)\u001b[0m\n\u001b[1;32m    912\u001b[0m compiler \u001b[39m=\u001b[39m \u001b[39m\"\u001b[39m\u001b[39mxla\u001b[39m\u001b[39m\"\u001b[39m \u001b[39mif\u001b[39;00m \u001b[39mself\u001b[39m\u001b[39m.\u001b[39m_jit_compile \u001b[39melse\u001b[39;00m \u001b[39m\"\u001b[39m\u001b[39mnonXla\u001b[39m\u001b[39m\"\u001b[39m\n\u001b[1;32m    914\u001b[0m \u001b[39mwith\u001b[39;00m OptionalXlaContext(\u001b[39mself\u001b[39m\u001b[39m.\u001b[39m_jit_compile):\n\u001b[0;32m--> 915\u001b[0m   result \u001b[39m=\u001b[39m \u001b[39mself\u001b[39;49m\u001b[39m.\u001b[39;49m_call(\u001b[39m*\u001b[39;49margs, \u001b[39m*\u001b[39;49m\u001b[39m*\u001b[39;49mkwds)\n\u001b[1;32m    917\u001b[0m new_tracing_count \u001b[39m=\u001b[39m \u001b[39mself\u001b[39m\u001b[39m.\u001b[39mexperimental_get_tracing_count()\n\u001b[1;32m    918\u001b[0m without_tracing \u001b[39m=\u001b[39m (tracing_count \u001b[39m==\u001b[39m new_tracing_count)\n",
      "File \u001b[0;32m~/Sid/GitRepo/iclr-fastshap/.venv/lib/python3.9/site-packages/tensorflow/python/eager/def_function.py:947\u001b[0m, in \u001b[0;36mFunction._call\u001b[0;34m(self, *args, **kwds)\u001b[0m\n\u001b[1;32m    944\u001b[0m   \u001b[39mself\u001b[39m\u001b[39m.\u001b[39m_lock\u001b[39m.\u001b[39mrelease()\n\u001b[1;32m    945\u001b[0m   \u001b[39m# In this case we have created variables on the first call, so we run the\u001b[39;00m\n\u001b[1;32m    946\u001b[0m   \u001b[39m# defunned version which is guaranteed to never create variables.\u001b[39;00m\n\u001b[0;32m--> 947\u001b[0m   \u001b[39mreturn\u001b[39;00m \u001b[39mself\u001b[39;49m\u001b[39m.\u001b[39;49m_stateless_fn(\u001b[39m*\u001b[39;49margs, \u001b[39m*\u001b[39;49m\u001b[39m*\u001b[39;49mkwds)  \u001b[39m# pylint: disable=not-callable\u001b[39;00m\n\u001b[1;32m    948\u001b[0m \u001b[39melif\u001b[39;00m \u001b[39mself\u001b[39m\u001b[39m.\u001b[39m_stateful_fn \u001b[39mis\u001b[39;00m \u001b[39mnot\u001b[39;00m \u001b[39mNone\u001b[39;00m:\n\u001b[1;32m    949\u001b[0m   \u001b[39m# Release the lock early so that multiple threads can perform the call\u001b[39;00m\n\u001b[1;32m    950\u001b[0m   \u001b[39m# in parallel.\u001b[39;00m\n\u001b[1;32m    951\u001b[0m   \u001b[39mself\u001b[39m\u001b[39m.\u001b[39m_lock\u001b[39m.\u001b[39mrelease()\n",
      "File \u001b[0;32m~/Sid/GitRepo/iclr-fastshap/.venv/lib/python3.9/site-packages/tensorflow/python/eager/function.py:2496\u001b[0m, in \u001b[0;36mFunction.__call__\u001b[0;34m(self, *args, **kwargs)\u001b[0m\n\u001b[1;32m   2493\u001b[0m \u001b[39mwith\u001b[39;00m \u001b[39mself\u001b[39m\u001b[39m.\u001b[39m_lock:\n\u001b[1;32m   2494\u001b[0m   (graph_function,\n\u001b[1;32m   2495\u001b[0m    filtered_flat_args) \u001b[39m=\u001b[39m \u001b[39mself\u001b[39m\u001b[39m.\u001b[39m_maybe_define_function(args, kwargs)\n\u001b[0;32m-> 2496\u001b[0m \u001b[39mreturn\u001b[39;00m graph_function\u001b[39m.\u001b[39;49m_call_flat(\n\u001b[1;32m   2497\u001b[0m     filtered_flat_args, captured_inputs\u001b[39m=\u001b[39;49mgraph_function\u001b[39m.\u001b[39;49mcaptured_inputs)\n",
      "File \u001b[0;32m~/Sid/GitRepo/iclr-fastshap/.venv/lib/python3.9/site-packages/tensorflow/python/eager/function.py:1862\u001b[0m, in \u001b[0;36mConcreteFunction._call_flat\u001b[0;34m(self, args, captured_inputs, cancellation_manager)\u001b[0m\n\u001b[1;32m   1858\u001b[0m possible_gradient_type \u001b[39m=\u001b[39m gradients_util\u001b[39m.\u001b[39mPossibleTapeGradientTypes(args)\n\u001b[1;32m   1859\u001b[0m \u001b[39mif\u001b[39;00m (possible_gradient_type \u001b[39m==\u001b[39m gradients_util\u001b[39m.\u001b[39mPOSSIBLE_GRADIENT_TYPES_NONE\n\u001b[1;32m   1860\u001b[0m     \u001b[39mand\u001b[39;00m executing_eagerly):\n\u001b[1;32m   1861\u001b[0m   \u001b[39m# No tape is watching; skip to running the function.\u001b[39;00m\n\u001b[0;32m-> 1862\u001b[0m   \u001b[39mreturn\u001b[39;00m \u001b[39mself\u001b[39m\u001b[39m.\u001b[39m_build_call_outputs(\u001b[39mself\u001b[39;49m\u001b[39m.\u001b[39;49m_inference_function\u001b[39m.\u001b[39;49mcall(\n\u001b[1;32m   1863\u001b[0m       ctx, args, cancellation_manager\u001b[39m=\u001b[39;49mcancellation_manager))\n\u001b[1;32m   1864\u001b[0m forward_backward \u001b[39m=\u001b[39m \u001b[39mself\u001b[39m\u001b[39m.\u001b[39m_select_forward_and_backward_functions(\n\u001b[1;32m   1865\u001b[0m     args,\n\u001b[1;32m   1866\u001b[0m     possible_gradient_type,\n\u001b[1;32m   1867\u001b[0m     executing_eagerly)\n\u001b[1;32m   1868\u001b[0m forward_function, args_with_tangents \u001b[39m=\u001b[39m forward_backward\u001b[39m.\u001b[39mforward()\n",
      "File \u001b[0;32m~/Sid/GitRepo/iclr-fastshap/.venv/lib/python3.9/site-packages/tensorflow/python/eager/function.py:499\u001b[0m, in \u001b[0;36m_EagerDefinedFunction.call\u001b[0;34m(self, ctx, args, cancellation_manager)\u001b[0m\n\u001b[1;32m    497\u001b[0m \u001b[39mwith\u001b[39;00m _InterpolateFunctionError(\u001b[39mself\u001b[39m):\n\u001b[1;32m    498\u001b[0m   \u001b[39mif\u001b[39;00m cancellation_manager \u001b[39mis\u001b[39;00m \u001b[39mNone\u001b[39;00m:\n\u001b[0;32m--> 499\u001b[0m     outputs \u001b[39m=\u001b[39m execute\u001b[39m.\u001b[39;49mexecute(\n\u001b[1;32m    500\u001b[0m         \u001b[39mstr\u001b[39;49m(\u001b[39mself\u001b[39;49m\u001b[39m.\u001b[39;49msignature\u001b[39m.\u001b[39;49mname),\n\u001b[1;32m    501\u001b[0m         num_outputs\u001b[39m=\u001b[39;49m\u001b[39mself\u001b[39;49m\u001b[39m.\u001b[39;49m_num_outputs,\n\u001b[1;32m    502\u001b[0m         inputs\u001b[39m=\u001b[39;49margs,\n\u001b[1;32m    503\u001b[0m         attrs\u001b[39m=\u001b[39;49mattrs,\n\u001b[1;32m    504\u001b[0m         ctx\u001b[39m=\u001b[39;49mctx)\n\u001b[1;32m    505\u001b[0m   \u001b[39melse\u001b[39;00m:\n\u001b[1;32m    506\u001b[0m     outputs \u001b[39m=\u001b[39m execute\u001b[39m.\u001b[39mexecute_with_cancellation(\n\u001b[1;32m    507\u001b[0m         \u001b[39mstr\u001b[39m(\u001b[39mself\u001b[39m\u001b[39m.\u001b[39msignature\u001b[39m.\u001b[39mname),\n\u001b[1;32m    508\u001b[0m         num_outputs\u001b[39m=\u001b[39m\u001b[39mself\u001b[39m\u001b[39m.\u001b[39m_num_outputs,\n\u001b[0;32m   (...)\u001b[0m\n\u001b[1;32m    511\u001b[0m         ctx\u001b[39m=\u001b[39mctx,\n\u001b[1;32m    512\u001b[0m         cancellation_manager\u001b[39m=\u001b[39mcancellation_manager)\n",
      "File \u001b[0;32m~/Sid/GitRepo/iclr-fastshap/.venv/lib/python3.9/site-packages/tensorflow/python/eager/execute.py:54\u001b[0m, in \u001b[0;36mquick_execute\u001b[0;34m(op_name, num_outputs, inputs, attrs, ctx, name)\u001b[0m\n\u001b[1;32m     52\u001b[0m \u001b[39mtry\u001b[39;00m:\n\u001b[1;32m     53\u001b[0m   ctx\u001b[39m.\u001b[39mensure_initialized()\n\u001b[0;32m---> 54\u001b[0m   tensors \u001b[39m=\u001b[39m pywrap_tfe\u001b[39m.\u001b[39;49mTFE_Py_Execute(ctx\u001b[39m.\u001b[39;49m_handle, device_name, op_name,\n\u001b[1;32m     55\u001b[0m                                       inputs, attrs, num_outputs)\n\u001b[1;32m     56\u001b[0m \u001b[39mexcept\u001b[39;00m core\u001b[39m.\u001b[39m_NotOkStatusException \u001b[39mas\u001b[39;00m e:\n\u001b[1;32m     57\u001b[0m   \u001b[39mif\u001b[39;00m name \u001b[39mis\u001b[39;00m \u001b[39mnot\u001b[39;00m \u001b[39mNone\u001b[39;00m:\n",
      "\u001b[0;31mKeyboardInterrupt\u001b[0m: "
     ]
    }
   ],
   "source": [
    "LR = 1e-3\n",
    "\n",
    "# Metrics\n",
    "METRICS = [ \n",
    "  tf.keras.metrics.AUC(name='auroc'),\n",
    "  tf.keras.metrics.AUC(curve='PR', name='auprc'),\n",
    "  tf.keras.metrics.TopKCategoricalAccuracy(k=1, name='accuracy'),\n",
    "]\n",
    "\n",
    "# Model Checkpointing\n",
    "model_weights_path = os.path.join(model_dir, 'model_weights.h5')\n",
    "checkpoint = ModelCheckpoint(model_weights_path, monitor='val_loss', verbose=1, \n",
    "                             save_best_only=True, mode='min', save_weights_only=True)\n",
    "\n",
    "# LR Schedule\n",
    "reduceLR = ReduceLROnPlateau(monitor='val_loss', factor=0.95, patience=5, \n",
    "                             verbose=1, mode='min', cooldown=1, min_lr=1e-3/10)\n",
    "\n",
    "# Early Stopping \n",
    "earlyStop = EarlyStopping(monitor=\"val_loss\", mode=\"min\", patience=10) \n",
    "\n",
    "# Compile Model\n",
    "CALLBACKS = [checkpoint, earlyStop, reduceLR]\n",
    "OPTIMIZER = tf.keras.optimizers.Adam(LR)\n",
    "\n",
    "evaluator_model.compile(\n",
    "    loss='categorical_crossentropy',\n",
    "    optimizer=OPTIMIZER,\n",
    "    metrics=METRICS,\n",
    ")\n",
    "\n",
    "# Train Model\n",
    "evaluator_model.fit(ds_train,\n",
    "          epochs = 20,\n",
    "          validation_data = ds_val,\n",
    "          callbacks = CALLBACKS)\n",
    "\n",
    "# Get Checkpointed Model\n",
    "print(model_weights_path)\n",
    "evaluator_model.load_weights(model_weights_path)\n",
    "evaluator_model = Sequential(   \n",
    "            [l for l in evaluator_model.layers[-2:]]\n",
    "        )\n",
    "evaluator_model.trainable = False"
   ]
  },
  {
   "cell_type": "code",
   "execution_count": 21,
   "id": "critical-bubble",
   "metadata": {},
   "outputs": [
    {
     "name": "stdout",
     "output_type": "stream",
     "text": [
      "157/157 [==============================] - 238s 2s/step - loss: 0.5068 - auroc: 0.9980 - auprc: 0.9925 - accuracy: 0.9662\n"
     ]
    },
    {
     "data": {
      "text/plain": [
       "[0.5067557096481323,\n",
       " 0.9980300068855286,\n",
       " 0.9925033450126648,\n",
       " 0.9662293791770935]"
      ]
     },
     "execution_count": 21,
     "metadata": {},
     "output_type": "execute_result"
    }
   ],
   "source": [
    "# Evaluate\n",
    "evaluator_model.compile(\n",
    "    loss='categorical_crossentropy',\n",
    "    optimizer=OPTIMIZER,\n",
    "    metrics=METRICS,\n",
    ")\n",
    "evaluator_model.evaluate(ds_test)"
   ]
  },
  {
   "cell_type": "code",
   "execution_count": 23,
   "id": "discrete-laundry",
   "metadata": {},
   "outputs": [
    {
     "name": "stdout",
     "output_type": "stream",
     "text": [
      "Model: \"sequential\"\n",
      "_________________________________________________________________\n",
      " Layer (type)                Output Shape              Param #   \n",
      "=================================================================\n",
      " resnet50 (Functional)       (None, 2048)              23587712  \n",
      "                                                                 \n",
      " dense_1 (Dense)             (None, 10)                20490     \n",
      "                                                                 \n",
      "=================================================================\n",
      "Total params: 23,608,202\n",
      "Trainable params: 0\n",
      "Non-trainable params: 23,608,202\n",
      "_________________________________________________________________\n"
     ]
    }
   ],
   "source": [
    "evaluator_model.summary()"
   ]
  },
  {
   "cell_type": "code",
   "execution_count": null,
   "id": "complete-organic",
   "metadata": {},
   "outputs": [],
   "source": []
  }
 ],
 "metadata": {
  "kernelspec": {
   "display_name": "Python 3.9.13 ('.venv': venv)",
   "language": "python",
   "name": "python3"
  },
  "language_info": {
   "codemirror_mode": {
    "name": "ipython",
    "version": 3
   },
   "file_extension": ".py",
   "mimetype": "text/x-python",
   "name": "python",
   "nbconvert_exporter": "python",
   "pygments_lexer": "ipython3",
   "version": "3.9.13"
  },
  "vscode": {
   "interpreter": {
    "hash": "b5e235a35a085e65ab154b6705f070b43334078fc98ad35254adcbf0a47f693f"
   }
  }
 },
 "nbformat": 4,
 "nbformat_minor": 5
}
