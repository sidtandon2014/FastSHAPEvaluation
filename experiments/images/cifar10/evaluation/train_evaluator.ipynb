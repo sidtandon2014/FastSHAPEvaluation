{
 "cells": [
  {
   "cell_type": "code",
   "execution_count": 1,
   "id": "closed-funds",
   "metadata": {},
   "outputs": [
    {
     "name": "stderr",
     "output_type": "stream",
     "text": [
      "/home/sidtandon/Sid/GitRepo/iclr-fastshap/fastshap/.venv/lib/python3.9/site-packages/tqdm/auto.py:22: TqdmWarning: IProgress not found. Please update jupyter and ipywidgets. See https://ipywidgets.readthedocs.io/en/stable/user_install.html\n",
      "  from .autonotebook import tqdm as notebook_tqdm\n",
      "2023-06-16 05:30:14.960774: I tensorflow/core/platform/cpu_feature_guard.cc:193] This TensorFlow binary is optimized with oneAPI Deep Neural Network Library (oneDNN) to use the following CPU instructions in performance-critical operations:  AVX2 FMA\n",
      "To enable them in other operations, rebuild TensorFlow with the appropriate compiler flags.\n",
      "2023-06-16 05:30:17.701247: W tensorflow/compiler/xla/stream_executor/platform/default/dso_loader.cc:64] Could not load dynamic library 'libnvinfer.so.7'; dlerror: libnvinfer.so.7: cannot open shared object file: No such file or directory; LD_LIBRARY_PATH: /usr/local/cuda/lib64:/usr/local/nccl2/lib:/usr/local/cuda/extras/CUPTI/lib64:/usr/lib/mesa-diverted/x86_64-linux-gnu:/usr/lib/x86_64-linux-gnu/mesa:/usr/lib/x86_64-linux-gnu/dri:/usr/lib/x86_64-linux-gnu/gallium-pipe:/usr/local/cuda/lib64:/usr/local/nccl2/lib:/usr/local/cuda/extras/CUPTI/lib64\n",
      "2023-06-16 05:30:17.702269: W tensorflow/compiler/xla/stream_executor/platform/default/dso_loader.cc:64] Could not load dynamic library 'libnvinfer_plugin.so.7'; dlerror: libnvinfer_plugin.so.7: cannot open shared object file: No such file or directory; LD_LIBRARY_PATH: /usr/local/cuda/lib64:/usr/local/nccl2/lib:/usr/local/cuda/extras/CUPTI/lib64:/usr/lib/mesa-diverted/x86_64-linux-gnu:/usr/lib/x86_64-linux-gnu/mesa:/usr/lib/x86_64-linux-gnu/dri:/usr/lib/x86_64-linux-gnu/gallium-pipe:/usr/local/cuda/lib64:/usr/local/nccl2/lib:/usr/local/cuda/extras/CUPTI/lib64\n",
      "2023-06-16 05:30:17.702285: W tensorflow/compiler/tf2tensorrt/utils/py_utils.cc:38] TF-TRT Warning: Cannot dlopen some TensorRT libraries. If you would like to use Nvidia GPU with TensorRT, please make sure the missing libraries mentioned above are installed properly.\n"
     ]
    }
   ],
   "source": [
    "import sys\n",
    "sys.path.insert(0, '../../../../fastshap_tf/')\n",
    "from fastshap import ResizeMask"
   ]
  },
  {
   "cell_type": "code",
   "execution_count": 2,
   "id": "comparable-nigeria",
   "metadata": {},
   "outputs": [],
   "source": [
    "import pickle\n",
    "import numpy as np\n",
    "import shap\n",
    "from tqdm.notebook import tqdm\n",
    "import time"
   ]
  },
  {
   "cell_type": "code",
   "execution_count": 3,
   "id": "authentic-emperor",
   "metadata": {},
   "outputs": [],
   "source": [
    "import tensorflow as tf\n",
    "import tensorflow_datasets as tfds\n",
    "\n",
    "from datetime import datetime\n",
    "import os"
   ]
  },
  {
   "cell_type": "code",
   "execution_count": 4,
   "id": "bacterial-blind",
   "metadata": {},
   "outputs": [],
   "source": [
    "from tensorflow.keras.layers import (Input, Layer, Dense, Lambda, \n",
    "                                     Dropout, Multiply, BatchNormalization, \n",
    "                                     Reshape, Concatenate, Conv2D, Permute)\n",
    "from tensorflow.keras.models import Model, Sequential\n",
    "from tensorflow.keras import regularizers\n",
    "from tensorflow.keras import backend as K\n",
    "from tensorflow.keras.callbacks import ModelCheckpoint, EarlyStopping, ReduceLROnPlateau\n",
    "from tensorflow.keras.layers.experimental.preprocessing import Resizing\n",
    "\n",
    "from tensorflow.keras.datasets import cifar10"
   ]
  },
  {
   "cell_type": "code",
   "execution_count": 5,
   "id": "laughing-vancouver",
   "metadata": {},
   "outputs": [],
   "source": [
    "#Select GPU\n",
    "os.environ['CUDA_VISIBLE_DEVICES'] = '2'"
   ]
  },
  {
   "cell_type": "markdown",
   "id": "unavailable-adobe",
   "metadata": {},
   "source": [
    "## Load Data"
   ]
  },
  {
   "cell_type": "code",
   "execution_count": 6,
   "id": "crude-ready",
   "metadata": {
    "ExecuteTime": {
     "end_time": "2021-03-16T19:34:35.186987Z",
     "start_time": "2021-03-16T19:34:35.180960Z"
    }
   },
   "outputs": [],
   "source": [
    "BATCH_SIZE = 32\n",
    "EPOCHS = 100\n",
    "LR = 1e-3\n",
    "INPUT_SHAPE = (224, 224, 3)"
   ]
  },
  {
   "cell_type": "markdown",
   "id": "needed-hours",
   "metadata": {},
   "source": [
    "### Load Data"
   ]
  },
  {
   "cell_type": "code",
   "execution_count": 7,
   "id": "intelligent-guinea",
   "metadata": {
    "ExecuteTime": {
     "end_time": "2021-03-16T19:34:36.732265Z",
     "start_time": "2021-03-16T19:34:36.267950Z"
    },
    "scrolled": false
   },
   "outputs": [
    {
     "name": "stdout",
     "output_type": "stream",
     "text": [
      "50000 train samples\n",
      "5000 val samples\n",
      "5000 test samples\n"
     ]
    },
    {
     "name": "stderr",
     "output_type": "stream",
     "text": [
      "2023-06-16 05:30:27.464289: E tensorflow/compiler/xla/stream_executor/cuda/cuda_driver.cc:267] failed call to cuInit: CUDA_ERROR_NO_DEVICE: no CUDA-capable device is detected\n",
      "2023-06-16 05:30:27.464350: I tensorflow/compiler/xla/stream_executor/cuda/cuda_diagnostics.cc:169] retrieving CUDA diagnostic information for host: gpu-instance\n",
      "2023-06-16 05:30:27.464361: I tensorflow/compiler/xla/stream_executor/cuda/cuda_diagnostics.cc:176] hostname: gpu-instance\n",
      "2023-06-16 05:30:27.464513: I tensorflow/compiler/xla/stream_executor/cuda/cuda_diagnostics.cc:200] libcuda reported version is: 470.57.2\n",
      "2023-06-16 05:30:27.464542: I tensorflow/compiler/xla/stream_executor/cuda/cuda_diagnostics.cc:204] kernel reported version is: 470.57.2\n",
      "2023-06-16 05:30:27.464549: I tensorflow/compiler/xla/stream_executor/cuda/cuda_diagnostics.cc:310] kernel version seems to match DSO: 470.57.2\n",
      "2023-06-16 05:30:27.470633: I tensorflow/core/platform/cpu_feature_guard.cc:193] This TensorFlow binary is optimized with oneAPI Deep Neural Network Library (oneDNN) to use the following CPU instructions in performance-critical operations:  AVX2 FMA\n",
      "To enable them in other operations, rebuild TensorFlow with the appropriate compiler flags.\n",
      "2023-06-16 05:30:32.159311: W tensorflow/tsl/framework/cpu_allocator_impl.cc:82] Allocation of 614400000 exceeds 10% of free system memory.\n"
     ]
    }
   ],
   "source": [
    "from sklearn.model_selection import train_test_split\n",
    "\n",
    "num_classes = 10\n",
    "\n",
    "# the data, split between train and test sets\n",
    "(x_train, y_train), (x_test, y_test) = cifar10.load_data()\n",
    "x_test, x_val, y_test, y_val = train_test_split(x_test, y_test, train_size=0.5, random_state=420)\n",
    "\n",
    "x_train = x_train.astype('float32')\n",
    "x_val = x_val.astype('float32')\n",
    "x_test = x_test.astype('float32')\n",
    "#Resize to 224x224\n",
    "\n",
    "print(x_train.shape[0], 'train samples')\n",
    "print(x_val.shape[0], 'val samples')\n",
    "print(x_test.shape[0], 'test samples')\n",
    "\n",
    "# convert class vectors to binary class matrices\n",
    "y_train = tf.keras.utils.to_categorical(y_train, num_classes)\n",
    "y_val = tf.keras.utils.to_categorical(y_val, num_classes)\n",
    "y_test = tf.keras.utils.to_categorical(y_test, num_classes)\n",
    "\n",
    "# Make TF Dataset\n",
    "ds_train = tf.data.Dataset.from_tensor_slices((x_train, y_train))\n",
    "ds_val = tf.data.Dataset.from_tensor_slices((x_val, y_val))\n",
    "ds_test = tf.data.Dataset.from_tensor_slices((x_test, y_test))"
   ]
  },
  {
   "cell_type": "markdown",
   "id": "young-antibody",
   "metadata": {},
   "source": [
    "### Batch Data"
   ]
  },
  {
   "cell_type": "code",
   "execution_count": 8,
   "id": "mathematical-cartridge",
   "metadata": {
    "ExecuteTime": {
     "end_time": "2021-03-16T19:34:38.036975Z",
     "start_time": "2021-03-16T19:34:38.030145Z"
    }
   },
   "outputs": [],
   "source": [
    "def batch_data(dataset, fn, batch_size=32):\n",
    "    dataset = dataset.map(fn)\n",
    "    dataset = dataset.batch(batch_size)\n",
    "    dataset = dataset.prefetch(tf.data.experimental.AUTOTUNE)\n",
    "    \n",
    "    return dataset"
   ]
  },
  {
   "cell_type": "markdown",
   "id": "electrical-nature",
   "metadata": {},
   "source": [
    "### Reformat Data"
   ]
  },
  {
   "cell_type": "code",
   "execution_count": 9,
   "id": "hungry-master",
   "metadata": {
    "ExecuteTime": {
     "end_time": "2021-03-16T19:34:39.459330Z",
     "start_time": "2021-03-16T19:34:39.356585Z"
    }
   },
   "outputs": [],
   "source": [
    "def reformat(x, y):\n",
    "    \n",
    "    x = tf.cast(x, tf.float32)\n",
    "    x = Resizing(INPUT_SHAPE[0], INPUT_SHAPE[1], interpolation='nearest')(x)\n",
    "    x = tf.keras.applications.resnet50.preprocess_input(x)\n",
    "    \n",
    "    return (x, y)\n",
    "\n",
    "ds_train = batch_data(ds_train, reformat, BATCH_SIZE)\n",
    "ds_val = batch_data(ds_val, reformat, BATCH_SIZE)\n",
    "ds_test = batch_data(ds_test, reformat, BATCH_SIZE)"
   ]
  },
  {
   "cell_type": "markdown",
   "id": "warming-foster",
   "metadata": {},
   "source": [
    "## Load Model"
   ]
  },
  {
   "cell_type": "code",
   "execution_count": 10,
   "id": "encouraging-digit",
   "metadata": {},
   "outputs": [],
   "source": [
    "from tensorflow.keras.applications.resnet50 import ResNet50\n",
    "\n",
    "base_model = ResNet50(\n",
    "    include_top=False, weights='imagenet', \n",
    "    input_shape=INPUT_SHAPE, pooling='avg'\n",
    ")\n",
    "base_model.trainable = True\n",
    "\n",
    "model_input = Input(shape=INPUT_SHAPE, name='input')\n",
    "\n",
    "net = base_model(model_input)\n",
    "out = Dense(10, activation='softmax')(net)\n",
    "\n",
    "model = Model(model_input, out)\n",
    "\n",
    "model_weights_path = '../model/20221113_03_18_29/model_weights.h5'\n",
    "\n",
    "model.load_weights(model_weights_path)\n",
    "model.trainable = False"
   ]
  },
  {
   "cell_type": "markdown",
   "id": "eastern-diving",
   "metadata": {},
   "source": [
    "# Train Evaluator"
   ]
  },
  {
   "cell_type": "markdown",
   "id": "verbal-superintendent",
   "metadata": {},
   "source": [
    "### Prepare Dataset w/ Model Predictions"
   ]
  },
  {
   "cell_type": "code",
   "execution_count": 11,
   "id": "dynamic-bubble",
   "metadata": {},
   "outputs": [],
   "source": [
    "@tf.function\n",
    "def make_prediction_data(x, y):\n",
    "    with tf.device(\"gpu:2\"):\n",
    "        y_model = model(x)\n",
    "    \n",
    "    return (x, y_model)\n",
    "\n",
    "with tf.device(\"gpu:2\"):\n",
    "    ds_train_pred = ds_train.map(make_prediction_data)\n",
    "    ds_val_pred = ds_val.map(make_prediction_data)\n",
    "    ds_test_pred = ds_test.map(make_prediction_data)"
   ]
  },
  {
   "cell_type": "markdown",
   "id": "absent-wildlife",
   "metadata": {},
   "source": [
    "### Save Dir"
   ]
  },
  {
   "cell_type": "code",
   "execution_count": 12,
   "id": "rubber-pontiac",
   "metadata": {},
   "outputs": [],
   "source": [
    "save_dir = 'evaluator'\n",
    "model_dir = os.path.join(os.getcwd(), save_dir)\n",
    "if not os.path.isdir(model_dir):\n",
    "    os.makedirs(model_dir)"
   ]
  },
  {
   "cell_type": "markdown",
   "id": "egyptian-observation",
   "metadata": {},
   "source": [
    "### Initialize Model"
   ]
  },
  {
   "cell_type": "code",
   "execution_count": 13,
   "id": "loved-secret",
   "metadata": {},
   "outputs": [],
   "source": [
    "class Random_Bernoulli_Sampler(Layer):\n",
    "    '''\n",
    "    Layer to Sample r\n",
    "    '''\n",
    "    def __init__(self, num_features, **kwargs):\n",
    "        super(Random_Bernoulli_Sampler, self).__init__(**kwargs)\n",
    "        \n",
    "        self.num_features = num_features\n",
    "        \n",
    "        \n",
    "    def call(self,  logits):\n",
    "        batch_size = tf.shape(logits)[0]\n",
    "        \n",
    "        u = tf.random.uniform(shape=(batch_size, self.num_features),\n",
    "                                    minval=np.finfo(\n",
    "                                        tf.float32.as_numpy_dtype).tiny,\n",
    "                                    maxval=1.0) \n",
    "\n",
    "        r = K.cast(tf.stop_gradient(u > 0.5), tf.float32)\n",
    "        \n",
    "        return r"
   ]
  },
  {
   "cell_type": "code",
   "execution_count": 14,
   "id": "previous-attempt",
   "metadata": {},
   "outputs": [
    {
     "name": "stdout",
     "output_type": "stream",
     "text": [
      "WARNING:tensorflow:From /home/sidtandon/Sid/GitRepo/iclr-fastshap/fastshap/.venv/lib/python3.9/site-packages/tensorflow/python/autograph/pyct/static_analysis/liveness.py:83: Analyzer.lamba_check (from tensorflow.python.autograph.pyct.static_analysis.liveness) is deprecated and will be removed after 2023-09-23.\n",
      "Instructions for updating:\n",
      "Lambda fuctions will be no more assumed to be used in the statement where they are used, or at least in the same block. https://github.com/tensorflow/tensorflow/issues/56089\n"
     ]
    }
   ],
   "source": [
    "base_model = ResNet50(\n",
    "    include_top=False, weights='imagenet', \n",
    "    input_shape=INPUT_SHAPE, pooling='avg'\n",
    ")\n",
    "base_model.trainable = True\n",
    "\n",
    "model_input = Input(shape=INPUT_SHAPE, dtype='float32', name='input')\n",
    "R = Random_Bernoulli_Sampler(14*14)(model_input)\n",
    "R = ResizeMask(in_shape=INPUT_SHAPE, mask_size=14*14)(R)\n",
    "xr = Multiply()([model_input, R])\n",
    "\n",
    "net = base_model(xr)\n",
    "out = Dense(10, activation='softmax')(net)\n",
    "\n",
    "evaluator_model = Model(model_input, out)"
   ]
  },
  {
   "cell_type": "markdown",
   "id": "square-cedar",
   "metadata": {},
   "source": [
    "### Train Model"
   ]
  },
  {
   "cell_type": "code",
   "execution_count": 15,
   "id": "quality-drunk",
   "metadata": {},
   "outputs": [
    {
     "name": "stderr",
     "output_type": "stream",
     "text": [
      "2023-06-16 05:30:41.958608: W tensorflow/tsl/framework/cpu_allocator_impl.cc:82] Allocation of 614400000 exceeds 10% of free system memory.\n"
     ]
    },
    {
     "name": "stdout",
     "output_type": "stream",
     "text": [
      "Epoch 1/20\n",
      "   1/1563 [..............................] - ETA: 11:26:35 - loss: 2.5220 - auroc: 0.5116 - auprc: 0.1036 - accuracy: 0.0625"
     ]
    }
   ],
   "source": [
    "LR = 1e-3\n",
    "\n",
    "# Metrics\n",
    "METRICS = [ \n",
    "  tf.keras.metrics.AUC(name='auroc'),\n",
    "  tf.keras.metrics.AUC(curve='PR', name='auprc'),\n",
    "  tf.keras.metrics.TopKCategoricalAccuracy(k=1, name='accuracy'),\n",
    "]\n",
    "\n",
    "# Model Checkpointing\n",
    "model_weights_path = os.path.join(model_dir, 'model_weights.h5')\n",
    "checkpoint = ModelCheckpoint(model_weights_path, monitor='val_loss', verbose=1, \n",
    "                             save_best_only=True, mode='min', save_weights_only=True)\n",
    "\n",
    "# LR Schedule\n",
    "reduceLR = ReduceLROnPlateau(monitor='val_loss', factor=0.95, patience=5, \n",
    "                             verbose=1, mode='min', cooldown=1, min_lr=1e-3/10)\n",
    "\n",
    "# Early Stopping \n",
    "earlyStop = EarlyStopping(monitor=\"val_loss\", mode=\"min\", patience=10) \n",
    "\n",
    "# Compile Model\n",
    "CALLBACKS = [checkpoint, earlyStop, reduceLR]\n",
    "OPTIMIZER = tf.keras.optimizers.Adam(LR)\n",
    "\n",
    "evaluator_model.compile(\n",
    "    loss='categorical_crossentropy',\n",
    "    optimizer=OPTIMIZER,\n",
    "    metrics=METRICS,\n",
    ")\n",
    "\n",
    "# Train Model\n",
    "evaluator_model.fit(ds_train,\n",
    "          epochs = 20,\n",
    "          validation_data = ds_val,\n",
    "          callbacks = CALLBACKS)\n",
    "\n",
    "# Get Checkpointed Model\n",
    "print(model_weights_path)\n",
    "evaluator_model.load_weights(model_weights_path)\n",
    "evaluator_model = Sequential(   \n",
    "            [l for l in evaluator_model.layers[-2:]]\n",
    "        )\n",
    "evaluator_model.trainable = False"
   ]
  },
  {
   "cell_type": "code",
   "execution_count": null,
   "id": "critical-bubble",
   "metadata": {},
   "outputs": [
    {
     "name": "stdout",
     "output_type": "stream",
     "text": [
      "157/157 [==============================] - 238s 2s/step - loss: 0.5068 - auroc: 0.9980 - auprc: 0.9925 - accuracy: 0.9662\n"
     ]
    },
    {
     "data": {
      "text/plain": [
       "[0.5067557096481323,\n",
       " 0.9980300068855286,\n",
       " 0.9925033450126648,\n",
       " 0.9662293791770935]"
      ]
     },
     "execution_count": 21,
     "metadata": {},
     "output_type": "execute_result"
    }
   ],
   "source": [
    "# Evaluate\n",
    "evaluator_model.compile(\n",
    "    loss='categorical_crossentropy',\n",
    "    optimizer=OPTIMIZER,\n",
    "    metrics=METRICS,\n",
    ")\n",
    "evaluator_model.evaluate(ds_test)"
   ]
  },
  {
   "cell_type": "code",
   "execution_count": null,
   "id": "discrete-laundry",
   "metadata": {},
   "outputs": [
    {
     "name": "stdout",
     "output_type": "stream",
     "text": [
      "Model: \"sequential\"\n",
      "_________________________________________________________________\n",
      " Layer (type)                Output Shape              Param #   \n",
      "=================================================================\n",
      " resnet50 (Functional)       (None, 2048)              23587712  \n",
      "                                                                 \n",
      " dense_1 (Dense)             (None, 10)                20490     \n",
      "                                                                 \n",
      "=================================================================\n",
      "Total params: 23,608,202\n",
      "Trainable params: 0\n",
      "Non-trainable params: 23,608,202\n",
      "_________________________________________________________________\n"
     ]
    }
   ],
   "source": [
    "evaluator_model.summary()"
   ]
  },
  {
   "cell_type": "code",
   "execution_count": null,
   "id": "complete-organic",
   "metadata": {},
   "outputs": [],
   "source": []
  }
 ],
 "metadata": {
  "kernelspec": {
   "display_name": "Python 3.9.13 ('.venv': venv)",
   "language": "python",
   "name": "python3"
  },
  "language_info": {
   "codemirror_mode": {
    "name": "ipython",
    "version": 3
   },
   "file_extension": ".py",
   "mimetype": "text/x-python",
   "name": "python",
   "nbconvert_exporter": "python",
   "pygments_lexer": "ipython3",
   "version": "3.9.13"
  },
  "vscode": {
   "interpreter": {
    "hash": "6b00ad1606bbcc2f06f6d0dddae4ba1f9f3abf61f006d5f3ac83db30fb57b2e3"
   }
  }
 },
 "nbformat": 4,
 "nbformat_minor": 5
}
