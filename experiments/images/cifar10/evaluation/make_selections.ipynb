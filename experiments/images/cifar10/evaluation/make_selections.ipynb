{
 "cells": [
  {
   "cell_type": "code",
   "execution_count": 2,
   "id": "severe-pound",
   "metadata": {},
   "outputs": [
    {
     "name": "stderr",
     "output_type": "stream",
     "text": [
      "2023-06-16 10:21:03.362919: I tensorflow/core/platform/cpu_feature_guard.cc:193] This TensorFlow binary is optimized with oneAPI Deep Neural Network Library (oneDNN) to use the following CPU instructions in performance-critical operations:  AVX2 FMA\n",
      "To enable them in other operations, rebuild TensorFlow with the appropriate compiler flags.\n",
      "2023-06-16 10:21:09.050977: W tensorflow/compiler/xla/stream_executor/platform/default/dso_loader.cc:64] Could not load dynamic library 'libnvinfer.so.7'; dlerror: libnvinfer.so.7: cannot open shared object file: No such file or directory; LD_LIBRARY_PATH: /usr/local/cuda/lib64:/usr/local/nccl2/lib:/usr/local/cuda/extras/CUPTI/lib64:/usr/lib/mesa-diverted/x86_64-linux-gnu:/usr/lib/x86_64-linux-gnu/mesa:/usr/lib/x86_64-linux-gnu/dri:/usr/lib/x86_64-linux-gnu/gallium-pipe:/usr/local/cuda/lib64:/usr/local/nccl2/lib:/usr/local/cuda/extras/CUPTI/lib64\n",
      "2023-06-16 10:21:09.055521: W tensorflow/compiler/xla/stream_executor/platform/default/dso_loader.cc:64] Could not load dynamic library 'libnvinfer_plugin.so.7'; dlerror: libnvinfer_plugin.so.7: cannot open shared object file: No such file or directory; LD_LIBRARY_PATH: /usr/local/cuda/lib64:/usr/local/nccl2/lib:/usr/local/cuda/extras/CUPTI/lib64:/usr/lib/mesa-diverted/x86_64-linux-gnu:/usr/lib/x86_64-linux-gnu/mesa:/usr/lib/x86_64-linux-gnu/dri:/usr/lib/x86_64-linux-gnu/gallium-pipe:/usr/local/cuda/lib64:/usr/local/nccl2/lib:/usr/local/cuda/extras/CUPTI/lib64\n",
      "2023-06-16 10:21:09.055564: W tensorflow/compiler/tf2tensorrt/utils/py_utils.cc:38] TF-TRT Warning: Cannot dlopen some TensorRT libraries. If you would like to use Nvidia GPU with TensorRT, please make sure the missing libraries mentioned above are installed properly.\n"
     ]
    }
   ],
   "source": [
    "import pickle\n",
    "import numpy as np\n",
    "import os\n",
    "\n",
    "import tensorflow as tf\n",
    "from tensorflow.keras.layers import AveragePooling2D, UpSampling2D"
   ]
  },
  {
   "cell_type": "code",
   "execution_count": 4,
   "id": "thrown-texas",
   "metadata": {},
   "outputs": [],
   "source": [
    "#Select GPU\n",
    "os.environ['CUDA_VISIBLE_DEVICES'] = '0'"
   ]
  },
  {
   "cell_type": "markdown",
   "id": "smart-alarm",
   "metadata": {},
   "source": [
    "# Shapley Value Masks"
   ]
  },
  {
   "cell_type": "code",
   "execution_count": 5,
   "id": "primary-continent",
   "metadata": {},
   "outputs": [],
   "source": [
    "for method in ['fastshap_ws']: #, 'kernelshap', 'kernelshap_plus', 'deepshap']:\n",
    "    \n",
    "    ################ Load ################\n",
    "\n",
    "    ### Load Shap Values\n",
    "    \n",
    "    if method == 'deepshap':\n",
    "        method_dir = os.path.join('../', method) \n",
    "    elif method == 'fastshap':\n",
    "        method_dir = os.path.join('../', method, '20221116_05_32_57') \n",
    "    elif method == 'fastshap_ws':\n",
    "        method_dir = os.path.join('../', method, '20230615_11_54_27') \n",
    "    else:\n",
    "        method_dir = os.path.join('../', method, 'results') \n",
    "    \n",
    "\n",
    "    with open(os.path.join(method_dir, 'shap_values.pkl'), 'rb') as f:\n",
    "        shap_values = pickle.load(f)\n",
    "\n",
    "    ### Load Labels and Model Predictions\n",
    "\n",
    "    labels_path = '../images/labels.npy'\n",
    "    labels = np.load(labels_path, allow_pickle=True)\n",
    "\n",
    "    preds_path = '../images/predictions.npy'\n",
    "    preds = np.load(preds_path, allow_pickle=True)\n",
    "\n",
    "    ################# Select Shapley Values for the Predicted Class ################\n",
    "\n",
    "    shap_values_select = []\n",
    "    for i, yp in enumerate(preds):\n",
    "        yp = yp.argmax()\n",
    "\n",
    "        shap_values_select.append(shap_values[yp][i])\n",
    "\n",
    "    shap_values_select = np.array(shap_values_select)\n",
    "    if method == 'deepshap':\n",
    "        # Sum for super pixel selections\n",
    "        shap_values_select = shap_values_select.sum(3) # Sum Accross Channels\n",
    "        shap_values_select = np.expand_dims(shap_values_select,-1)\n",
    "        shap_values_select = AveragePooling2D(pool_size=(16,16))(shap_values_select) * (16*16) #Sum Pooling\n",
    "        shap_values_select = UpSampling2D(size=(16,16))(shap_values_select).numpy()\n",
    "\n",
    "    ################ Extract Selection Masks: (Remove Top 1%, 5%, 10%, 25%, 50%) ################\n",
    "\n",
    "    shap_values_flat = shap_values_select.reshape(shap_values_select.shape[0], -1)\n",
    "    masks = {}\n",
    "    for p in [99, 95, 90, 85, 75, 50, 25, 15, 10, 5, 1]:\n",
    "        thresholds = np.percentile(shap_values_flat, p, axis=1)\n",
    "\n",
    "        masks[str(100-p)] = np.array([sv < tr for sv, tr in zip(shap_values_select, thresholds)]).astype(int) \n",
    "        \n",
    "    ################ Save ################\n",
    "    with open(os.path.join(method_dir, 'masks.pkl'), 'wb') as f:\n",
    "        pickle.dump(masks, f)"
   ]
  },
  {
   "cell_type": "code",
   "execution_count": 6,
   "id": "labeled-weekend",
   "metadata": {},
   "outputs": [],
   "source": [
    "for method in ['fastshap_ws']: #, 'kernelshap', 'kernelshap_plus', 'deepshap']:\n",
    "    \n",
    "    ################ Load ################\n",
    "\n",
    "    ### Load Shap Values\n",
    "    \n",
    "    if method == 'deepshap':\n",
    "        method_dir = os.path.join('../', method) \n",
    "    elif method == 'fastshap':\n",
    "        method_dir = os.path.join('../', method, '20221116_05_32_57')\n",
    "    elif method == 'fastshap_ws':\n",
    "        method_dir = os.path.join('../', method, '20230615_11_54_27') \n",
    "    else:\n",
    "        method_dir = os.path.join('../', method, 'results') \n",
    "    \n",
    "\n",
    "    with open(os.path.join(method_dir, 'shap_values.pkl'), 'rb') as f:\n",
    "        shap_values = pickle.load(f)\n",
    "\n",
    "    ### Load Labels and Model Predictions\n",
    "\n",
    "    labels_path = '../images/labels.npy'\n",
    "    labels = np.load(labels_path, allow_pickle=True)\n",
    "\n",
    "    preds_path = '../images/predictions.npy'\n",
    "    preds = np.load(preds_path, allow_pickle=True)\n",
    "\n",
    "    ################# Select Shapley Values for the Predicted Class ################\n",
    "\n",
    "    shap_values_select = []\n",
    "    for i, yp in enumerate(preds):\n",
    "        yp = yp.argmax()\n",
    "\n",
    "        shap_values_select.append(shap_values[yp][i])\n",
    "\n",
    "    shap_values_select = np.array(shap_values_select)\n",
    "    if method == 'deepshap':\n",
    "        # Sum for super pixel selections\n",
    "        shap_values_select = shap_values_select.sum(3) # Sum Accross Channels\n",
    "        shap_values_select = np.expand_dims(shap_values_select,-1)\n",
    "        shap_values_select = AveragePooling2D(pool_size=(16,16))(shap_values_select) * (16*16) #Sum Pooling\n",
    "        shap_values_select = UpSampling2D(size=(16,16))(shap_values_select).numpy()\n",
    "\n",
    "    ################ Extract Selection Masks: (Remove Top 1%, 5%, 10%, 25%, 50%) ################\n",
    "\n",
    "    shap_values_flat = shap_values_select.reshape(shap_values_select.shape[0], -1)\n",
    "    masks = {}\n",
    "    for p in [99, 95, 90, 85, 75, 50, 25, 15, 10, 5, 1]:\n",
    "        thresholds = np.percentile(shap_values_flat, p, axis=1)\n",
    "\n",
    "        masks[str(100-p)] = np.array([sv >= tr for sv, tr in zip(shap_values_select, thresholds)]).astype(int) \n",
    "        \n",
    "    ################ Save ################\n",
    "    with open(os.path.join(method_dir, 'masks_in.pkl'), 'wb') as f:\n",
    "        pickle.dump(masks, f)"
   ]
  },
  {
   "cell_type": "markdown",
   "id": "olympic-upper",
   "metadata": {},
   "source": [
    "# Gradient Explanation Masks"
   ]
  },
  {
   "cell_type": "code",
   "execution_count": 5,
   "id": "unnecessary-luxembourg",
   "metadata": {},
   "outputs": [
    {
     "ename": "FileNotFoundError",
     "evalue": "[Errno 2] No such file or directory: '../cxplain/results/explanations.npy'",
     "output_type": "error",
     "traceback": [
      "\u001b[0;31m---------------------------------------------------------------------------\u001b[0m",
      "\u001b[0;31mFileNotFoundError\u001b[0m                         Traceback (most recent call last)",
      "Cell \u001b[0;32mIn [5], line 10\u001b[0m\n\u001b[1;32m      8\u001b[0m \u001b[38;5;28;01melse\u001b[39;00m:\n\u001b[1;32m      9\u001b[0m     method_dir \u001b[38;5;241m=\u001b[39m os\u001b[38;5;241m.\u001b[39mpath\u001b[38;5;241m.\u001b[39mjoin(\u001b[38;5;124m'\u001b[39m\u001b[38;5;124m../\u001b[39m\u001b[38;5;124m'\u001b[39m, method)\n\u001b[0;32m---> 10\u001b[0m explanations \u001b[38;5;241m=\u001b[39m \u001b[43mnp\u001b[49m\u001b[38;5;241;43m.\u001b[39;49m\u001b[43mload\u001b[49m\u001b[43m(\u001b[49m\u001b[43mos\u001b[49m\u001b[38;5;241;43m.\u001b[39;49m\u001b[43mpath\u001b[49m\u001b[38;5;241;43m.\u001b[39;49m\u001b[43mjoin\u001b[49m\u001b[43m(\u001b[49m\u001b[43mmethod_dir\u001b[49m\u001b[43m,\u001b[49m\u001b[43m \u001b[49m\u001b[38;5;124;43m'\u001b[39;49m\u001b[38;5;124;43mexplanations.npy\u001b[39;49m\u001b[38;5;124;43m'\u001b[39;49m\u001b[43m)\u001b[49m\u001b[43m,\u001b[49m\u001b[43m \u001b[49m\u001b[43mallow_pickle\u001b[49m\u001b[38;5;241;43m=\u001b[39;49m\u001b[38;5;28;43;01mTrue\u001b[39;49;00m\u001b[43m)\u001b[49m\u001b[38;5;241m.\u001b[39mastype(\u001b[38;5;124m'\u001b[39m\u001b[38;5;124mfloat32\u001b[39m\u001b[38;5;124m'\u001b[39m)\n\u001b[1;32m     12\u001b[0m \u001b[38;5;66;03m### Add Small Random Noise To Ensure 0s are Selected Randomly\u001b[39;00m\n\u001b[1;32m     13\u001b[0m explanations \u001b[38;5;241m+\u001b[39m\u001b[38;5;241m=\u001b[39m np\u001b[38;5;241m.\u001b[39mrandom\u001b[38;5;241m.\u001b[39mrandn(\u001b[38;5;241m*\u001b[39mexplanations\u001b[38;5;241m.\u001b[39mshape)\u001b[38;5;241m*\u001b[39m\u001b[38;5;241m1e-8\u001b[39m\n",
      "File \u001b[0;32m~/Sid/GitRepo/iclr-fastshap/fastshap/.venv/lib/python3.9/site-packages/numpy/lib/npyio.py:390\u001b[0m, in \u001b[0;36mload\u001b[0;34m(file, mmap_mode, allow_pickle, fix_imports, encoding)\u001b[0m\n\u001b[1;32m    388\u001b[0m     own_fid \u001b[39m=\u001b[39m \u001b[39mFalse\u001b[39;00m\n\u001b[1;32m    389\u001b[0m \u001b[39melse\u001b[39;00m:\n\u001b[0;32m--> 390\u001b[0m     fid \u001b[39m=\u001b[39m stack\u001b[39m.\u001b[39menter_context(\u001b[39mopen\u001b[39;49m(os_fspath(file), \u001b[39m\"\u001b[39;49m\u001b[39mrb\u001b[39;49m\u001b[39m\"\u001b[39;49m))\n\u001b[1;32m    391\u001b[0m     own_fid \u001b[39m=\u001b[39m \u001b[39mTrue\u001b[39;00m\n\u001b[1;32m    393\u001b[0m \u001b[39m# Code to distinguish from NumPy binary files and pickles.\u001b[39;00m\n",
      "\u001b[0;31mFileNotFoundError\u001b[0m: [Errno 2] No such file or directory: '../cxplain/results/explanations.npy'"
     ]
    }
   ],
   "source": [
    "# for method in ['gradcam', 'smoothgrad', 'integratedgradients', 'cxplain']:\n",
    "for method in ['cxplain']:\n",
    "    ################ Load ################\n",
    "\n",
    "    ### Load Explanations\n",
    "    if method == 'cxplain':\n",
    "        method_dir = os.path.join('../', method, 'results')\n",
    "    else:\n",
    "        method_dir = os.path.join('../', method)\n",
    "    explanations = np.load(os.path.join(method_dir, 'explanations.npy'), allow_pickle=True).astype('float32')\n",
    "    \n",
    "    ### Add Small Random Noise To Ensure 0s are Selected Randomly\n",
    "    explanations += np.random.randn(*explanations.shape)*1e-8\n",
    "    \n",
    "    ### Sum for Super Pixel Selections\n",
    "    if method != 'cxplain':\n",
    "        explanations = np.expand_dims(explanations,-1)\n",
    "        explanations = AveragePooling2D(pool_size=(16,16))(explanations) * (16*16) #Sum Pooling\n",
    "        explanations = UpSampling2D(size=(16,16))(explanations).numpy()\n",
    "\n",
    "    ################ Extract Selection Masks: (Remove Top 1%, 5%, 10%, 25%, 50%) ################\n",
    "\n",
    "    explanations_flat = explanations.reshape(explanations.shape[0], -1)\n",
    "    masks = {}\n",
    "    for p in [99, 95, 90, 85, 75, 50, 25, 15, 10, 5, 1]:\n",
    "        thresholds = np.percentile(explanations_flat, p, axis=1)\n",
    "\n",
    "        masks[str(100-p)] = np.array([e < tr for e, tr in zip(explanations, thresholds)]).astype(int) \n",
    "        \n",
    "    ################ Save ################\n",
    "    with open(os.path.join(method_dir, 'masks.pkl'), 'wb') as f:\n",
    "        pickle.dump(masks, f)"
   ]
  },
  {
   "cell_type": "code",
   "execution_count": 4,
   "id": "double-infrared",
   "metadata": {},
   "outputs": [],
   "source": [
    "# for method in ['gradcam', 'smoothgrad', 'integratedgradients', 'cxplain']:\n",
    "for method in ['cxplain']:\n",
    "    ################ Load ################\n",
    "\n",
    "    ### Load Explanations\n",
    "    if method == 'cxplain':\n",
    "        method_dir = os.path.join('../', method, 'results')\n",
    "    else:\n",
    "        method_dir = os.path.join('../', method)\n",
    "    explanations = np.load(os.path.join(method_dir, 'explanations.npy'), allow_pickle=True).astype('float32')\n",
    "    \n",
    "    ### Add Small Random Noise To Ensure 0s are Selected Randomly\n",
    "    explanations += np.random.randn(*explanations.shape)*1e-8\n",
    "    \n",
    "    ### Mean for Super Pixel Selections\n",
    "    if method != 'cxplain':\n",
    "        explanations = np.expand_dims(explanations,-1)\n",
    "        explanations = AveragePooling2D(pool_size=(16,16))(explanations) * (16*16) #Sum Pooling\n",
    "        explanations = UpSampling2D(size=(16,16))(explanations).numpy()\n",
    "\n",
    "    ################ Extract Selection Masks: (Remove Top 1%, 5%, 10%, 25%, 50%) ################\n",
    "\n",
    "    explanations_flat = explanations.reshape(explanations.shape[0], -1)\n",
    "    masks = {}\n",
    "    for p in [99, 95, 90, 85, 75, 50, 25, 15, 10, 5, 1]:\n",
    "        thresholds = np.percentile(explanations_flat, p, axis=1)\n",
    "\n",
    "        masks[str(100-p)] = np.array([e >= tr for e, tr in zip(explanations, thresholds)]).astype(int) \n",
    "        \n",
    "    ################ Save ################\n",
    "    with open(os.path.join(method_dir, 'masks_in.pkl'), 'wb') as f:\n",
    "        pickle.dump(masks, f)"
   ]
  }
 ],
 "metadata": {
  "kernelspec": {
   "display_name": "Python 3.9.13 ('.venv': venv)",
   "language": "python",
   "name": "python3"
  },
  "language_info": {
   "codemirror_mode": {
    "name": "ipython",
    "version": 3
   },
   "file_extension": ".py",
   "mimetype": "text/x-python",
   "name": "python",
   "nbconvert_exporter": "python",
   "pygments_lexer": "ipython3",
   "version": "3.9.13"
  },
  "vscode": {
   "interpreter": {
    "hash": "6b00ad1606bbcc2f06f6d0dddae4ba1f9f3abf61f006d5f3ac83db30fb57b2e3"
   }
  }
 },
 "nbformat": 4,
 "nbformat_minor": 5
}
