{
 "cells": [
  {
   "cell_type": "code",
   "execution_count": 3,
   "id": "severe-pound",
   "metadata": {},
   "outputs": [
    {
     "name": "stderr",
     "output_type": "stream",
     "text": [
      "2022-11-18 07:18:06.208893: I tensorflow/core/platform/cpu_feature_guard.cc:193] This TensorFlow binary is optimized with oneAPI Deep Neural Network Library (oneDNN) to use the following CPU instructions in performance-critical operations:  AVX2 FMA\n",
      "To enable them in other operations, rebuild TensorFlow with the appropriate compiler flags.\n",
      "2022-11-18 07:18:07.135893: W tensorflow/compiler/xla/stream_executor/platform/default/dso_loader.cc:64] Could not load dynamic library 'libnvinfer.so.7'; dlerror: libnvinfer.so.7: cannot open shared object file: No such file or directory; LD_LIBRARY_PATH: /usr/local/cuda/lib64:/usr/local/nccl2/lib:/usr/local/cuda/extras/CUPTI/lib64:/usr/lib/mesa-diverted/x86_64-linux-gnu:/usr/lib/x86_64-linux-gnu/mesa:/usr/lib/x86_64-linux-gnu/dri:/usr/lib/x86_64-linux-gnu/gallium-pipe:/usr/local/cuda/lib64:/usr/local/nccl2/lib:/usr/local/cuda/extras/CUPTI/lib64\n",
      "2022-11-18 07:18:07.136045: W tensorflow/compiler/xla/stream_executor/platform/default/dso_loader.cc:64] Could not load dynamic library 'libnvinfer_plugin.so.7'; dlerror: libnvinfer_plugin.so.7: cannot open shared object file: No such file or directory; LD_LIBRARY_PATH: /usr/local/cuda/lib64:/usr/local/nccl2/lib:/usr/local/cuda/extras/CUPTI/lib64:/usr/lib/mesa-diverted/x86_64-linux-gnu:/usr/lib/x86_64-linux-gnu/mesa:/usr/lib/x86_64-linux-gnu/dri:/usr/lib/x86_64-linux-gnu/gallium-pipe:/usr/local/cuda/lib64:/usr/local/nccl2/lib:/usr/local/cuda/extras/CUPTI/lib64\n",
      "2022-11-18 07:18:07.136086: W tensorflow/compiler/tf2tensorrt/utils/py_utils.cc:38] TF-TRT Warning: Cannot dlopen some TensorRT libraries. If you would like to use Nvidia GPU with TensorRT, please make sure the missing libraries mentioned above are installed properly.\n"
     ]
    }
   ],
   "source": [
    "import pickle\n",
    "import numpy as np\n",
    "import os\n",
    "\n",
    "import tensorflow as tf\n",
    "from tensorflow.keras.layers import AveragePooling2D, UpSampling2D"
   ]
  },
  {
   "cell_type": "code",
   "execution_count": 4,
   "id": "thrown-texas",
   "metadata": {},
   "outputs": [],
   "source": [
    "#Select GPU\n",
    "os.environ['CUDA_VISIBLE_DEVICES'] = '0'"
   ]
  },
  {
   "cell_type": "markdown",
   "id": "smart-alarm",
   "metadata": {},
   "source": [
    "# Shapley Value Masks"
   ]
  },
  {
   "cell_type": "code",
   "execution_count": 10,
   "id": "be1fcf61",
   "metadata": {},
   "outputs": [
    {
     "data": {
      "text/plain": [
       "((1000, 10), (1000, 224, 224))"
      ]
     },
     "execution_count": 10,
     "metadata": {},
     "output_type": "execute_result"
    }
   ],
   "source": [
    "preds.shape, shap_values_select.shape"
   ]
  },
  {
   "cell_type": "code",
   "execution_count": 5,
   "id": "primary-continent",
   "metadata": {},
   "outputs": [],
   "source": [
    "for method in ['fastshap']: #, 'kernelshap', 'kernelshap_plus', 'deepshap']:\n",
    "    \n",
    "    ################ Load ################\n",
    "\n",
    "    ### Load Shap Values\n",
    "    \n",
    "    if method == 'deepshap':\n",
    "        method_dir = os.path.join('../', method) \n",
    "    elif method == 'fastshap':\n",
    "        method_dir = os.path.join('../', method, '20221116_05_32_57') \n",
    "    else:\n",
    "        method_dir = os.path.join('../', method, 'results') \n",
    "    \n",
    "\n",
    "    with open(os.path.join(method_dir, 'shap_values.pkl'), 'rb') as f:\n",
    "        shap_values = pickle.load(f)\n",
    "\n",
    "    ### Load Labels and Model Predictions\n",
    "\n",
    "    labels_path = '../images/labels.npy'\n",
    "    labels = np.load(labels_path, allow_pickle=True)\n",
    "\n",
    "    preds_path = '../images/predictions.npy'\n",
    "    preds = np.load(preds_path, allow_pickle=True)\n",
    "\n",
    "    ################# Select Shapley Values for the Predicted Class ################\n",
    "\n",
    "    shap_values_select = []\n",
    "    for i, yp in enumerate(preds):\n",
    "        yp = yp.argmax()\n",
    "\n",
    "        shap_values_select.append(shap_values[yp][i])\n",
    "\n",
    "    shap_values_select = np.array(shap_values_select)\n",
    "    if method == 'deepshap':\n",
    "        # Sum for super pixel selections\n",
    "        shap_values_select = shap_values_select.sum(3) # Sum Accross Channels\n",
    "        shap_values_select = np.expand_dims(shap_values_select,-1)\n",
    "        shap_values_select = AveragePooling2D(pool_size=(16,16))(shap_values_select) * (16*16) #Sum Pooling\n",
    "        shap_values_select = UpSampling2D(size=(16,16))(shap_values_select).numpy()\n",
    "\n",
    "    ################ Extract Selection Masks: (Remove Top 1%, 5%, 10%, 25%, 50%) ################\n",
    "\n",
    "    shap_values_flat = shap_values_select.reshape(shap_values_select.shape[0], -1)\n",
    "    masks = {}\n",
    "    for p in [99, 95, 90, 85, 75, 50, 25, 15, 10, 5, 1]:\n",
    "        thresholds = np.percentile(shap_values_flat, p, axis=1)\n",
    "\n",
    "        masks[str(100-p)] = np.array([sv < tr for sv, tr in zip(shap_values_select, thresholds)]).astype(int) \n",
    "        \n",
    "    ################ Save ################\n",
    "    with open(os.path.join(method_dir, 'masks.pkl'), 'wb') as f:\n",
    "        pickle.dump(masks, f)"
   ]
  },
  {
   "cell_type": "code",
   "execution_count": 12,
   "id": "labeled-weekend",
   "metadata": {},
   "outputs": [],
   "source": [
    "for method in ['fastshap']: #, 'kernelshap', 'kernelshap_plus', 'deepshap']:\n",
    "    \n",
    "    ################ Load ################\n",
    "\n",
    "    ### Load Shap Values\n",
    "    \n",
    "    if method == 'deepshap':\n",
    "        method_dir = os.path.join('../', method) \n",
    "    elif method == 'fastshap':\n",
    "        method_dir = os.path.join('../', method, '20221116_05_32_57')\n",
    "    else:\n",
    "        method_dir = os.path.join('../', method, 'results') \n",
    "    \n",
    "\n",
    "    with open(os.path.join(method_dir, 'shap_values.pkl'), 'rb') as f:\n",
    "        shap_values = pickle.load(f)\n",
    "\n",
    "    ### Load Labels and Model Predictions\n",
    "\n",
    "    labels_path = '../images/labels.npy'\n",
    "    labels = np.load(labels_path, allow_pickle=True)\n",
    "\n",
    "    preds_path = '../images/predictions.npy'\n",
    "    preds = np.load(preds_path, allow_pickle=True)\n",
    "\n",
    "    ################# Select Shapley Values for the Predicted Class ################\n",
    "\n",
    "    shap_values_select = []\n",
    "    for i, yp in enumerate(preds):\n",
    "        yp = yp.argmax()\n",
    "\n",
    "        shap_values_select.append(shap_values[yp][i])\n",
    "\n",
    "    shap_values_select = np.array(shap_values_select)\n",
    "    if method == 'deepshap':\n",
    "        # Sum for super pixel selections\n",
    "        shap_values_select = shap_values_select.sum(3) # Sum Accross Channels\n",
    "        shap_values_select = np.expand_dims(shap_values_select,-1)\n",
    "        shap_values_select = AveragePooling2D(pool_size=(16,16))(shap_values_select) * (16*16) #Sum Pooling\n",
    "        shap_values_select = UpSampling2D(size=(16,16))(shap_values_select).numpy()\n",
    "\n",
    "    ################ Extract Selection Masks: (Remove Top 1%, 5%, 10%, 25%, 50%) ################\n",
    "\n",
    "    shap_values_flat = shap_values_select.reshape(shap_values_select.shape[0], -1)\n",
    "    masks = {}\n",
    "    for p in [99, 95, 90, 85, 75, 50, 25, 15, 10, 5, 1]:\n",
    "        thresholds = np.percentile(shap_values_flat, p, axis=1)\n",
    "\n",
    "        masks[str(100-p)] = np.array([sv >= tr for sv, tr in zip(shap_values_select, thresholds)]).astype(int) \n",
    "        \n",
    "    ################ Save ################\n",
    "    with open(os.path.join(method_dir, 'masks_in.pkl'), 'wb') as f:\n",
    "        pickle.dump(masks, f)"
   ]
  },
  {
   "cell_type": "markdown",
   "id": "olympic-upper",
   "metadata": {},
   "source": [
    "# Gradient Explanation Masks"
   ]
  },
  {
   "cell_type": "code",
   "execution_count": 3,
   "id": "unnecessary-luxembourg",
   "metadata": {},
   "outputs": [],
   "source": [
    "# for method in ['gradcam', 'smoothgrad', 'integratedgradients', 'cxplain']:\n",
    "for method in ['cxplain']:\n",
    "    ################ Load ################\n",
    "\n",
    "    ### Load Explanations\n",
    "    if method == 'cxplain':\n",
    "        method_dir = os.path.join('../', method, 'results')\n",
    "    else:\n",
    "        method_dir = os.path.join('../', method)\n",
    "    explanations = np.load(os.path.join(method_dir, 'explanations.npy'), allow_pickle=True).astype('float32')\n",
    "    \n",
    "    ### Add Small Random Noise To Ensure 0s are Selected Randomly\n",
    "    explanations += np.random.randn(*explanations.shape)*1e-8\n",
    "    \n",
    "    ### Sum for Super Pixel Selections\n",
    "    if method != 'cxplain':\n",
    "        explanations = np.expand_dims(explanations,-1)\n",
    "        explanations = AveragePooling2D(pool_size=(16,16))(explanations) * (16*16) #Sum Pooling\n",
    "        explanations = UpSampling2D(size=(16,16))(explanations).numpy()\n",
    "\n",
    "    ################ Extract Selection Masks: (Remove Top 1%, 5%, 10%, 25%, 50%) ################\n",
    "\n",
    "    explanations_flat = explanations.reshape(explanations.shape[0], -1)\n",
    "    masks = {}\n",
    "    for p in [99, 95, 90, 85, 75, 50, 25, 15, 10, 5, 1]:\n",
    "        thresholds = np.percentile(explanations_flat, p, axis=1)\n",
    "\n",
    "        masks[str(100-p)] = np.array([e < tr for e, tr in zip(explanations, thresholds)]).astype(int) \n",
    "        \n",
    "    ################ Save ################\n",
    "    with open(os.path.join(method_dir, 'masks.pkl'), 'wb') as f:\n",
    "        pickle.dump(masks, f)"
   ]
  },
  {
   "cell_type": "code",
   "execution_count": 4,
   "id": "double-infrared",
   "metadata": {},
   "outputs": [],
   "source": [
    "# for method in ['gradcam', 'smoothgrad', 'integratedgradients', 'cxplain']:\n",
    "for method in ['cxplain']:\n",
    "    ################ Load ################\n",
    "\n",
    "    ### Load Explanations\n",
    "    if method == 'cxplain':\n",
    "        method_dir = os.path.join('../', method, 'results')\n",
    "    else:\n",
    "        method_dir = os.path.join('../', method)\n",
    "    explanations = np.load(os.path.join(method_dir, 'explanations.npy'), allow_pickle=True).astype('float32')\n",
    "    \n",
    "    ### Add Small Random Noise To Ensure 0s are Selected Randomly\n",
    "    explanations += np.random.randn(*explanations.shape)*1e-8\n",
    "    \n",
    "    ### Mean for Super Pixel Selections\n",
    "    if method != 'cxplain':\n",
    "        explanations = np.expand_dims(explanations,-1)\n",
    "        explanations = AveragePooling2D(pool_size=(16,16))(explanations) * (16*16) #Sum Pooling\n",
    "        explanations = UpSampling2D(size=(16,16))(explanations).numpy()\n",
    "\n",
    "    ################ Extract Selection Masks: (Remove Top 1%, 5%, 10%, 25%, 50%) ################\n",
    "\n",
    "    explanations_flat = explanations.reshape(explanations.shape[0], -1)\n",
    "    masks = {}\n",
    "    for p in [99, 95, 90, 85, 75, 50, 25, 15, 10, 5, 1]:\n",
    "        thresholds = np.percentile(explanations_flat, p, axis=1)\n",
    "\n",
    "        masks[str(100-p)] = np.array([e >= tr for e, tr in zip(explanations, thresholds)]).astype(int) \n",
    "        \n",
    "    ################ Save ################\n",
    "    with open(os.path.join(method_dir, 'masks_in.pkl'), 'wb') as f:\n",
    "        pickle.dump(masks, f)"
   ]
  }
 ],
 "metadata": {
  "kernelspec": {
   "display_name": "Python 3.9.13 ('.venv': venv)",
   "language": "python",
   "name": "python3"
  },
  "language_info": {
   "codemirror_mode": {
    "name": "ipython",
    "version": 3
   },
   "file_extension": ".py",
   "mimetype": "text/x-python",
   "name": "python",
   "nbconvert_exporter": "python",
   "pygments_lexer": "ipython3",
   "version": "3.9.13"
  },
  "vscode": {
   "interpreter": {
    "hash": "6b00ad1606bbcc2f06f6d0dddae4ba1f9f3abf61f006d5f3ac83db30fb57b2e3"
   }
  }
 },
 "nbformat": 4,
 "nbformat_minor": 5
}
