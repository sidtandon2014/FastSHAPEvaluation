{
 "cells": [
  {
   "cell_type": "code",
   "execution_count": 2,
   "id": "planned-niagara",
   "metadata": {},
   "outputs": [],
   "source": [
    "import numpy as np\n",
    "import sys\n",
    "\n",
    "import tensorflow as tf\n",
    "from tensorflow.keras.layers import (Input, Layer, Dense, Lambda, \n",
    "                                     Dropout, Multiply, BatchNormalization, \n",
    "                                     Reshape, Concatenate, Conv2D, Permute)\n",
    "from tensorflow.keras.models import Model, Sequential\n",
    "from tensorflow.keras import regularizers\n",
    "from tensorflow.keras import backend as K\n",
    "from tensorflow.keras.callbacks import ModelCheckpoint, EarlyStopping, ReduceLROnPlateau\n",
    "from tensorflow.keras.layers.experimental.preprocessing import Resizing\n",
    "\n",
    "from tensorflow.keras.datasets import cifar10\n",
    "\n",
    "from datetime import datetime\n",
    "import os\n",
    "\n",
    "#Select GPU\n",
    "os.environ['CUDA_VISIBLE_DEVICES'] = '0'"
   ]
  },
  {
   "cell_type": "code",
   "execution_count": 3,
   "id": "wired-survival",
   "metadata": {},
   "outputs": [],
   "source": [
    "# IMPORTANT: SET RANDOM SEEDS FOR REPRODUCIBILITY\n",
    "os.environ['PYTHONHASHSEED'] = str(420)\n",
    "import random\n",
    "random.seed(420)\n",
    "np.random.seed(420)\n",
    "tf.random.set_seed(420)"
   ]
  },
  {
   "cell_type": "markdown",
   "id": "danish-stereo",
   "metadata": {},
   "source": [
    "# Train Model to Be Explained"
   ]
  },
  {
   "cell_type": "markdown",
   "id": "radical-wisconsin",
   "metadata": {
    "ExecuteTime": {
     "end_time": "2021-03-16T18:52:03.110664Z",
     "start_time": "2021-03-16T18:52:03.106719Z"
    }
   },
   "source": [
    "### Parameters"
   ]
  },
  {
   "cell_type": "code",
   "execution_count": 4,
   "id": "crude-ready",
   "metadata": {
    "ExecuteTime": {
     "end_time": "2021-03-16T19:34:35.186987Z",
     "start_time": "2021-03-16T19:34:35.180960Z"
    }
   },
   "outputs": [],
   "source": [
    "BATCH_SIZE = 32\n",
    "EPOCHS = 100\n",
    "LR = 1e-3\n",
    "INPUT_SHAPE = (224, 224, 3)"
   ]
  },
  {
   "cell_type": "markdown",
   "id": "unavailable-adobe",
   "metadata": {},
   "source": [
    "### Load Data"
   ]
  },
  {
   "cell_type": "code",
   "execution_count": 5,
   "id": "intelligent-guinea",
   "metadata": {
    "ExecuteTime": {
     "end_time": "2021-03-16T19:34:36.732265Z",
     "start_time": "2021-03-16T19:34:36.267950Z"
    },
    "scrolled": false
   },
   "outputs": [
    {
     "name": "stdout",
     "output_type": "stream",
     "text": [
      "50000 train samples\n",
      "5000 val samples\n",
      "5000 test samples\n"
     ]
    },
    {
     "name": "stderr",
     "output_type": "stream",
     "text": [
      "2022-11-13 03:18:23.303085: I tensorflow/stream_executor/cuda/cuda_gpu_executor.cc:980] successful NUMA node read from SysFS had negative value (-1), but there must be at least one NUMA node, so returning NUMA node zero\n",
      "2022-11-13 03:18:23.489407: I tensorflow/stream_executor/cuda/cuda_gpu_executor.cc:980] successful NUMA node read from SysFS had negative value (-1), but there must be at least one NUMA node, so returning NUMA node zero\n",
      "2022-11-13 03:18:23.490501: I tensorflow/stream_executor/cuda/cuda_gpu_executor.cc:980] successful NUMA node read from SysFS had negative value (-1), but there must be at least one NUMA node, so returning NUMA node zero\n",
      "2022-11-13 03:18:23.492808: I tensorflow/core/platform/cpu_feature_guard.cc:193] This TensorFlow binary is optimized with oneAPI Deep Neural Network Library (oneDNN) to use the following CPU instructions in performance-critical operations:  AVX2 FMA\n",
      "To enable them in other operations, rebuild TensorFlow with the appropriate compiler flags.\n",
      "2022-11-13 03:18:23.493316: I tensorflow/stream_executor/cuda/cuda_gpu_executor.cc:980] successful NUMA node read from SysFS had negative value (-1), but there must be at least one NUMA node, so returning NUMA node zero\n",
      "2022-11-13 03:18:23.494228: I tensorflow/stream_executor/cuda/cuda_gpu_executor.cc:980] successful NUMA node read from SysFS had negative value (-1), but there must be at least one NUMA node, so returning NUMA node zero\n",
      "2022-11-13 03:18:23.495073: I tensorflow/stream_executor/cuda/cuda_gpu_executor.cc:980] successful NUMA node read from SysFS had negative value (-1), but there must be at least one NUMA node, so returning NUMA node zero\n",
      "2022-11-13 03:18:24.435889: I tensorflow/stream_executor/cuda/cuda_gpu_executor.cc:980] successful NUMA node read from SysFS had negative value (-1), but there must be at least one NUMA node, so returning NUMA node zero\n",
      "2022-11-13 03:18:24.436976: I tensorflow/stream_executor/cuda/cuda_gpu_executor.cc:980] successful NUMA node read from SysFS had negative value (-1), but there must be at least one NUMA node, so returning NUMA node zero\n",
      "2022-11-13 03:18:24.437866: I tensorflow/stream_executor/cuda/cuda_gpu_executor.cc:980] successful NUMA node read from SysFS had negative value (-1), but there must be at least one NUMA node, so returning NUMA node zero\n",
      "2022-11-13 03:18:24.438645: I tensorflow/core/common_runtime/gpu/gpu_device.cc:1616] Created device /job:localhost/replica:0/task:0/device:GPU:0 with 10992 MB memory:  -> device: 0, name: Tesla T4, pci bus id: 0000:00:04.0, compute capability: 7.5\n"
     ]
    }
   ],
   "source": [
    "from sklearn.model_selection import train_test_split\n",
    "\n",
    "num_classes = 10\n",
    "\n",
    "# the data, split between train and test sets\n",
    "(x_train, y_train), (x_test, y_test) = cifar10.load_data()\n",
    "x_test, x_val, y_test, y_val = train_test_split(x_test, y_test, train_size=0.5, random_state=420)\n",
    "\n",
    "x_train = x_train.astype('float32')\n",
    "x_val = x_val.astype('float32')\n",
    "x_test = x_test.astype('float32')\n",
    "#Resize to 224x224\n",
    "\n",
    "print(x_train.shape[0], 'train samples')\n",
    "print(x_val.shape[0], 'val samples')\n",
    "print(x_test.shape[0], 'test samples')\n",
    "\n",
    "# convert class vectors to binary class matrices\n",
    "y_train = tf.keras.utils.to_categorical(y_train, num_classes)\n",
    "y_val = tf.keras.utils.to_categorical(y_val, num_classes)\n",
    "y_test = tf.keras.utils.to_categorical(y_test, num_classes)\n",
    "\n",
    "# Make TF Dataset\n",
    "ds_train = tf.data.Dataset.from_tensor_slices((x_train, y_train))\n",
    "ds_val = tf.data.Dataset.from_tensor_slices((x_val, y_val))\n",
    "ds_test = tf.data.Dataset.from_tensor_slices((x_test, y_test))"
   ]
  },
  {
   "cell_type": "markdown",
   "id": "young-antibody",
   "metadata": {},
   "source": [
    "### Batch Data"
   ]
  },
  {
   "cell_type": "code",
   "execution_count": 6,
   "id": "mathematical-cartridge",
   "metadata": {
    "ExecuteTime": {
     "end_time": "2021-03-16T19:34:38.036975Z",
     "start_time": "2021-03-16T19:34:38.030145Z"
    }
   },
   "outputs": [],
   "source": [
    "def batch_data(dataset, fn, batch_size=32):\n",
    "    dataset = dataset.map(fn)\n",
    "    dataset = dataset.batch(batch_size)\n",
    "    dataset = dataset.prefetch(tf.data.experimental.AUTOTUNE)\n",
    "    \n",
    "    return dataset"
   ]
  },
  {
   "cell_type": "markdown",
   "id": "electrical-nature",
   "metadata": {},
   "source": [
    "### Reformat Data"
   ]
  },
  {
   "cell_type": "code",
   "execution_count": 7,
   "id": "hungry-master",
   "metadata": {
    "ExecuteTime": {
     "end_time": "2021-03-16T19:34:39.459330Z",
     "start_time": "2021-03-16T19:34:39.356585Z"
    }
   },
   "outputs": [],
   "source": [
    "def reformat(x, y):\n",
    "    \n",
    "    x = tf.cast(x, tf.float32)\n",
    "    x = Resizing(INPUT_SHAPE[0], INPUT_SHAPE[1], interpolation='nearest')(x)\n",
    "    x = tf.keras.applications.resnet50.preprocess_input(x)\n",
    "    \n",
    "    return (x, y)\n",
    "\n",
    "ds_train = batch_data(ds_train, reformat, BATCH_SIZE)\n",
    "ds_val = batch_data(ds_val, reformat, BATCH_SIZE)\n",
    "ds_test = batch_data(ds_test, reformat, BATCH_SIZE)"
   ]
  },
  {
   "cell_type": "markdown",
   "id": "seven-distance",
   "metadata": {},
   "source": [
    "### Model"
   ]
  },
  {
   "cell_type": "code",
   "execution_count": 8,
   "id": "beneficial-attachment",
   "metadata": {
    "ExecuteTime": {
     "end_time": "2021-03-16T19:34:55.664420Z",
     "start_time": "2021-03-16T19:34:51.327748Z"
    }
   },
   "outputs": [
    {
     "name": "stdout",
     "output_type": "stream",
     "text": [
      "Epoch 1/100\n"
     ]
    },
    {
     "name": "stderr",
     "output_type": "stream",
     "text": [
      "2022-11-13 03:18:38.162366: I tensorflow/stream_executor/cuda/cuda_dnn.cc:384] Loaded cuDNN version 8200\n"
     ]
    },
    {
     "name": "stdout",
     "output_type": "stream",
     "text": [
      "1563/1563 [==============================] - ETA: 0s - loss: 0.7585 - auroc: 0.9662 - auprc: 0.8327 - accuracy: 0.7417\n",
      "Epoch 1: val_loss improved from inf to 0.72751, saving model to /home/sidtandon/Sid/GitRepo/iclr-fastshap/fastshap/experiments/images/cifar10/model/20221113_03_18_29/model_weights.h5\n",
      "1563/1563 [==============================] - 530s 331ms/step - loss: 0.7585 - auroc: 0.9662 - auprc: 0.8327 - accuracy: 0.7417 - val_loss: 0.7275 - val_auroc: 0.9677 - val_auprc: 0.8423 - val_accuracy: 0.7532 - lr: 0.0010\n",
      "Epoch 2/100\n",
      "1563/1563 [==============================] - ETA: 0s - loss: 0.4192 - auroc: 0.9886 - auprc: 0.9359 - accuracy: 0.8557\n",
      "Epoch 2: val_loss improved from 0.72751 to 0.56574, saving model to /home/sidtandon/Sid/GitRepo/iclr-fastshap/fastshap/experiments/images/cifar10/model/20221113_03_18_29/model_weights.h5\n",
      "1563/1563 [==============================] - 516s 330ms/step - loss: 0.4192 - auroc: 0.9886 - auprc: 0.9359 - accuracy: 0.8557 - val_loss: 0.5657 - val_auroc: 0.9792 - val_auprc: 0.8953 - val_accuracy: 0.8092 - lr: 0.0010\n",
      "Epoch 3/100\n",
      "1563/1563 [==============================] - ETA: 0s - loss: 0.2829 - auroc: 0.9943 - auprc: 0.9668 - accuracy: 0.9025\n",
      "Epoch 3: val_loss improved from 0.56574 to 0.52687, saving model to /home/sidtandon/Sid/GitRepo/iclr-fastshap/fastshap/experiments/images/cifar10/model/20221113_03_18_29/model_weights.h5\n",
      "1563/1563 [==============================] - 516s 330ms/step - loss: 0.2829 - auroc: 0.9943 - auprc: 0.9668 - accuracy: 0.9025 - val_loss: 0.5269 - val_auroc: 0.9811 - val_auprc: 0.9084 - val_accuracy: 0.8240 - lr: 0.0010\n",
      "Epoch 4/100\n",
      "1563/1563 [==============================] - ETA: 0s - loss: 0.2030 - auroc: 0.9967 - auprc: 0.9807 - accuracy: 0.9298\n",
      "Epoch 4: val_loss did not improve from 0.52687\n",
      "1563/1563 [==============================] - 515s 329ms/step - loss: 0.2030 - auroc: 0.9967 - auprc: 0.9807 - accuracy: 0.9298 - val_loss: 0.6099 - val_auroc: 0.9756 - val_auprc: 0.8907 - val_accuracy: 0.8122 - lr: 0.0010\n",
      "Epoch 5/100\n",
      "1563/1563 [==============================] - ETA: 0s - loss: 0.1443 - auroc: 0.9983 - auprc: 0.9894 - accuracy: 0.9493\n",
      "Epoch 5: val_loss did not improve from 0.52687\n",
      "1563/1563 [==============================] - 514s 329ms/step - loss: 0.1443 - auroc: 0.9983 - auprc: 0.9894 - accuracy: 0.9493 - val_loss: 0.6900 - val_auroc: 0.9698 - val_auprc: 0.8794 - val_accuracy: 0.8096 - lr: 0.0010\n",
      "Epoch 6/100\n",
      "1563/1563 [==============================] - ETA: 0s - loss: 0.1096 - auroc: 0.9989 - auprc: 0.9932 - accuracy: 0.9614\n",
      "Epoch 6: val_loss did not improve from 0.52687\n",
      "\n",
      "Epoch 6: ReduceLROnPlateau reducing learning rate to 0.0009500000451225787.\n",
      "1563/1563 [==============================] - 515s 329ms/step - loss: 0.1096 - auroc: 0.9989 - auprc: 0.9932 - accuracy: 0.9614 - val_loss: 0.5613 - val_auroc: 0.9775 - val_auprc: 0.9164 - val_accuracy: 0.8560 - lr: 0.0010\n",
      "Epoch 7/100\n",
      "1563/1563 [==============================] - ETA: 0s - loss: 0.0786 - auroc: 0.9993 - auprc: 0.9962 - accuracy: 0.9721\n",
      "Epoch 7: val_loss improved from 0.52687 to 0.48747, saving model to /home/sidtandon/Sid/GitRepo/iclr-fastshap/fastshap/experiments/images/cifar10/model/20221113_03_18_29/model_weights.h5\n",
      "1563/1563 [==============================] - 516s 330ms/step - loss: 0.0786 - auroc: 0.9993 - auprc: 0.9962 - accuracy: 0.9721 - val_loss: 0.4875 - val_auroc: 0.9811 - val_auprc: 0.9306 - val_accuracy: 0.8708 - lr: 9.5000e-04\n",
      "Epoch 8/100\n",
      "1563/1563 [==============================] - ETA: 0s - loss: 0.0692 - auroc: 0.9994 - auprc: 0.9968 - accuracy: 0.9762\n",
      "Epoch 8: val_loss did not improve from 0.48747\n",
      "1563/1563 [==============================] - 515s 329ms/step - loss: 0.0692 - auroc: 0.9994 - auprc: 0.9968 - accuracy: 0.9762 - val_loss: 0.5655 - val_auroc: 0.9775 - val_auprc: 0.9177 - val_accuracy: 0.8600 - lr: 9.5000e-04\n",
      "Epoch 9/100\n",
      "1563/1563 [==============================] - ETA: 0s - loss: 0.0601 - auroc: 0.9995 - auprc: 0.9976 - accuracy: 0.9793\n",
      "Epoch 9: val_loss did not improve from 0.48747\n",
      "1563/1563 [==============================] - 515s 329ms/step - loss: 0.0601 - auroc: 0.9995 - auprc: 0.9976 - accuracy: 0.9793 - val_loss: 0.5200 - val_auroc: 0.9797 - val_auprc: 0.9282 - val_accuracy: 0.8682 - lr: 9.5000e-04\n",
      "Epoch 10/100\n",
      "1563/1563 [==============================] - ETA: 0s - loss: 0.0466 - auroc: 0.9996 - auprc: 0.9981 - accuracy: 0.9846\n",
      "Epoch 10: val_loss improved from 0.48747 to 0.47762, saving model to /home/sidtandon/Sid/GitRepo/iclr-fastshap/fastshap/experiments/images/cifar10/model/20221113_03_18_29/model_weights.h5\n",
      "1563/1563 [==============================] - 515s 329ms/step - loss: 0.0466 - auroc: 0.9996 - auprc: 0.9981 - accuracy: 0.9846 - val_loss: 0.4776 - val_auroc: 0.9808 - val_auprc: 0.9378 - val_accuracy: 0.8882 - lr: 9.5000e-04\n",
      "Epoch 11/100\n",
      "1563/1563 [==============================] - ETA: 0s - loss: 0.0443 - auroc: 0.9996 - auprc: 0.9983 - accuracy: 0.9851\n",
      "Epoch 11: val_loss did not improve from 0.47762\n",
      "1563/1563 [==============================] - 514s 329ms/step - loss: 0.0443 - auroc: 0.9996 - auprc: 0.9983 - accuracy: 0.9851 - val_loss: 0.4936 - val_auroc: 0.9804 - val_auprc: 0.9373 - val_accuracy: 0.8880 - lr: 9.5000e-04\n",
      "Epoch 12/100\n",
      "1563/1563 [==============================] - ETA: 0s - loss: 0.0428 - auroc: 0.9996 - auprc: 0.9983 - accuracy: 0.9850\n",
      "Epoch 12: val_loss improved from 0.47762 to 0.45725, saving model to /home/sidtandon/Sid/GitRepo/iclr-fastshap/fastshap/experiments/images/cifar10/model/20221113_03_18_29/model_weights.h5\n",
      "1563/1563 [==============================] - 514s 329ms/step - loss: 0.0428 - auroc: 0.9996 - auprc: 0.9983 - accuracy: 0.9850 - val_loss: 0.4572 - val_auroc: 0.9824 - val_auprc: 0.9442 - val_accuracy: 0.8968 - lr: 9.5000e-04\n",
      "Epoch 13/100\n",
      "1563/1563 [==============================] - ETA: 0s - loss: 0.0381 - auroc: 0.9997 - auprc: 0.9987 - accuracy: 0.9870\n",
      "Epoch 13: val_loss did not improve from 0.45725\n",
      "1563/1563 [==============================] - 514s 329ms/step - loss: 0.0381 - auroc: 0.9997 - auprc: 0.9987 - accuracy: 0.9870 - val_loss: 0.5130 - val_auroc: 0.9792 - val_auprc: 0.9313 - val_accuracy: 0.8864 - lr: 9.5000e-04\n",
      "Epoch 14/100\n",
      "1563/1563 [==============================] - ETA: 0s - loss: 0.0332 - auroc: 0.9997 - auprc: 0.9989 - accuracy: 0.9888\n",
      "Epoch 14: val_loss did not improve from 0.45725\n",
      "1563/1563 [==============================] - 514s 329ms/step - loss: 0.0332 - auroc: 0.9997 - auprc: 0.9989 - accuracy: 0.9888 - val_loss: 0.5462 - val_auroc: 0.9770 - val_auprc: 0.9262 - val_accuracy: 0.8774 - lr: 9.5000e-04\n",
      "Epoch 15/100\n",
      "1563/1563 [==============================] - ETA: 0s - loss: 0.0312 - auroc: 0.9997 - auprc: 0.9990 - accuracy: 0.9899\n",
      "Epoch 15: val_loss did not improve from 0.45725\n",
      "\n",
      "Epoch 15: ReduceLROnPlateau reducing learning rate to 0.0009025000152178108.\n",
      "1563/1563 [==============================] - 513s 328ms/step - loss: 0.0312 - auroc: 0.9997 - auprc: 0.9990 - accuracy: 0.9899 - val_loss: 0.5931 - val_auroc: 0.9744 - val_auprc: 0.9200 - val_accuracy: 0.8756 - lr: 9.5000e-04\n",
      "Epoch 16/100\n",
      "1563/1563 [==============================] - ETA: 0s - loss: 0.0307 - auroc: 0.9997 - auprc: 0.9988 - accuracy: 0.9896\n",
      "Epoch 16: val_loss did not improve from 0.45725\n",
      "1563/1563 [==============================] - 514s 329ms/step - loss: 0.0307 - auroc: 0.9997 - auprc: 0.9988 - accuracy: 0.9896 - val_loss: 0.5692 - val_auroc: 0.9768 - val_auprc: 0.9254 - val_accuracy: 0.8854 - lr: 9.0250e-04\n",
      "Epoch 17/100\n",
      "1563/1563 [==============================] - ETA: 0s - loss: 0.0248 - auroc: 0.9997 - auprc: 0.9991 - accuracy: 0.9914\n",
      "Epoch 17: val_loss did not improve from 0.45725\n",
      "1563/1563 [==============================] - 514s 329ms/step - loss: 0.0248 - auroc: 0.9997 - auprc: 0.9991 - accuracy: 0.9914 - val_loss: 0.7121 - val_auroc: 0.9701 - val_auprc: 0.9047 - val_accuracy: 0.8608 - lr: 9.0250e-04\n",
      "Epoch 18/100\n",
      "1563/1563 [==============================] - ETA: 0s - loss: 0.0221 - auroc: 0.9998 - auprc: 0.9992 - accuracy: 0.9922\n",
      "Epoch 18: val_loss did not improve from 0.45725\n",
      "\n",
      "Epoch 18: ReduceLROnPlateau reducing learning rate to 0.0008573750033974647.\n",
      "1563/1563 [==============================] - 514s 329ms/step - loss: 0.0221 - auroc: 0.9998 - auprc: 0.9992 - accuracy: 0.9922 - val_loss: 0.5240 - val_auroc: 0.9778 - val_auprc: 0.9294 - val_accuracy: 0.8858 - lr: 9.0250e-04\n",
      "Epoch 19/100\n",
      "1563/1563 [==============================] - ETA: 0s - loss: 0.0209 - auroc: 0.9997 - auprc: 0.9992 - accuracy: 0.9936\n",
      "Epoch 19: val_loss did not improve from 0.45725\n",
      "1563/1563 [==============================] - 513s 328ms/step - loss: 0.0209 - auroc: 0.9997 - auprc: 0.9992 - accuracy: 0.9936 - val_loss: 0.8119 - val_auroc: 0.9661 - val_auprc: 0.8926 - val_accuracy: 0.8578 - lr: 8.5737e-04\n",
      "Epoch 20/100\n",
      "1563/1563 [==============================] - ETA: 0s - loss: 0.0223 - auroc: 0.9998 - auprc: 0.9994 - accuracy: 0.9922\n",
      "Epoch 20: val_loss did not improve from 0.45725\n",
      "1563/1563 [==============================] - 513s 328ms/step - loss: 0.0223 - auroc: 0.9998 - auprc: 0.9994 - accuracy: 0.9922 - val_loss: 0.5070 - val_auroc: 0.9793 - val_auprc: 0.9357 - val_accuracy: 0.8956 - lr: 8.5737e-04\n",
      "Epoch 21/100\n",
      "1563/1563 [==============================] - ETA: 0s - loss: 0.0177 - auroc: 0.9998 - auprc: 0.9993 - accuracy: 0.9940\n",
      "Epoch 21: val_loss did not improve from 0.45725\n",
      "\n",
      "Epoch 21: ReduceLROnPlateau reducing learning rate to 0.0008145062311086804.\n",
      "1563/1563 [==============================] - 514s 329ms/step - loss: 0.0177 - auroc: 0.9998 - auprc: 0.9993 - accuracy: 0.9940 - val_loss: 0.5493 - val_auroc: 0.9776 - val_auprc: 0.9314 - val_accuracy: 0.8930 - lr: 8.5737e-04\n",
      "Epoch 22/100\n",
      "1563/1563 [==============================] - ETA: 0s - loss: 0.0160 - auroc: 0.9998 - auprc: 0.9995 - accuracy: 0.9949\n",
      "Epoch 22: val_loss did not improve from 0.45725\n",
      "1563/1563 [==============================] - 513s 328ms/step - loss: 0.0160 - auroc: 0.9998 - auprc: 0.9995 - accuracy: 0.9949 - val_loss: 0.6093 - val_auroc: 0.9731 - val_auprc: 0.9176 - val_accuracy: 0.8752 - lr: 8.1451e-04\n",
      "/home/sidtandon/Sid/GitRepo/iclr-fastshap/fastshap/experiments/images/cifar10/model/20221113_03_18_29/model_weights.h5\n",
      "157/157 [==============================] - 15s 93ms/step - loss: 0.5006 - auroc: 0.9798 - auprc: 0.9370 - accuracy: 0.8864\n"
     ]
    },
    {
     "data": {
      "text/plain": [
       "[0.5006045699119568, 0.97981196641922, 0.9370007514953613, 0.8863999843597412]"
      ]
     },
     "execution_count": 8,
     "metadata": {},
     "output_type": "execute_result"
    }
   ],
   "source": [
    "from tensorflow.keras.applications.resnet50 import ResNet50\n",
    "\n",
    "base_model = ResNet50(\n",
    "    include_top=False, weights='imagenet', \n",
    "    input_shape=INPUT_SHAPE, pooling='avg'\n",
    ")\n",
    "base_model.trainable = True\n",
    "\n",
    "model_input = Input(shape=INPUT_SHAPE, name='input')\n",
    "\n",
    "net = base_model(model_input)\n",
    "out = Dense(10, activation='softmax')(net)\n",
    "\n",
    "model = Model(model_input, out)\n",
    "\n",
    "# Metrics\n",
    "METRICS = [ \n",
    "  tf.keras.metrics.AUC(name='auroc'),\n",
    "  tf.keras.metrics.AUC(curve='PR', name='auprc'),\n",
    "  tf.keras.metrics.TopKCategoricalAccuracy(k=1, name='accuracy'),\n",
    "]\n",
    "\n",
    "# Model Checkpointing\n",
    "time = datetime.now().strftime(\"%Y%m%d_%H_%M_%S\")\n",
    "save_dir = 'model'\n",
    "model_dir = os.path.join(os.getcwd(), save_dir, time)\n",
    "if not os.path.isdir(model_dir):\n",
    "    os.makedirs(model_dir)\n",
    "model_weights_path = os.path.join(model_dir, 'model_weights.h5')\n",
    "checkpoint = ModelCheckpoint(model_weights_path, monitor='val_loss', verbose=1, \n",
    "                             save_best_only=True, mode='min', save_weights_only=True)\n",
    "\n",
    "# LR Schedule\n",
    "reduceLR = ReduceLROnPlateau(monitor='val_loss', factor=0.95, patience=3, \n",
    "                             verbose=1, mode='min', cooldown=1, min_lr=1e-4)\n",
    "\n",
    "# Early Stopping \n",
    "earlyStop = EarlyStopping(monitor=\"val_loss\", mode=\"min\", patience=10) \n",
    "\n",
    "# Compile Model\n",
    "CALLBACKS = [checkpoint, earlyStop, reduceLR]\n",
    "OPTIMIZER = tf.keras.optimizers.Adam(LR)\n",
    "\n",
    "model.compile(\n",
    "    loss='categorical_crossentropy',\n",
    "    optimizer=OPTIMIZER,\n",
    "    metrics=METRICS,\n",
    ")\n",
    "\n",
    "# Train Model\n",
    "model.fit(ds_train,\n",
    "          epochs = EPOCHS,\n",
    "          validation_data = ds_val,\n",
    "          callbacks = CALLBACKS)\n",
    "\n",
    "# Get Checkpointed Model\n",
    "print(model_weights_path)\n",
    "model.load_weights(model_weights_path)\n",
    "model.trainable = False\n",
    "\n",
    "# Evaluate\n",
    "model.evaluate(ds_test)"
   ]
  },
  {
   "cell_type": "markdown",
   "id": "august-shift",
   "metadata": {},
   "source": [
    "# Save Images"
   ]
  },
  {
   "cell_type": "code",
   "execution_count": 9,
   "id": "early-commons",
   "metadata": {},
   "outputs": [
    {
     "name": "stdout",
     "output_type": "stream",
     "text": [
      "32/32 [==============================] - 4s 93ms/step\n"
     ]
    }
   ],
   "source": [
    "#Get Directory \n",
    "save_dir = 'images'\n",
    "images_dir = os.path.join(os.getcwd(), save_dir)\n",
    "if not os.path.isdir(images_dir):\n",
    "    os.makedirs(images_dir)\n",
    "    \n",
    "#unbatch\n",
    "ds_test = ds_test.unbatch()\n",
    "    \n",
    "# Load 1,000 Images\n",
    "processed_imgs = []\n",
    "labels = []\n",
    "for i, (x, y) in enumerate(ds_test):\n",
    "    processed_imgs.append(x.numpy())\n",
    "    labels.append(y.numpy())\n",
    "    if i >= 999:\n",
    "        break\n",
    "        \n",
    "# imgs = np.array(imgs)\n",
    "processed_imgs = np.array(processed_imgs)\n",
    "labels = np.array(labels)\n",
    "\n",
    "# imgs.dump(os.path.join(images_dir, 'images.npy'))\n",
    "processed_imgs.dump(os.path.join(images_dir, 'processed_images.npy'))\n",
    "labels.dump(os.path.join(images_dir, 'labels.npy'))\n",
    "\n",
    "#predictions\n",
    "predictions = model.predict(processed_imgs)\n",
    "predictions.dump(os.path.join(images_dir, 'predictions.npy'))"
   ]
  }
 ],
 "metadata": {
  "kernelspec": {
   "display_name": "Python 3.9.13 ('.venv': venv)",
   "language": "python",
   "name": "python3"
  },
  "language_info": {
   "codemirror_mode": {
    "name": "ipython",
    "version": 3
   },
   "file_extension": ".py",
   "mimetype": "text/x-python",
   "name": "python",
   "nbconvert_exporter": "python",
   "pygments_lexer": "ipython3",
   "version": "3.9.13"
  },
  "vscode": {
   "interpreter": {
    "hash": "b5e235a35a085e65ab154b6705f070b43334078fc98ad35254adcbf0a47f693f"
   }
  }
 },
 "nbformat": 4,
 "nbformat_minor": 5
}
